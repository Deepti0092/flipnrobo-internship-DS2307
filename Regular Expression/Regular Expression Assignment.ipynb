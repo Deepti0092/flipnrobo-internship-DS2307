{
 "cells": [
  {
   "cell_type": "code",
   "execution_count": 2,
   "id": "64595649",
   "metadata": {},
   "outputs": [],
   "source": [
    "import pandas as pd\n",
    "import re\n"
   ]
  },
  {
   "cell_type": "code",
   "execution_count": 3,
   "id": "b61e116d",
   "metadata": {},
   "outputs": [
    {
     "name": "stdout",
     "output_type": "stream",
     "text": [
      "Python:Exercises::PHP:exercises:\n"
     ]
    }
   ],
   "source": [
    "#Ans1\n",
    "\n",
    "\n",
    "Text='Python Exercises, PHP exercises.'\n",
    "output=re.sub(\"[ ,.]\", \":\", Text)\n",
    "print(output)"
   ]
  },
  {
   "cell_type": "code",
   "execution_count": 57,
   "id": "48e4ee2a",
   "metadata": {},
   "outputs": [
    {
     "name": "stdout",
     "output_type": "stream",
     "text": [
      "['elements', 'are', 'array']\n"
     ]
    }
   ],
   "source": [
    "# Ans2\n",
    "text11 = \"All elements are in array in list\"\n",
    "\n",
    "res = re.findall(\"[ae]\\w+\", text11)\n",
    "\n",
    "print(res)"
   ]
  },
  {
   "cell_type": "code",
   "execution_count": 4,
   "id": "56a9accd",
   "metadata": {},
   "outputs": [
    {
     "data": {
      "text/plain": [
       "['Sanu', 'good']"
      ]
     },
     "execution_count": 4,
     "metadata": {},
     "output_type": "execute_result"
    }
   ],
   "source": [
    "#Ans3\n",
    "\n",
    "\n",
    "def four_letter_word(input_text):\n",
    "    pattern=re.compile(r\"\\b\\w{4}\\b\")\n",
    "    result=pattern.findall(input_text)\n",
    "    return result\n",
    "\n",
    "input_text=\"Sanu is good\"\n",
    "four_letter_word(input_text)"
   ]
  },
  {
   "cell_type": "code",
   "execution_count": 5,
   "id": "9ff470ab",
   "metadata": {},
   "outputs": [
    {
     "data": {
      "text/plain": [
       "['Earth', 'round', 'shape', 'and', 'look', 'nice']"
      ]
     },
     "execution_count": 5,
     "metadata": {},
     "output_type": "execute_result"
    }
   ],
   "source": [
    "#Ans4\n",
    "def find_letter_word(input_text):\n",
    "    pattern=re.compile(r\"\\b\\w{3,5}\\b\")\n",
    "    result=pattern.findall(input_text)\n",
    "    return result\n",
    "\n",
    "input_text=\"Earth is round in shape and look so nice\"\n",
    "find_letter_word(input_text)"
   ]
  },
  {
   "cell_type": "code",
   "execution_count": 76,
   "id": "5e83ee0b",
   "metadata": {},
   "outputs": [
    {
     "name": "stdout",
     "output_type": "stream",
     "text": [
      "example .com\n",
      "hr@fliprobo .com\n",
      "github .com\n",
      "Hello Data Science World\n",
      "Data Scientist\n"
     ]
    }
   ],
   "source": [
    "#Ans5\n",
    "\n",
    "def remove_parenthesis(list_of_string):\n",
    "    for text in list_of_string:\n",
    "        p = re.compile(r'[\\([{})\\]]')\n",
    "        print(re.sub(p, '', text))\n",
    "remove_parenthesis([\"example (.com)\", \"hr@fliprobo (.com)\", \"github (.com)\", \"Hello (Data Science World)\", \"Data (Scientist)\"])"
   ]
  },
  {
   "cell_type": "code",
   "execution_count": 7,
   "id": "6002ef1e",
   "metadata": {},
   "outputs": [
    {
     "name": "stdout",
     "output_type": "stream",
     "text": [
      "['example ', 'hr@fliprobo ', 'github ', 'Hello ', 'Data ']\n"
     ]
    }
   ],
   "source": [
    "#Ans6\n",
    "\n",
    "Sample_Text=[\"example (.com)\", \"hr@fliprobo (.com)\", \"github (.com)\", \"Hello (Data Science World)\", \"Data (Scientist)\"]\n",
    "tolist = []\n",
    "for text in Sample_Text:   \n",
    "  #a = re.sub(r'\\(.*\\)', '',num)\n",
    "    p = re.compile(r'\\([^)]*\\)')\n",
    "    res=re.sub(p, '', text)\n",
    "   \n",
    "    tolist.append(res)\n",
    "    \n",
    "print(tolist)"
   ]
  },
  {
   "cell_type": "code",
   "execution_count": 8,
   "id": "695a6d7b",
   "metadata": {},
   "outputs": [
    {
     "name": "stdout",
     "output_type": "stream",
     "text": [
      "['Importance', 'Of', 'Regular', 'Expressions', 'In', 'Python']\n"
     ]
    }
   ],
   "source": [
    "#Ans7\n",
    "\n",
    "Sample_text = \"ImportanceOfRegularExpressionsInPython\"\n",
    "res = re.findall('[A-Z][^A-Z]*', Sample_text)\n",
    "print(res)"
   ]
  },
  {
   "cell_type": "code",
   "execution_count": 75,
   "id": "6777ef75",
   "metadata": {},
   "outputs": [
    {
     "data": {
      "text/plain": [
       "'RegularExpression 1IsAn 2ImportantTopic 3InPython'"
      ]
     },
     "execution_count": 75,
     "metadata": {},
     "output_type": "execute_result"
    }
   ],
   "source": [
    "# Ans8\n",
    "\n",
    "def number_space(str11):\n",
    "      #return re.sub('(\\d+(\\.\\d+)?)', r' \\1 \\2', str11)\n",
    "        return re.sub('(\\d)', r' \\1', str11)\n",
    "    \n",
    "text2='RegularExpression1IsAn2ImportantTopic3InPython'\n",
    "number_space(text2)"
   ]
  },
  {
   "cell_type": "code",
   "execution_count": 9,
   "id": "fa73b558",
   "metadata": {},
   "outputs": [
    {
     "name": "stdout",
     "output_type": "stream",
     "text": [
      "RegularExpression 1 IsAn 2 ImportantTopic 3 InPython\n"
     ]
    }
   ],
   "source": [
    "#Ans9\n",
    "\n",
    "def insert_spaces2(text):\n",
    "        result = re.sub('(\\d+(\\.\\d+)?)', r' \\1 ', text)\n",
    "        print(result)\n",
    "    \n",
    "text='RegularExpression1IsAn2ImportantTopic3InPython'\n",
    "insert_spaces2(text)"
   ]
  },
  {
   "cell_type": "code",
   "execution_count": 10,
   "id": "57745665",
   "metadata": {},
   "outputs": [
    {
     "name": "stdout",
     "output_type": "stream",
     "text": [
      "['xyz@domain.com', 'xyz.abc@sdomain.domain.com.', 'hr@fliprobo.com']\n"
     ]
    }
   ],
   "source": [
    "#Ans10\n",
    "\n",
    "input_text1=\"\"\"Hello my name is Data Science and my email address is xyz@domain.com and alternate email address is xyz.abc@sdomain.domain.com. \n",
    "Please contact us at hr@fliprobo.com for further information.\"\"\"\n",
    "\n",
    "list_of_mail = re.findall('\\S+@\\S+', input_text1)     \n",
    "  \n",
    "# Printing of List \n",
    "print(list_of_mail)\n"
   ]
  },
  {
   "cell_type": "code",
   "execution_count": 11,
   "id": "9f67504e",
   "metadata": {},
   "outputs": [
    {
     "name": "stdout",
     "output_type": "stream",
     "text": [
      "Not matched!\n",
      "Found a match!\n"
     ]
    }
   ],
   "source": [
    "#Ans11\n",
    "\n",
    "def text_match(text3):\n",
    "        patterns = '^[a-zA-Z0-9_]*$'\n",
    "        if re.search(patterns,  text3):\n",
    "                return 'Found a match!'\n",
    "        else:\n",
    "                return('Not matched!')\n",
    "\n",
    "print(text_match(\"The wheels of the bus are round in shape \"))\n",
    "print(text_match(\"Python_Exercises_1\"))\n"
   ]
  },
  {
   "cell_type": "code",
   "execution_count": 214,
   "id": "7af441bb",
   "metadata": {},
   "outputs": [
    {
     "name": "stdout",
     "output_type": "stream",
     "text": [
      "True\n",
      "False\n"
     ]
    }
   ],
   "source": [
    "#Ans12\n",
    "\n",
    "#Assume number startith 8\n",
    "def found_num(string):\n",
    "    text = re.compile(r\"^8\")\n",
    "    if text.match(string):\n",
    "        return True\n",
    "    else:\n",
    "        return False\n",
    "print(found_num('8-2645764'))\n",
    "print(found_num('4-2345669'))"
   ]
  },
  {
   "cell_type": "code",
   "execution_count": 219,
   "id": "a4010508",
   "metadata": {},
   "outputs": [
    {
     "name": "stdout",
     "output_type": "stream",
     "text": [
      "10.0.2.20\n"
     ]
    }
   ],
   "source": [
    "#Ans13\n",
    "\n",
    "def remove_zero_ip(ip_address):\n",
    "    address=re.sub('(^|\\.)0+(?=[^.])', r'\\1', ip_address)\n",
    "    print(address)\n",
    "    \n",
    "    \n",
    "ip_add='10.00.002.20'\n",
    "remove_zero_ip(ip_add)"
   ]
  },
  {
   "cell_type": "code",
   "execution_count": 240,
   "id": "2d5044c3",
   "metadata": {},
   "outputs": [
    {
     "name": "stdout",
     "output_type": "stream",
     "text": [
      "August 15th 1947\n"
     ]
    }
   ],
   "source": [
    "#Ans14\n",
    "\n",
    "text_sample = \"On August 15th 1947 that India was declared independent from British colonialism, and the reins of control were handed over to the leaders of the Country.\"\n",
    "pattern = re.compile(\n",
    "    \"(Jan(uary)?|Feb(ruary)?|Mar(ch)?|Apr(il)?|May|Jun(e)?|\"\n",
    "    \"Jul(y)?|Aug(ust)?|Sep(tember)?|Oct(ober)?|Nov(ember)?|\"\n",
    "    \"Dec(ember)?)\\s+(\\d{1,2}(st|nd|rd|th)?)?\\s+\\d{4}\")\n",
    "\n",
    "\n",
    "#print(pattern.search(text_sample))\n",
    "print(pattern.search(text_sample).group())"
   ]
  },
  {
   "cell_type": "code",
   "execution_count": 246,
   "id": "bc71233f",
   "metadata": {},
   "outputs": [
    {
     "name": "stdout",
     "output_type": "stream",
     "text": [
      "Searching for \"fox\" in \"The quick brown fox jumps over the lazy dog.\"\n",
      "found!\n",
      "Searching for \"dog\" in \"The quick brown fox jumps over the lazy dog.\"\n",
      "found!\n",
      "Searching for \"horse\" in \"The quick brown fox jumps over the lazy dog.\"\n",
      "Not found!\n"
     ]
    }
   ],
   "source": [
    "#Ans15\n",
    "search_words = [ 'fox', 'dog', 'horse' ]\n",
    "text = 'The quick brown fox jumps over the lazy dog.'\n",
    "for word in search_words:\n",
    "    print('Searching for \"{0}\" in \"{1}\"'.format(word, text))\n",
    "    if re.search(word,  text):\n",
    "        print('found!')\n",
    "    else:\n",
    "        print('Not found!')\n",
    "\n"
   ]
  },
  {
   "cell_type": "code",
   "execution_count": 247,
   "id": "b1c89142",
   "metadata": {},
   "outputs": [
    {
     "name": "stdout",
     "output_type": "stream",
     "text": [
      "Found \"fox\" in \"The quick brown fox jumps over the lazy dog.\" from 16 to 19 \n"
     ]
    }
   ],
   "source": [
    "#Ans16\n",
    "\n",
    "pattern = 'fox'\n",
    "text_sp = 'The quick brown fox jumps over the lazy dog.'\n",
    "match = re.search(pattern, text_sp)\n",
    "s = match.start()\n",
    "e = match.end()\n",
    "print('Found \"{}\" in \"{}\" from {} to {} '.format(match.re.pattern, match.string, s, e))"
   ]
  },
  {
   "cell_type": "code",
   "execution_count": 250,
   "id": "788c5abc",
   "metadata": {},
   "outputs": [
    {
     "name": "stdout",
     "output_type": "stream",
     "text": [
      "Found \"exercises\"\n",
      "Found \"exercises\"\n",
      "Found \"exercises\"\n"
     ]
    }
   ],
   "source": [
    "#Ans17\n",
    "\n",
    "MyString1 ='Python exercises, PHP exercises, C# exercises'\n",
    "  \n",
    "pattern = 'exercises'\n",
    "for match in re.findall(pattern, MyString1):\n",
    "    print('Found \"{}\"'.format(match))"
   ]
  },
  {
   "cell_type": "code",
   "execution_count": 251,
   "id": "b0f800b9",
   "metadata": {},
   "outputs": [
    {
     "name": "stdout",
     "output_type": "stream",
     "text": [
      "Found \"exercises\" at 7:16\n",
      "Found \"exercises\" at 22:31\n",
      "Found \"exercises\" at 36:45\n"
     ]
    }
   ],
   "source": [
    "#Ans18\n",
    "\n",
    "\n",
    "text = 'Python exercises, PHP exercises, C# exercises'\n",
    "pattern = 'exercises'\n",
    "for match in re.finditer(pattern, text):\n",
    "    s = match.start()\n",
    "    e = match.end()\n",
    "    print('Found \"%s\" at %d:%d' % (text[s:e], s, e))"
   ]
  },
  {
   "cell_type": "code",
   "execution_count": 253,
   "id": "192e0397",
   "metadata": {},
   "outputs": [
    {
     "name": "stdout",
     "output_type": "stream",
     "text": [
      "New date in DD-MM-YYYY Format:  02-01-1992\n"
     ]
    }
   ],
   "source": [
    "#Ans19\n",
    "\n",
    "def date_format(date):\n",
    "        return re.sub(r'(\\d{4})-(\\d{1,2})-(\\d{1,2})', '\\\\3-\\\\2-\\\\1', date)\n",
    "date1 = \"1992-01-02\"\n",
    "print(\"New date in DD-MM-YYYY Format: \",date_format(date1))"
   ]
  },
  {
   "cell_type": "code",
   "execution_count": 276,
   "id": "4d3e7da4",
   "metadata": {},
   "outputs": [
    {
     "name": "stdout",
     "output_type": "stream",
     "text": [
      "<re.Match object; span=(0, 6), match='123.11'>\n",
      "<re.Match object; span=(0, 5), match='123.1'>\n",
      "<re.Match object; span=(0, 3), match='123'>\n",
      "None\n"
     ]
    }
   ],
   "source": [
    "#Ans20\n",
    "\n",
    "def is_decimal(num):\n",
    "    dnum = re.compile(r'^[0-9]+(\\.[0-9]{1,2})?$')\n",
    "    result = dnum.match(num)\n",
    "    return result\n",
    "\n",
    "    \n",
    "\n",
    "print(is_decimal('123.11'))\n",
    "print(is_decimal('123.1'))\n",
    "print(is_decimal('123'))\n",
    "print(is_decimal('0.213'))"
   ]
  },
  {
   "cell_type": "code",
   "execution_count": 20,
   "id": "4fca306f",
   "metadata": {},
   "outputs": [
    {
     "name": "stdout",
     "output_type": "stream",
     "text": [
      "5\n",
      "Index position: 18\n"
     ]
    }
   ],
   "source": [
    "#Ans21\n",
    "\n",
    "\n",
    "text = \"Deepti is born on 5\"\n",
    "\n",
    "for m in re.finditer(\"\\d+\", text):\n",
    "    print(m.group(0))\n",
    "    print(\"Index position:\", m.start())"
   ]
  },
  {
   "cell_type": "code",
   "execution_count": 24,
   "id": "061e5cee",
   "metadata": {},
   "outputs": [
    {
     "name": "stdout",
     "output_type": "stream",
     "text": [
      "950\n"
     ]
    }
   ],
   "source": [
    "#Ans22\n",
    "\n",
    "def find_max(input_lst):\n",
    "    num=re.findall('\\d+',input_lst)\n",
    "    num=map(int,num)\n",
    "    print(max(num))\n",
    "    \n",
    "str_sample='My marks in each semester are: 947, 896, 926, 524, 734, 950, 642'\n",
    "find_max(str_sample)"
   ]
  },
  {
   "cell_type": "code",
   "execution_count": 60,
   "id": "0d2b1e0b",
   "metadata": {},
   "outputs": [
    {
     "name": "stdout",
     "output_type": "stream",
     "text": [
      "Importance Of Regular Expressions In Python\n"
     ]
    }
   ],
   "source": [
    "#Ans23\n",
    "\n",
    "def insert_spaces_capital(text):\n",
    "        result = re.sub(r\"(\\w)([A-Z])\", r\"\\1 \\2\", text)\n",
    "        print(result)\n",
    "    \n",
    "text=\"ImportanceOfRegularExpressionsInPython\"\n",
    "insert_spaces_capital(text)"
   ]
  },
  {
   "cell_type": "code",
   "execution_count": 28,
   "id": "fb8f09c4",
   "metadata": {},
   "outputs": [
    {
     "name": "stdout",
     "output_type": "stream",
     "text": [
      "Yes\n",
      "No\n",
      "No\n"
     ]
    }
   ],
   "source": [
    "#Ans24\n",
    "\n",
    "def text_match(text):\n",
    "        patterns = '[A-Z]+[a-z]+$'\n",
    "        if re.search(patterns, text):\n",
    "                return \"Yes\"\n",
    "        else:\n",
    "                return \"No\"\n",
    "            \n",
    "print(text_match(\"Python\"))\n",
    "print(text_match(\"good\"))\n",
    "print(text_match(\"PYTHON\"))"
   ]
  },
  {
   "cell_type": "code",
   "execution_count": 30,
   "id": "88b19000",
   "metadata": {},
   "outputs": [
    {
     "data": {
      "text/plain": [
       "'Hello hello world'"
      ]
     },
     "execution_count": 30,
     "metadata": {},
     "output_type": "execute_result"
    }
   ],
   "source": [
    "#Ans25\n",
    "\n",
    "def remove_dup(input_text):\n",
    "    pattern=r'\\b(\\w+)(?:\\W+\\1\\b)+' \n",
    "    return re.sub(pattern, r'\\1', input_text)\n",
    "\n",
    "sample1=\"Hello hello world world\"\n",
    "remove_dup(sample1)"
   ]
  },
  {
   "cell_type": "code",
   "execution_count": 33,
   "id": "1b9fe8b4",
   "metadata": {},
   "outputs": [
    {
     "name": "stdout",
     "output_type": "stream",
     "text": [
      "Accepted\n",
      "Not accepted\n"
     ]
    }
   ],
   "source": [
    "#Ans26\n",
    "\n",
    "regex = '[a-zA-z0-9]$'\n",
    "\n",
    "def check_str(sample_str1):\n",
    "    \n",
    "    if re.search(regex,sample_str1):\n",
    "        print(\"Accepted\")\n",
    "        \n",
    "    else:\n",
    "        print(\"Not accepted\")\n",
    "\n",
    "check_str(\"deep0425\")\n",
    "check_str(\"deepti.\")"
   ]
  },
  {
   "cell_type": "code",
   "execution_count": 43,
   "id": "5d413cae",
   "metadata": {},
   "outputs": [
    {
     "name": "stdout",
     "output_type": "stream",
     "text": [
      "['#Doltiwal', '#xyzabc', '#Demonetization']\n"
     ]
    }
   ],
   "source": [
    "#Ans27\n",
    "\n",
    "texts = 'RT @kapil_kausik: #Doltiwal I mean #xyzabc is \"hurt\" by #Demonetization as the same has rendered USELESS <ed><U+00A0><U+00BD><ed><U+00B1><U+0089> \"acquired funds\" No wo'\n",
    "\n",
    "\n",
    "pattern = r'#\\S+'\n",
    "\n",
    "for text in texts:\n",
    "    print(re.findall(pattern, texts))\n",
    "    break"
   ]
  },
  {
   "cell_type": "code",
   "execution_count": 51,
   "id": "29d49896",
   "metadata": {},
   "outputs": [
    {
     "data": {
      "text/plain": [
       "'@Jags123456 Bharat band on 28??<ed><ed>Those who  are protesting #demonetization  are all different party leaders'"
      ]
     },
     "execution_count": 51,
     "metadata": {},
     "output_type": "execute_result"
    }
   ],
   "source": [
    "#Ans28\n",
    "\n",
    "def remove_symbols(text):\n",
    "    pattern = r\"<U\\+[A-Z0-9]+>\"\n",
    "    final_text = re.sub(pattern, \"\", text)\n",
    "    return final_text\n",
    "\n",
    "\n",
    "text4=\"@Jags123456 Bharat band on 28??<ed><U+00A0><U+00BD><ed><U+00B8><U+0082>Those who  are protesting #demonetization  are all different party leaders\"\n",
    "remove_symbols(text4)"
   ]
  },
  {
   "cell_type": "code",
   "execution_count": 54,
   "id": "ed0e2672",
   "metadata": {},
   "outputs": [
    {
     "name": "stdout",
     "output_type": "stream",
     "text": [
      "['12-09-1992', '15-12-1999']\n"
     ]
    }
   ],
   "source": [
    "#Ans29\n",
    "\n",
    "text6 = \"Ron was born on 12-09-1992 and he was admitted to school 15-12-1999.\"\n",
    "\n",
    "pattern = \"\\d{2}[/-]\\d{2}[/-]\\d{4}\"\n",
    "# match a regex pattern for formatted dates\n",
    "matches = re.findall(pattern,text6)\n",
    "\n",
    "print(matches)"
   ]
  },
  {
   "cell_type": "code",
   "execution_count": 56,
   "id": "c9b17a71",
   "metadata": {},
   "outputs": [
    {
     "data": {
      "text/plain": [
       "' following example creates ArrayList a capacity elements. 4 elements ArrayList ArrayList trimmed accordingly.'"
      ]
     },
     "execution_count": 56,
     "metadata": {},
     "output_type": "execute_result"
    }
   ],
   "source": [
    "#Ans30\n",
    "def lenth_chr_remove(input_text1):\n",
    "    pattern = re.compile(r'\\W*\\b\\w{2,5}\\b')\n",
    "    result=pattern.sub('',input_text1)\n",
    "    return result\n",
    "    \n",
    "sample_txt=\"The following example creates an ArrayList with a capacity of 50 elements. 4 elements are then added to the ArrayList and the ArrayList is trimmed accordingly.\"\n",
    "lenth_chr_remove(sample_txt)"
   ]
  }
 ],
 "metadata": {
  "kernelspec": {
   "display_name": "Python 3 (ipykernel)",
   "language": "python",
   "name": "python3"
  },
  "language_info": {
   "codemirror_mode": {
    "name": "ipython",
    "version": 3
   },
   "file_extension": ".py",
   "mimetype": "text/x-python",
   "name": "python",
   "nbconvert_exporter": "python",
   "pygments_lexer": "ipython3",
   "version": "3.9.7"
  }
 },
 "nbformat": 4,
 "nbformat_minor": 5
}
