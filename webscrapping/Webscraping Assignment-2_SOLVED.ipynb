{
 "cells": [
  {
   "cell_type": "markdown",
   "id": "7e21bfdd",
   "metadata": {},
   "source": [
    "1)Write a python program to scrape data for “Data Analyst” Job position in “Bangalore” location. You have to scrape the job-title, job-location, company_name, experience_required. You have to scrape first 10 jobs data.\n",
    "This task will be done in following steps:\n",
    "1.\tFirst get the webpage https://www.shine.com/\n",
    "2.\tEnter “Data Analyst” in “Job title, Skills” field and enter “Bangalore” in “enter the location” field.\n",
    "3.\tThen click the searchbutton.\n",
    "4.\tThen scrape the data for the first 10 jobs results you get.\n",
    "5.\tFinally create a dataframe of the scraped data.\n"
   ]
  },
  {
   "cell_type": "code",
   "execution_count": 41,
   "id": "0c6989ff",
   "metadata": {},
   "outputs": [],
   "source": [
    "import selenium\n",
    "import pandas as pd\n",
    "from selenium import webdriver\n",
    "from selenium.webdriver.chrome.options import Options\n",
    "import warnings\n",
    "warnings.filterwarnings(\"ignore\")\n",
    "import time\n",
    "from selenium.webdriver.common.by import By\n",
    "from selenium.webdriver.support.select import Select\n"
   ]
  },
  {
   "cell_type": "code",
   "execution_count": 191,
   "id": "97338f28",
   "metadata": {},
   "outputs": [],
   "source": [
    "#for blocking the notification\n",
    "option = Options()\n",
    "\n",
    "option.add_argument(\"--disable-infobars\")\n",
    "option.add_argument(\"start-maximized\")\n",
    "option.add_argument(\"--disable-extensions\")\n",
    "\n",
    "# Pass the argument 1 to allow and 2 to block\n",
    "option.add_experimental_option(\"prefs\", { \n",
    "    \"profile.default_content_setting_values.notifications\": 1 \n",
    "})\n",
    "\n",
    "\n",
    "#web_driver=webdriver.Chrome(r\"C:\\Learning\\FLIPNROBO\\chromedriver-win64\\chromedriver.exe\")\n",
    "web_driver=webdriver.Chrome(chrome_options=option, executable_path=\"C:\\Learning\\FLIPNROBO\\chromedriver-win64\\chromedriver.exe\")"
   ]
  },
  {
   "cell_type": "code",
   "execution_count": 192,
   "id": "b1393521",
   "metadata": {},
   "outputs": [],
   "source": [
    "#1.First get the webpage https://www.shine.com/\n",
    "\n",
    "url = \"https://www.shine.com/\"\n",
    "web_driver.get(url)\n"
   ]
  },
  {
   "cell_type": "code",
   "execution_count": 193,
   "id": "df91894e",
   "metadata": {},
   "outputs": [],
   "source": [
    "#Enter “Data Analyst” in “Job title, Skills” field and enter “Bangalore” in “enter the location” field.\n",
    "\n",
    "Job_title = web_driver.find_element_by_xpath('//input[@type=\"text\" and @id=\"id_q\"]')\n",
    "Job_title\n",
    "Job_title.send_keys('Data Analyst')\n"
   ]
  },
  {
   "cell_type": "code",
   "execution_count": 194,
   "id": "2e03b646",
   "metadata": {},
   "outputs": [],
   "source": [
    "Job_location = web_driver.find_element_by_xpath('//input[@type=\"text\" and @id=\"id_loc\"]')\n",
    "Job_location\n",
    "Job_location.send_keys('Bangalore')"
   ]
  },
  {
   "cell_type": "code",
   "execution_count": 195,
   "id": "3945fc71",
   "metadata": {},
   "outputs": [],
   "source": [
    "search_btn= web_driver.find_element_by_xpath('//button[@type=\"submit\"]').click()\n",
    "search_btn"
   ]
  },
  {
   "cell_type": "code",
   "execution_count": 196,
   "id": "454c8393",
   "metadata": {},
   "outputs": [
    {
     "name": "stdout",
     "output_type": "stream",
     "text": [
      "Project Coordinator (Data Analyst)\n",
      "Data Analyst - Java/Python\n",
      "Hiring For Data Analyst\n",
      "Senior Data Analyst\n",
      "Data Analyst\n",
      "Data Analyst Urgent Recruiment\n",
      "How relevant did you find the job search results ?\n",
      "Apply Now a Data Analyst\n",
      "Apply Now Data Analyst\n",
      "Needed for Data Analyst\n",
      "Urgently need a Data Analyst\n",
      "Require now Data Analyst\n",
      "Data Analyst\n",
      "Data Analyst in Bpo\n",
      "Project Coordinator (Data Analyst)\n",
      "Clinical Data Analyst\n",
      "Data Analyst\n",
      "Data Analyst\n",
      "Data Analyst\n",
      "opening data analyst -Bangalore\n",
      "Data Analyst - Bangalore\n",
      "\n",
      "Project Coordinator (Data Analyst)\n"
     ]
    }
   ],
   "source": [
    "#scrape the data for the first 10 jobs results you get\n",
    "\n",
    "#jobtitle:\n",
    "Job_tags=web_driver.find_elements_by_tag_name('h2')\n",
    "#Job_tags\n",
    "for i in Job_tags:\n",
    "    print(i.text) "
   ]
  },
  {
   "cell_type": "code",
   "execution_count": 197,
   "id": "d34217cc",
   "metadata": {},
   "outputs": [
    {
     "data": {
      "text/plain": [
       "['Project Coordinator (Data Analyst)',\n",
       " 'Data Analyst - Java/Python',\n",
       " 'Hiring For Data Analyst',\n",
       " 'Senior Data Analyst',\n",
       " 'Data Analyst',\n",
       " 'Data Analyst Urgent Recruiment',\n",
       " 'How relevant did you find the job search results ?',\n",
       " 'Apply Now a Data Analyst',\n",
       " 'Apply Now Data Analyst',\n",
       " 'Needed for Data Analyst']"
      ]
     },
     "execution_count": 197,
     "metadata": {},
     "output_type": "execute_result"
    }
   ],
   "source": [
    "job_titles=[]\n",
    "for i in Job_tags:\n",
    "    if i.text is None:\n",
    "        job_titles.append('Not')\n",
    "    else:\n",
    "        job_titles.append(i.text)\n",
    "job_titles[:10]   "
   ]
  },
  {
   "cell_type": "code",
   "execution_count": 198,
   "id": "da95c790",
   "metadata": {},
   "outputs": [
    {
     "data": {
      "text/plain": [
       "[<selenium.webdriver.remote.webelement.WebElement (session=\"014d9a120dbca4e16e9852c2ec62734b\", element=\"B89D1B359ED834E125F8EFD6772EFB1F_element_193\")>,\n",
       " <selenium.webdriver.remote.webelement.WebElement (session=\"014d9a120dbca4e16e9852c2ec62734b\", element=\"B89D1B359ED834E125F8EFD6772EFB1F_element_194\")>,\n",
       " <selenium.webdriver.remote.webelement.WebElement (session=\"014d9a120dbca4e16e9852c2ec62734b\", element=\"B89D1B359ED834E125F8EFD6772EFB1F_element_195\")>,\n",
       " <selenium.webdriver.remote.webelement.WebElement (session=\"014d9a120dbca4e16e9852c2ec62734b\", element=\"B89D1B359ED834E125F8EFD6772EFB1F_element_196\")>,\n",
       " <selenium.webdriver.remote.webelement.WebElement (session=\"014d9a120dbca4e16e9852c2ec62734b\", element=\"B89D1B359ED834E125F8EFD6772EFB1F_element_197\")>,\n",
       " <selenium.webdriver.remote.webelement.WebElement (session=\"014d9a120dbca4e16e9852c2ec62734b\", element=\"B89D1B359ED834E125F8EFD6772EFB1F_element_198\")>,\n",
       " <selenium.webdriver.remote.webelement.WebElement (session=\"014d9a120dbca4e16e9852c2ec62734b\", element=\"B89D1B359ED834E125F8EFD6772EFB1F_element_199\")>,\n",
       " <selenium.webdriver.remote.webelement.WebElement (session=\"014d9a120dbca4e16e9852c2ec62734b\", element=\"B89D1B359ED834E125F8EFD6772EFB1F_element_200\")>,\n",
       " <selenium.webdriver.remote.webelement.WebElement (session=\"014d9a120dbca4e16e9852c2ec62734b\", element=\"B89D1B359ED834E125F8EFD6772EFB1F_element_201\")>,\n",
       " <selenium.webdriver.remote.webelement.WebElement (session=\"014d9a120dbca4e16e9852c2ec62734b\", element=\"B89D1B359ED834E125F8EFD6772EFB1F_element_202\")>,\n",
       " <selenium.webdriver.remote.webelement.WebElement (session=\"014d9a120dbca4e16e9852c2ec62734b\", element=\"B89D1B359ED834E125F8EFD6772EFB1F_element_203\")>,\n",
       " <selenium.webdriver.remote.webelement.WebElement (session=\"014d9a120dbca4e16e9852c2ec62734b\", element=\"B89D1B359ED834E125F8EFD6772EFB1F_element_204\")>,\n",
       " <selenium.webdriver.remote.webelement.WebElement (session=\"014d9a120dbca4e16e9852c2ec62734b\", element=\"B89D1B359ED834E125F8EFD6772EFB1F_element_205\")>,\n",
       " <selenium.webdriver.remote.webelement.WebElement (session=\"014d9a120dbca4e16e9852c2ec62734b\", element=\"B89D1B359ED834E125F8EFD6772EFB1F_element_206\")>,\n",
       " <selenium.webdriver.remote.webelement.WebElement (session=\"014d9a120dbca4e16e9852c2ec62734b\", element=\"B89D1B359ED834E125F8EFD6772EFB1F_element_207\")>,\n",
       " <selenium.webdriver.remote.webelement.WebElement (session=\"014d9a120dbca4e16e9852c2ec62734b\", element=\"B89D1B359ED834E125F8EFD6772EFB1F_element_208\")>,\n",
       " <selenium.webdriver.remote.webelement.WebElement (session=\"014d9a120dbca4e16e9852c2ec62734b\", element=\"B89D1B359ED834E125F8EFD6772EFB1F_element_209\")>,\n",
       " <selenium.webdriver.remote.webelement.WebElement (session=\"014d9a120dbca4e16e9852c2ec62734b\", element=\"B89D1B359ED834E125F8EFD6772EFB1F_element_210\")>,\n",
       " <selenium.webdriver.remote.webelement.WebElement (session=\"014d9a120dbca4e16e9852c2ec62734b\", element=\"B89D1B359ED834E125F8EFD6772EFB1F_element_211\")>,\n",
       " <selenium.webdriver.remote.webelement.WebElement (session=\"014d9a120dbca4e16e9852c2ec62734b\", element=\"B89D1B359ED834E125F8EFD6772EFB1F_element_212\")>]"
      ]
     },
     "execution_count": 198,
     "metadata": {},
     "output_type": "execute_result"
    }
   ],
   "source": [
    "# lets extract all the tags having company names\n",
    "company_tags=web_driver.find_elements_by_xpath(\"//div[@class='jobCard_jobCard_cName__mYnow']//span\")\n",
    "company_tags"
   ]
  },
  {
   "cell_type": "code",
   "execution_count": 199,
   "id": "dbd0c44d",
   "metadata": {},
   "outputs": [
    {
     "data": {
      "text/plain": [
       "['futures and careers',\n",
       " 'boyen haddin consulting and technol...',\n",
       " 'kavya staffing solutions',\n",
       " 'ara resources private limited',\n",
       " 'ashutosh sabhashankar chaturvedi hi...',\n",
       " 'divya interprises',\n",
       " 'deuglo infosystem private limited',\n",
       " 'deuglo infosystem private limited',\n",
       " 'deuglo infosystem private limited',\n",
       " 'deuglo infosystem private limited']"
      ]
     },
     "execution_count": 199,
     "metadata": {},
     "output_type": "execute_result"
    }
   ],
   "source": [
    "companies_names=[]\n",
    "\n",
    "for i in company_tags:\n",
    "    companies_names.append(i.text)\n",
    "companies_names[:10] "
   ]
  },
  {
   "cell_type": "code",
   "execution_count": 200,
   "id": "07bb99dc",
   "metadata": {},
   "outputs": [
    {
     "data": {
      "text/plain": [
       "[<selenium.webdriver.remote.webelement.WebElement (session=\"014d9a120dbca4e16e9852c2ec62734b\", element=\"B89D1B359ED834E125F8EFD6772EFB1F_element_213\")>,\n",
       " <selenium.webdriver.remote.webelement.WebElement (session=\"014d9a120dbca4e16e9852c2ec62734b\", element=\"B89D1B359ED834E125F8EFD6772EFB1F_element_214\")>,\n",
       " <selenium.webdriver.remote.webelement.WebElement (session=\"014d9a120dbca4e16e9852c2ec62734b\", element=\"B89D1B359ED834E125F8EFD6772EFB1F_element_215\")>,\n",
       " <selenium.webdriver.remote.webelement.WebElement (session=\"014d9a120dbca4e16e9852c2ec62734b\", element=\"B89D1B359ED834E125F8EFD6772EFB1F_element_216\")>,\n",
       " <selenium.webdriver.remote.webelement.WebElement (session=\"014d9a120dbca4e16e9852c2ec62734b\", element=\"B89D1B359ED834E125F8EFD6772EFB1F_element_217\")>,\n",
       " <selenium.webdriver.remote.webelement.WebElement (session=\"014d9a120dbca4e16e9852c2ec62734b\", element=\"B89D1B359ED834E125F8EFD6772EFB1F_element_218\")>,\n",
       " <selenium.webdriver.remote.webelement.WebElement (session=\"014d9a120dbca4e16e9852c2ec62734b\", element=\"B89D1B359ED834E125F8EFD6772EFB1F_element_219\")>,\n",
       " <selenium.webdriver.remote.webelement.WebElement (session=\"014d9a120dbca4e16e9852c2ec62734b\", element=\"B89D1B359ED834E125F8EFD6772EFB1F_element_220\")>,\n",
       " <selenium.webdriver.remote.webelement.WebElement (session=\"014d9a120dbca4e16e9852c2ec62734b\", element=\"B89D1B359ED834E125F8EFD6772EFB1F_element_221\")>,\n",
       " <selenium.webdriver.remote.webelement.WebElement (session=\"014d9a120dbca4e16e9852c2ec62734b\", element=\"B89D1B359ED834E125F8EFD6772EFB1F_element_222\")>,\n",
       " <selenium.webdriver.remote.webelement.WebElement (session=\"014d9a120dbca4e16e9852c2ec62734b\", element=\"B89D1B359ED834E125F8EFD6772EFB1F_element_223\")>,\n",
       " <selenium.webdriver.remote.webelement.WebElement (session=\"014d9a120dbca4e16e9852c2ec62734b\", element=\"B89D1B359ED834E125F8EFD6772EFB1F_element_224\")>,\n",
       " <selenium.webdriver.remote.webelement.WebElement (session=\"014d9a120dbca4e16e9852c2ec62734b\", element=\"B89D1B359ED834E125F8EFD6772EFB1F_element_225\")>,\n",
       " <selenium.webdriver.remote.webelement.WebElement (session=\"014d9a120dbca4e16e9852c2ec62734b\", element=\"B89D1B359ED834E125F8EFD6772EFB1F_element_226\")>,\n",
       " <selenium.webdriver.remote.webelement.WebElement (session=\"014d9a120dbca4e16e9852c2ec62734b\", element=\"B89D1B359ED834E125F8EFD6772EFB1F_element_227\")>,\n",
       " <selenium.webdriver.remote.webelement.WebElement (session=\"014d9a120dbca4e16e9852c2ec62734b\", element=\"B89D1B359ED834E125F8EFD6772EFB1F_element_228\")>,\n",
       " <selenium.webdriver.remote.webelement.WebElement (session=\"014d9a120dbca4e16e9852c2ec62734b\", element=\"B89D1B359ED834E125F8EFD6772EFB1F_element_229\")>,\n",
       " <selenium.webdriver.remote.webelement.WebElement (session=\"014d9a120dbca4e16e9852c2ec62734b\", element=\"B89D1B359ED834E125F8EFD6772EFB1F_element_230\")>,\n",
       " <selenium.webdriver.remote.webelement.WebElement (session=\"014d9a120dbca4e16e9852c2ec62734b\", element=\"B89D1B359ED834E125F8EFD6772EFB1F_element_231\")>,\n",
       " <selenium.webdriver.remote.webelement.WebElement (session=\"014d9a120dbca4e16e9852c2ec62734b\", element=\"B89D1B359ED834E125F8EFD6772EFB1F_element_232\")>]"
      ]
     },
     "execution_count": 200,
     "metadata": {},
     "output_type": "execute_result"
    }
   ],
   "source": [
    "experience_tags=web_driver.find_elements_by_xpath(\"//div[contains(@class,'jobCard_jobCard_lists_item__YxRkV jobCard_jobIcon__3FB1t')]\")\n",
    "experience_tags"
   ]
  },
  {
   "cell_type": "code",
   "execution_count": 201,
   "id": "b4be7b12",
   "metadata": {},
   "outputs": [
    {
     "data": {
      "text/plain": [
       "['2 to 4 Yrs',\n",
       " '3 to 6 Yrs',\n",
       " '0 to 4 Yrs',\n",
       " '2 to 5 Yrs',\n",
       " '7 to 12 Yrs',\n",
       " '0 to 4 Yrs',\n",
       " '1 to 2 Yrs',\n",
       " '1 to 2 Yrs',\n",
       " '1 to 2 Yrs',\n",
       " '1 to 2 Yrs']"
      ]
     },
     "execution_count": 201,
     "metadata": {},
     "output_type": "execute_result"
    }
   ],
   "source": [
    "experience_list=[]\n",
    "for i in experience_tags:\n",
    "    experience_list.append(i.text)\n",
    "experience_list[:10]   "
   ]
  },
  {
   "cell_type": "code",
   "execution_count": 202,
   "id": "c3415ff1",
   "metadata": {},
   "outputs": [
    {
     "data": {
      "text/plain": [
       "[<selenium.webdriver.remote.webelement.WebElement (session=\"014d9a120dbca4e16e9852c2ec62734b\", element=\"B89D1B359ED834E125F8EFD6772EFB1F_element_233\")>,\n",
       " <selenium.webdriver.remote.webelement.WebElement (session=\"014d9a120dbca4e16e9852c2ec62734b\", element=\"B89D1B359ED834E125F8EFD6772EFB1F_element_234\")>,\n",
       " <selenium.webdriver.remote.webelement.WebElement (session=\"014d9a120dbca4e16e9852c2ec62734b\", element=\"B89D1B359ED834E125F8EFD6772EFB1F_element_235\")>,\n",
       " <selenium.webdriver.remote.webelement.WebElement (session=\"014d9a120dbca4e16e9852c2ec62734b\", element=\"B89D1B359ED834E125F8EFD6772EFB1F_element_236\")>,\n",
       " <selenium.webdriver.remote.webelement.WebElement (session=\"014d9a120dbca4e16e9852c2ec62734b\", element=\"B89D1B359ED834E125F8EFD6772EFB1F_element_237\")>,\n",
       " <selenium.webdriver.remote.webelement.WebElement (session=\"014d9a120dbca4e16e9852c2ec62734b\", element=\"B89D1B359ED834E125F8EFD6772EFB1F_element_238\")>,\n",
       " <selenium.webdriver.remote.webelement.WebElement (session=\"014d9a120dbca4e16e9852c2ec62734b\", element=\"B89D1B359ED834E125F8EFD6772EFB1F_element_239\")>,\n",
       " <selenium.webdriver.remote.webelement.WebElement (session=\"014d9a120dbca4e16e9852c2ec62734b\", element=\"B89D1B359ED834E125F8EFD6772EFB1F_element_240\")>,\n",
       " <selenium.webdriver.remote.webelement.WebElement (session=\"014d9a120dbca4e16e9852c2ec62734b\", element=\"B89D1B359ED834E125F8EFD6772EFB1F_element_241\")>,\n",
       " <selenium.webdriver.remote.webelement.WebElement (session=\"014d9a120dbca4e16e9852c2ec62734b\", element=\"B89D1B359ED834E125F8EFD6772EFB1F_element_242\")>,\n",
       " <selenium.webdriver.remote.webelement.WebElement (session=\"014d9a120dbca4e16e9852c2ec62734b\", element=\"B89D1B359ED834E125F8EFD6772EFB1F_element_243\")>,\n",
       " <selenium.webdriver.remote.webelement.WebElement (session=\"014d9a120dbca4e16e9852c2ec62734b\", element=\"B89D1B359ED834E125F8EFD6772EFB1F_element_244\")>,\n",
       " <selenium.webdriver.remote.webelement.WebElement (session=\"014d9a120dbca4e16e9852c2ec62734b\", element=\"B89D1B359ED834E125F8EFD6772EFB1F_element_245\")>,\n",
       " <selenium.webdriver.remote.webelement.WebElement (session=\"014d9a120dbca4e16e9852c2ec62734b\", element=\"B89D1B359ED834E125F8EFD6772EFB1F_element_246\")>,\n",
       " <selenium.webdriver.remote.webelement.WebElement (session=\"014d9a120dbca4e16e9852c2ec62734b\", element=\"B89D1B359ED834E125F8EFD6772EFB1F_element_247\")>,\n",
       " <selenium.webdriver.remote.webelement.WebElement (session=\"014d9a120dbca4e16e9852c2ec62734b\", element=\"B89D1B359ED834E125F8EFD6772EFB1F_element_248\")>,\n",
       " <selenium.webdriver.remote.webelement.WebElement (session=\"014d9a120dbca4e16e9852c2ec62734b\", element=\"B89D1B359ED834E125F8EFD6772EFB1F_element_249\")>,\n",
       " <selenium.webdriver.remote.webelement.WebElement (session=\"014d9a120dbca4e16e9852c2ec62734b\", element=\"B89D1B359ED834E125F8EFD6772EFB1F_element_250\")>,\n",
       " <selenium.webdriver.remote.webelement.WebElement (session=\"014d9a120dbca4e16e9852c2ec62734b\", element=\"B89D1B359ED834E125F8EFD6772EFB1F_element_251\")>,\n",
       " <selenium.webdriver.remote.webelement.WebElement (session=\"014d9a120dbca4e16e9852c2ec62734b\", element=\"B89D1B359ED834E125F8EFD6772EFB1F_element_252\")>]"
      ]
     },
     "execution_count": 202,
     "metadata": {},
     "output_type": "execute_result"
    }
   ],
   "source": [
    "locations_tags=web_driver.find_elements_by_xpath(\"//div[contains(@class,'jobCard_jobCard_lists_item__YxRkV jobCard_locationIcon__zrWt2')]\")\n",
    "locations_tags"
   ]
  },
  {
   "cell_type": "code",
   "execution_count": 205,
   "id": "fecf86c0",
   "metadata": {},
   "outputs": [
    {
     "data": {
      "text/plain": [
       "['Bangalore',\n",
       " 'Bangalore',\n",
       " 'Bangalore\\n+14',\n",
       " 'Bangalore',\n",
       " 'Bangalore\\n+9',\n",
       " 'Bangalore\\n+14',\n",
       " 'Bangalore',\n",
       " 'Bangalore',\n",
       " 'Bangalore',\n",
       " 'Bangalore']"
      ]
     },
     "execution_count": 205,
     "metadata": {},
     "output_type": "execute_result"
    }
   ],
   "source": [
    "locations_list=[]\n",
    "for i in locations_tags:\n",
    "    locations_list.append(i.text)\n",
    "locations_list[:10]    "
   ]
  },
  {
   "cell_type": "code",
   "execution_count": 206,
   "id": "7d25312b",
   "metadata": {},
   "outputs": [
    {
     "name": "stdout",
     "output_type": "stream",
     "text": [
      "10\n",
      "10\n",
      "10\n",
      "10\n"
     ]
    },
    {
     "data": {
      "text/plain": [
       "(None, None, None, None)"
      ]
     },
     "execution_count": 206,
     "metadata": {},
     "output_type": "execute_result"
    }
   ],
   "source": [
    "print(len(job_titles[:10])),print(len(companies_names[:10])),print(len(experience_list[:10])),print(len(locations_list[:10]))"
   ]
  },
  {
   "cell_type": "code",
   "execution_count": 207,
   "id": "dcde46bd",
   "metadata": {},
   "outputs": [],
   "source": [
    "jobs=pd.DataFrame({})\n",
    "jobs['title']=job_titles[:10]\n",
    "jobs['location']=locations_list[:10]\n",
    "jobs['company']=companies_names[:10]\n",
    "jobs['experience_required']=experience_list[:10]\n"
   ]
  },
  {
   "cell_type": "code",
   "execution_count": 122,
   "id": "616878a6",
   "metadata": {},
   "outputs": [
    {
     "data": {
      "text/html": [
       "<div>\n",
       "<style scoped>\n",
       "    .dataframe tbody tr th:only-of-type {\n",
       "        vertical-align: middle;\n",
       "    }\n",
       "\n",
       "    .dataframe tbody tr th {\n",
       "        vertical-align: top;\n",
       "    }\n",
       "\n",
       "    .dataframe thead th {\n",
       "        text-align: right;\n",
       "    }\n",
       "</style>\n",
       "<table border=\"1\" class=\"dataframe\">\n",
       "  <thead>\n",
       "    <tr style=\"text-align: right;\">\n",
       "      <th></th>\n",
       "      <th>title</th>\n",
       "      <th>location</th>\n",
       "      <th>company</th>\n",
       "      <th>experience_required</th>\n",
       "    </tr>\n",
       "  </thead>\n",
       "  <tbody>\n",
       "    <tr>\n",
       "      <th>0</th>\n",
       "      <td>Project Coordinator (Data Analyst)</td>\n",
       "      <td>Bangalore</td>\n",
       "      <td>futures and careers</td>\n",
       "      <td>2 to 4 Yrs</td>\n",
       "    </tr>\n",
       "    <tr>\n",
       "      <th>1</th>\n",
       "      <td>Data Analyst - Java/Python</td>\n",
       "      <td>Bangalore</td>\n",
       "      <td>boyen haddin consulting and technol...</td>\n",
       "      <td>3 to 6 Yrs</td>\n",
       "    </tr>\n",
       "    <tr>\n",
       "      <th>2</th>\n",
       "      <td>Hiring For Data Analyst</td>\n",
       "      <td>Bangalore\\n+14</td>\n",
       "      <td>kavya staffing solutions</td>\n",
       "      <td>0 to 4 Yrs</td>\n",
       "    </tr>\n",
       "    <tr>\n",
       "      <th>3</th>\n",
       "      <td>Senior Data Analyst</td>\n",
       "      <td>Bangalore</td>\n",
       "      <td>ara resources private limited</td>\n",
       "      <td>2 to 5 Yrs</td>\n",
       "    </tr>\n",
       "    <tr>\n",
       "      <th>4</th>\n",
       "      <td>Data Analyst</td>\n",
       "      <td>Bangalore\\n+9</td>\n",
       "      <td>ashutosh sabhashankar chaturvedi hi...</td>\n",
       "      <td>7 to 12 Yrs</td>\n",
       "    </tr>\n",
       "    <tr>\n",
       "      <th>5</th>\n",
       "      <td>Data Analyst Urgent Recruiment</td>\n",
       "      <td>Bangalore\\n+14</td>\n",
       "      <td>divya interprises</td>\n",
       "      <td>0 to 4 Yrs</td>\n",
       "    </tr>\n",
       "    <tr>\n",
       "      <th>6</th>\n",
       "      <td>How relevant did you find the job search resul...</td>\n",
       "      <td>Bangalore</td>\n",
       "      <td>deuglo infosystem private limited</td>\n",
       "      <td>1 to 2 Yrs</td>\n",
       "    </tr>\n",
       "    <tr>\n",
       "      <th>7</th>\n",
       "      <td>Apply Now a Data Analyst</td>\n",
       "      <td>Bangalore</td>\n",
       "      <td>deuglo infosystem private limited</td>\n",
       "      <td>1 to 2 Yrs</td>\n",
       "    </tr>\n",
       "    <tr>\n",
       "      <th>8</th>\n",
       "      <td>Apply Now Data Analyst</td>\n",
       "      <td>Bangalore</td>\n",
       "      <td>deuglo infosystem private limited</td>\n",
       "      <td>1 to 2 Yrs</td>\n",
       "    </tr>\n",
       "    <tr>\n",
       "      <th>9</th>\n",
       "      <td>Needed for Data Analyst</td>\n",
       "      <td>Bangalore</td>\n",
       "      <td>deuglo infosystem private limited</td>\n",
       "      <td>1 to 2 Yrs</td>\n",
       "    </tr>\n",
       "  </tbody>\n",
       "</table>\n",
       "</div>"
      ],
      "text/plain": [
       "                                               title        location  \\\n",
       "0                 Project Coordinator (Data Analyst)       Bangalore   \n",
       "1                         Data Analyst - Java/Python       Bangalore   \n",
       "2                            Hiring For Data Analyst  Bangalore\\n+14   \n",
       "3                                Senior Data Analyst       Bangalore   \n",
       "4                                       Data Analyst   Bangalore\\n+9   \n",
       "5                     Data Analyst Urgent Recruiment  Bangalore\\n+14   \n",
       "6  How relevant did you find the job search resul...       Bangalore   \n",
       "7                           Apply Now a Data Analyst       Bangalore   \n",
       "8                             Apply Now Data Analyst       Bangalore   \n",
       "9                            Needed for Data Analyst       Bangalore   \n",
       "\n",
       "                                  company experience_required  \n",
       "0                     futures and careers          2 to 4 Yrs  \n",
       "1  boyen haddin consulting and technol...          3 to 6 Yrs  \n",
       "2                kavya staffing solutions          0 to 4 Yrs  \n",
       "3           ara resources private limited          2 to 5 Yrs  \n",
       "4  ashutosh sabhashankar chaturvedi hi...         7 to 12 Yrs  \n",
       "5                       divya interprises          0 to 4 Yrs  \n",
       "6       deuglo infosystem private limited          1 to 2 Yrs  \n",
       "7       deuglo infosystem private limited          1 to 2 Yrs  \n",
       "8       deuglo infosystem private limited          1 to 2 Yrs  \n",
       "9       deuglo infosystem private limited          1 to 2 Yrs  "
      ]
     },
     "execution_count": 122,
     "metadata": {},
     "output_type": "execute_result"
    }
   ],
   "source": [
    "jobs"
   ]
  },
  {
   "cell_type": "markdown",
   "id": "451e324a",
   "metadata": {},
   "source": [
    "Q2: Write a python program to scrape data for “Data Scientist” Job position in “Bangalore” location. You have to scrape the job-title, job-location, company_name. You have to scrape first 10 jobs data.\n",
    "This task will be done in following steps:\n",
    "1.\tFirst get the webpage https://www.shine.com/\n",
    "2.\tEnter “Data Scientist” in “Job title, Skills” field and enter “Bangalore” in “enter thelocation” field.\n",
    "3.\tThen click the search button.\n",
    "4.\tThen scrape the data for the first 10 jobs results you get.\n",
    "5.\tFinally create a dataframe of the scraped data.\n"
   ]
  },
  {
   "cell_type": "code",
   "execution_count": 178,
   "id": "84dc68be",
   "metadata": {},
   "outputs": [],
   "source": [
    "#for blocking the notification\n",
    "option = Options()\n",
    "\n",
    "option.add_argument(\"--disable-infobars\")\n",
    "option.add_argument(\"start-maximized\")\n",
    "option.add_argument(\"--disable-extensions\")\n",
    "\n",
    "# Pass the argument 1 to allow and 2 to block\n",
    "option.add_experimental_option(\"prefs\", { \n",
    "    \"profile.default_content_setting_values.notifications\": 1 \n",
    "})\n",
    "\n",
    "\n",
    "#web_driver=webdriver.Chrome(r\"C:\\Learning\\FLIPNROBO\\chromedriver-win64\\chromedriver.exe\")\n",
    "web_driver=webdriver.Chrome(chrome_options=option, executable_path=\"C:\\Learning\\FLIPNROBO\\chromedriver-win64\\chromedriver.exe\")"
   ]
  },
  {
   "cell_type": "code",
   "execution_count": 179,
   "id": "653e0dd0",
   "metadata": {},
   "outputs": [],
   "source": [
    "#1.First get the webpage https://www.shine.com/\n",
    "\n",
    "url = \"https://www.shine.com/\"\n",
    "web_driver.get(url)"
   ]
  },
  {
   "cell_type": "code",
   "execution_count": 180,
   "id": "267cf032",
   "metadata": {},
   "outputs": [],
   "source": [
    "#Enter “Data Analyst” in “Job title, Skills” field and enter “Bangalore” in “enter the location” field.\n",
    "\n",
    "Job_title = web_driver.find_element_by_xpath('//input[@type=\"text\" and @id=\"id_q\"]')\n",
    "Job_title\n",
    "Job_title.send_keys('Data Analyst')\n",
    "\n",
    "Job_location = web_driver.find_element_by_xpath('//input[@type=\"text\" and @id=\"id_loc\"]')\n",
    "Job_location\n",
    "Job_location.send_keys('Bangalore')"
   ]
  },
  {
   "cell_type": "code",
   "execution_count": 181,
   "id": "f5cb3dad",
   "metadata": {},
   "outputs": [],
   "source": [
    "search_btn= web_driver.find_element_by_xpath('//button[@type=\"submit\"]').click()\n",
    "search_btn"
   ]
  },
  {
   "cell_type": "code",
   "execution_count": 185,
   "id": "2530a0c8",
   "metadata": {},
   "outputs": [
    {
     "name": "stdout",
     "output_type": "stream",
     "text": [
      "Project Coordinator (Data Analyst)\n",
      "Data Analyst - Java/Python\n",
      "Hiring For Data Analyst\n",
      "Senior Data Analyst\n",
      "Data Analyst\n",
      "Data Analyst Urgent Recruiment\n",
      "How relevant did you find the job search results ?\n",
      "Apply Now a Data Analyst\n",
      "Apply Now Data Analyst\n",
      "Needed for Data Analyst\n",
      "Urgently need a Data Analyst\n",
      "Require now Data Analyst\n",
      "Data Analyst\n",
      "Data Analyst in Bpo\n",
      "Project Coordinator (Data Analyst)\n",
      "Clinical Data Analyst\n",
      "Data Analyst\n",
      "Data Analyst\n",
      "Data Analyst\n",
      "opening data analyst -Bangalore\n",
      "Data Analyst - Bangalore\n",
      "\n",
      "Project Coordinator (Data Analyst)\n"
     ]
    },
    {
     "data": {
      "text/plain": [
       "['Project Coordinator (Data Analyst)',\n",
       " 'Data Analyst - Java/Python',\n",
       " 'Hiring For Data Analyst',\n",
       " 'Senior Data Analyst',\n",
       " 'Data Analyst',\n",
       " 'Data Analyst Urgent Recruiment',\n",
       " 'How relevant did you find the job search results ?',\n",
       " 'Apply Now a Data Analyst',\n",
       " 'Apply Now Data Analyst',\n",
       " 'Needed for Data Analyst']"
      ]
     },
     "execution_count": 185,
     "metadata": {},
     "output_type": "execute_result"
    }
   ],
   "source": [
    "#jobtitle:\n",
    "Job_tags=web_driver.find_elements_by_tag_name('h2')\n",
    "#Job_tags\n",
    "for i in Job_tags:\n",
    "    print(i.text) \n",
    "    \n",
    "job_titles=[]\n",
    "for i in Job_tags:\n",
    "    if i.text is None:\n",
    "        job_titles.append('Not')\n",
    "    else:\n",
    "        job_titles.append(i.text)\n",
    "job_titles[:10]   "
   ]
  },
  {
   "cell_type": "code",
   "execution_count": 186,
   "id": "652520ec",
   "metadata": {},
   "outputs": [
    {
     "data": {
      "text/plain": [
       "['futures and careers',\n",
       " 'boyen haddin consulting and technol...',\n",
       " 'kavya staffing solutions',\n",
       " 'ara resources private limited',\n",
       " 'ashutosh sabhashankar chaturvedi hi...',\n",
       " 'divya interprises',\n",
       " 'deuglo infosystem private limited',\n",
       " 'deuglo infosystem private limited',\n",
       " 'deuglo infosystem private limited',\n",
       " 'deuglo infosystem private limited']"
      ]
     },
     "execution_count": 186,
     "metadata": {},
     "output_type": "execute_result"
    }
   ],
   "source": [
    "# lets extract all the tags having company names\n",
    "company_tags=web_driver.find_elements_by_xpath(\"//div[@class='jobCard_jobCard_cName__mYnow']//span\")\n",
    "company_tags\n",
    "\n",
    "companies_names=[]\n",
    "\n",
    "for i in company_tags:\n",
    "    companies_names.append(i.text)\n",
    "companies_names[:10] "
   ]
  },
  {
   "cell_type": "code",
   "execution_count": 187,
   "id": "6b1fb3b8",
   "metadata": {},
   "outputs": [
    {
     "data": {
      "text/plain": [
       "['Bangalore',\n",
       " 'Bangalore',\n",
       " 'Bangalore\\n+14',\n",
       " 'Bangalore',\n",
       " 'Bangalore\\n+9',\n",
       " 'Bangalore\\n+14',\n",
       " 'Bangalore',\n",
       " 'Bangalore',\n",
       " 'Bangalore',\n",
       " 'Bangalore']"
      ]
     },
     "execution_count": 187,
     "metadata": {},
     "output_type": "execute_result"
    }
   ],
   "source": [
    "locations_tags=web_driver.find_elements_by_xpath(\"//div[contains(@class,'jobCard_jobCard_lists_item__YxRkV jobCard_locationIcon__zrWt2')]\")\n",
    "locations_tags\n",
    "\n",
    "locations_list=[]\n",
    "for i in locations_tags:\n",
    "    locations_list.append(i.text)\n",
    "locations_list[:10]   "
   ]
  },
  {
   "cell_type": "code",
   "execution_count": 188,
   "id": "b10dbae1",
   "metadata": {},
   "outputs": [],
   "source": [
    "jobs=pd.DataFrame({})\n",
    "jobs['title']=job_titles[:10]\n",
    "jobs['location']=locations_list[:10]\n",
    "jobs['company']=companies_names[:10]\n"
   ]
  },
  {
   "cell_type": "code",
   "execution_count": 189,
   "id": "b1b83a59",
   "metadata": {},
   "outputs": [
    {
     "data": {
      "text/html": [
       "<div>\n",
       "<style scoped>\n",
       "    .dataframe tbody tr th:only-of-type {\n",
       "        vertical-align: middle;\n",
       "    }\n",
       "\n",
       "    .dataframe tbody tr th {\n",
       "        vertical-align: top;\n",
       "    }\n",
       "\n",
       "    .dataframe thead th {\n",
       "        text-align: right;\n",
       "    }\n",
       "</style>\n",
       "<table border=\"1\" class=\"dataframe\">\n",
       "  <thead>\n",
       "    <tr style=\"text-align: right;\">\n",
       "      <th></th>\n",
       "      <th>title</th>\n",
       "      <th>location</th>\n",
       "      <th>company</th>\n",
       "    </tr>\n",
       "  </thead>\n",
       "  <tbody>\n",
       "    <tr>\n",
       "      <th>0</th>\n",
       "      <td>Project Coordinator (Data Analyst)</td>\n",
       "      <td>Bangalore</td>\n",
       "      <td>futures and careers</td>\n",
       "    </tr>\n",
       "    <tr>\n",
       "      <th>1</th>\n",
       "      <td>Data Analyst - Java/Python</td>\n",
       "      <td>Bangalore</td>\n",
       "      <td>boyen haddin consulting and technol...</td>\n",
       "    </tr>\n",
       "    <tr>\n",
       "      <th>2</th>\n",
       "      <td>Hiring For Data Analyst</td>\n",
       "      <td>Bangalore\\n+14</td>\n",
       "      <td>kavya staffing solutions</td>\n",
       "    </tr>\n",
       "    <tr>\n",
       "      <th>3</th>\n",
       "      <td>Senior Data Analyst</td>\n",
       "      <td>Bangalore</td>\n",
       "      <td>ara resources private limited</td>\n",
       "    </tr>\n",
       "    <tr>\n",
       "      <th>4</th>\n",
       "      <td>Data Analyst</td>\n",
       "      <td>Bangalore\\n+9</td>\n",
       "      <td>ashutosh sabhashankar chaturvedi hi...</td>\n",
       "    </tr>\n",
       "    <tr>\n",
       "      <th>5</th>\n",
       "      <td>Data Analyst Urgent Recruiment</td>\n",
       "      <td>Bangalore\\n+14</td>\n",
       "      <td>divya interprises</td>\n",
       "    </tr>\n",
       "    <tr>\n",
       "      <th>6</th>\n",
       "      <td>How relevant did you find the job search resul...</td>\n",
       "      <td>Bangalore</td>\n",
       "      <td>deuglo infosystem private limited</td>\n",
       "    </tr>\n",
       "    <tr>\n",
       "      <th>7</th>\n",
       "      <td>Apply Now a Data Analyst</td>\n",
       "      <td>Bangalore</td>\n",
       "      <td>deuglo infosystem private limited</td>\n",
       "    </tr>\n",
       "    <tr>\n",
       "      <th>8</th>\n",
       "      <td>Apply Now Data Analyst</td>\n",
       "      <td>Bangalore</td>\n",
       "      <td>deuglo infosystem private limited</td>\n",
       "    </tr>\n",
       "    <tr>\n",
       "      <th>9</th>\n",
       "      <td>Needed for Data Analyst</td>\n",
       "      <td>Bangalore</td>\n",
       "      <td>deuglo infosystem private limited</td>\n",
       "    </tr>\n",
       "  </tbody>\n",
       "</table>\n",
       "</div>"
      ],
      "text/plain": [
       "                                               title        location  \\\n",
       "0                 Project Coordinator (Data Analyst)       Bangalore   \n",
       "1                         Data Analyst - Java/Python       Bangalore   \n",
       "2                            Hiring For Data Analyst  Bangalore\\n+14   \n",
       "3                                Senior Data Analyst       Bangalore   \n",
       "4                                       Data Analyst   Bangalore\\n+9   \n",
       "5                     Data Analyst Urgent Recruiment  Bangalore\\n+14   \n",
       "6  How relevant did you find the job search resul...       Bangalore   \n",
       "7                           Apply Now a Data Analyst       Bangalore   \n",
       "8                             Apply Now Data Analyst       Bangalore   \n",
       "9                            Needed for Data Analyst       Bangalore   \n",
       "\n",
       "                                  company  \n",
       "0                     futures and careers  \n",
       "1  boyen haddin consulting and technol...  \n",
       "2                kavya staffing solutions  \n",
       "3           ara resources private limited  \n",
       "4  ashutosh sabhashankar chaturvedi hi...  \n",
       "5                       divya interprises  \n",
       "6       deuglo infosystem private limited  \n",
       "7       deuglo infosystem private limited  \n",
       "8       deuglo infosystem private limited  \n",
       "9       deuglo infosystem private limited  "
      ]
     },
     "execution_count": 189,
     "metadata": {},
     "output_type": "execute_result"
    }
   ],
   "source": [
    "jobs"
   ]
  },
  {
   "cell_type": "markdown",
   "id": "f1eecb20",
   "metadata": {},
   "source": [
    "Q3: In this question you have to scrape data using the filters available on the webpage\n",
    "You have to use the location and salary filter.\n",
    "You have to scrape data for “Data Scientist” designation for first 10 job results.\n",
    "You have to scrape the job-title, job-location, company name, experience required. The location filter to be used is “Delhi/NCR”. The salary filter to be used is “3-6” lakhs\n",
    "\n",
    "The task will be done as shown in the below steps:\n",
    "1.\tfirst get the web page https://www.shine.com/\n",
    "2.\tEnter “Data Scientist” in “Skill, Designations, and Companies” field.\n",
    "3.\tThen click the search button.\n",
    "4.\tThen apply the location filter and salary filter by checking the respective boxes\n",
    "5.\tThen scrape the data for the first 10 jobs results you get.\n",
    "6.\tFinally create a dataframe of the scraped data.\n",
    "Note: All of the above steps have to be done in code. No step is to be done manually.\n"
   ]
  },
  {
   "cell_type": "code",
   "execution_count": 50,
   "id": "f8158883",
   "metadata": {},
   "outputs": [],
   "source": [
    "#for blocking the notification\n",
    "option = Options()\n",
    "\n",
    "option.add_argument(\"--disable-infobars\")\n",
    "option.add_argument(\"start-maximized\")\n",
    "option.add_argument(\"--disable-extensions\")\n",
    "\n",
    "# Pass the argument 1 to allow and 2 to block\n",
    "option.add_experimental_option(\"prefs\", { \n",
    "    \"profile.default_content_setting_values.notifications\": 1 \n",
    "})\n",
    "\n",
    "\n",
    "#web_driver=webdriver.Chrome(r\"C:\\Learning\\FLIPNROBO\\chromedriver-win64\\chromedriver.exe\")\n",
    "web_driver=webdriver.Chrome(chrome_options=option, executable_path=\"C:\\Learning\\FLIPNROBO\\chromedriver-win64\\chromedriver.exe\")"
   ]
  },
  {
   "cell_type": "code",
   "execution_count": 51,
   "id": "8d3e4a9d",
   "metadata": {},
   "outputs": [],
   "source": [
    "#1.First get the webpage https://www.shine.com/\n",
    "\n",
    "url = \"https://www.shine.com/\"\n",
    "web_driver.get(url)"
   ]
  },
  {
   "cell_type": "code",
   "execution_count": 54,
   "id": "07247890",
   "metadata": {},
   "outputs": [],
   "source": [
    "#2.\tEnter “Data Scientist” in “Skill, Designations, and Companies” field.\n",
    "Job_title3 = web_driver.find_element_by_xpath('//input[@type=\"text\" and @id=\"id_q\"]')\n",
    "Job_title3\n",
    "Job_title3.send_keys('Data Analyst')\n",
    "\n"
   ]
  },
  {
   "cell_type": "code",
   "execution_count": 55,
   "id": "cb8f06a6",
   "metadata": {},
   "outputs": [],
   "source": [
    "search_btn3= web_driver.find_element_by_xpath('//button[@type=\"submit\"]').click()\n",
    "search_btn3"
   ]
  },
  {
   "cell_type": "code",
   "execution_count": 69,
   "id": "90d1443c",
   "metadata": {},
   "outputs": [],
   "source": [
    "#4.\tThen apply the location filter and salary filter by checking the respective boxes\n",
    "\n",
    "Job_location_Filter = web_driver.find_element_by_xpath(\"/html/body/div[1]/div[1]/div[4]/div/div[1]/div/div[2]/div/ul/li[1]/button\")\n",
    "Job_location_Filter.click()\n",
    "\n",
    "# Job_location_Filter.send_keys('Delhi')\n"
   ]
  },
  {
   "cell_type": "code",
   "execution_count": 100,
   "id": "e0c1f9d2",
   "metadata": {},
   "outputs": [],
   "source": [
    "Job_location_Filter11 = web_driver.find_element_by_xpath('//input[@type=\"text\" and @id=\"search\"]')\n",
    "Job_location_Filter11\n",
    "Job_location_Filter11.send_keys('DELHI')\n"
   ]
  },
  {
   "cell_type": "code",
   "execution_count": 101,
   "id": "4a763d73",
   "metadata": {},
   "outputs": [],
   "source": [
    "Job_location_Filter11=web_driver.find_element_by_xpath(\"/html/body/div[1]/div[1]/div[4]/div/div[1]/div/div[2]/div[2]/div/div/div/div[3]/div/div/div/ul/li[2]/span/label\").click()\n",
    "Job_location_Filter11"
   ]
  },
  {
   "cell_type": "code",
   "execution_count": 102,
   "id": "818e12d8",
   "metadata": {},
   "outputs": [],
   "source": [
    "Job_location_Delhi=web_driver.find_element_by_xpath('//*[@id=\"__next\"]/div[1]/div[4]/div/div[1]/div/div[2]/div[2]/div/div/div/div[4]/button[2]').click()\n",
    "Job_location_Delhi"
   ]
  },
  {
   "cell_type": "code",
   "execution_count": 103,
   "id": "516d6475",
   "metadata": {},
   "outputs": [],
   "source": [
    "salary_Filter = web_driver.find_element_by_xpath('//*[@id=\"__next\"]/div[1]/div[4]/div/div[1]/div/div[2]/div/ul/li[3]/button').click()\n",
    "salary_Filter11= web_driver.find_element_by_xpath('//input[@type=\"text\" and @id=\"search\"]')\n",
    "salary_Filter11.send_keys('3 TO 5 Lakh')\n"
   ]
  },
  {
   "cell_type": "code",
   "execution_count": 104,
   "id": "3069b750",
   "metadata": {},
   "outputs": [],
   "source": [
    "salary_Filter12=web_driver.find_element_by_xpath('//*[@id=\"__next\"]/div[1]/div[4]/div/div[1]/div/div[2]/div[2]/div/div/div/div[4]/button[2]').click()\n",
    "salary_Filter12"
   ]
  },
  {
   "cell_type": "code",
   "execution_count": 105,
   "id": "3abf8876",
   "metadata": {},
   "outputs": [
    {
     "name": "stdout",
     "output_type": "stream",
     "text": [
      "Data Analyst\n",
      "Market Data Analyst\n",
      "Data Analyst\n",
      "Dy. Manager/Manager Process Data Analytics\n",
      "Data Analyst\n",
      "for _GCP Data Engineer/Lead/Architect- Delhi\n",
      "How relevant did you find the job search results ?\n",
      "for _GCP Data Engineer/Lead/Architect- Delhi\n",
      "Data Entry Delhi\n",
      "Data Entry Delhi\n",
      "Power BI Architect - Reporting Tools\n",
      "Senior Data Engineer - Hadoop/Python/Big Data\n",
      "Position for _GCP Data Engineer/Lead- Delhi\n",
      "Data Entry Delhi\n",
      "Require for Data Analyst -Reputed IT Industry -Delhi NC ...\n",
      "Need Data Entry\n",
      "Req. For Data Analyst-Reputed IT Industry-Delhi NCR\n",
      "Data Engineer Delhi\n",
      "Data Engineer - Visualization/Reporting Tools\n",
      "required for Data Engineer\n",
      "Enterprise Sales Executive - Data Intelligence Platform ...\n",
      "\n",
      "\n"
     ]
    },
    {
     "data": {
      "text/plain": [
       "['Data Analyst',\n",
       " 'Market Data Analyst',\n",
       " 'Data Analyst',\n",
       " 'Dy. Manager/Manager Process Data Analytics',\n",
       " 'Data Analyst',\n",
       " 'for _GCP Data Engineer/Lead/Architect- Delhi',\n",
       " 'How relevant did you find the job search results ?',\n",
       " 'for _GCP Data Engineer/Lead/Architect- Delhi',\n",
       " 'Data Entry Delhi',\n",
       " 'Data Entry Delhi']"
      ]
     },
     "execution_count": 105,
     "metadata": {},
     "output_type": "execute_result"
    }
   ],
   "source": [
    "#jobtitle:\n",
    "Job_tags1=web_driver.find_elements_by_tag_name('h2')\n",
    "#Job_tags\n",
    "for i in Job_tags1:\n",
    "    print(i.text) \n",
    "    \n",
    "job_titles1=[]\n",
    "for i in Job_tags1:\n",
    "    if i.text is None:\n",
    "        job_titles1.append('Not')\n",
    "    else:\n",
    "        job_titles1.append(i.text)\n",
    "job_titles1[:10]  "
   ]
  },
  {
   "cell_type": "code",
   "execution_count": 106,
   "id": "8d903616",
   "metadata": {},
   "outputs": [
    {
     "data": {
      "text/plain": [
       "['ashutosh sabhashankar chaturvedi hi...',\n",
       " 'hyatt',\n",
       " 'orcapod consulting services pvt. lt...',\n",
       " 'boyen haddin consulting and technol...',\n",
       " 'uscreen',\n",
       " 'nina s hr consultancy',\n",
       " 'nina s hr consultancy',\n",
       " 'alpine manpower services',\n",
       " 'alpine manpower services',\n",
       " 'boyen haddin consulting and technol...']"
      ]
     },
     "execution_count": 106,
     "metadata": {},
     "output_type": "execute_result"
    }
   ],
   "source": [
    "# lets extract all the tags having company names\n",
    "company_tags1=web_driver.find_elements_by_xpath(\"//div[@class='jobCard_jobCard_cName__mYnow']//span\")\n",
    "company_tags1\n",
    "\n",
    "companies_names1=[]\n",
    "\n",
    "for i in company_tags1:\n",
    "    companies_names1.append(i.text)\n",
    "companies_names1[:10] "
   ]
  },
  {
   "cell_type": "code",
   "execution_count": 107,
   "id": "0f51121b",
   "metadata": {},
   "outputs": [
    {
     "data": {
      "text/plain": [
       "['7 to 12 Yrs',\n",
       " '2 to 3 Yrs',\n",
       " '2 to 4 Yrs',\n",
       " '5 to 9 Yrs',\n",
       " '3 to 4 Yrs',\n",
       " '2 to 3 Yrs',\n",
       " '2 to 3 Yrs',\n",
       " '0 to 3 Yrs',\n",
       " '0 to 3 Yrs',\n",
       " '3 to 5 Yrs']"
      ]
     },
     "execution_count": 107,
     "metadata": {},
     "output_type": "execute_result"
    }
   ],
   "source": [
    "experience_tags1=web_driver.find_elements_by_xpath(\"//div[contains(@class,'jobCard_jobCard_lists_item__YxRkV jobCard_jobIcon__3FB1t')]\")\n",
    "experience_tags1\n",
    "experience_list1=[]\n",
    "for i in experience_tags1:\n",
    "    experience_list1.append(i.text)\n",
    "experience_list1[:10]   "
   ]
  },
  {
   "cell_type": "code",
   "execution_count": 108,
   "id": "7adfa207",
   "metadata": {},
   "outputs": [
    {
     "data": {
      "text/plain": [
       "['Delhi\\n+9',\n",
       " 'Delhi',\n",
       " 'Delhi\\n+2',\n",
       " 'Delhi\\n+6',\n",
       " 'Delhi',\n",
       " 'Delhi',\n",
       " 'Delhi',\n",
       " 'Delhi',\n",
       " 'Delhi',\n",
       " 'Delhi\\n+4']"
      ]
     },
     "execution_count": 108,
     "metadata": {},
     "output_type": "execute_result"
    }
   ],
   "source": [
    "locations_tags1=web_driver.find_elements_by_xpath(\"//div[contains(@class,'jobCard_jobCard_lists_item__YxRkV jobCard_locationIcon__zrWt2')]\")\n",
    "locations_tags1\n",
    "\n",
    "locations_list1=[]\n",
    "for i in locations_tags1:\n",
    "    locations_list1.append(i.text)\n",
    "locations_list1[:10]   "
   ]
  },
  {
   "cell_type": "code",
   "execution_count": 109,
   "id": "82ed03b1",
   "metadata": {},
   "outputs": [
    {
     "name": "stdout",
     "output_type": "stream",
     "text": [
      "10\n",
      "10\n",
      "10\n",
      "10\n"
     ]
    },
    {
     "data": {
      "text/plain": [
       "(None, None, None, None)"
      ]
     },
     "execution_count": 109,
     "metadata": {},
     "output_type": "execute_result"
    }
   ],
   "source": [
    "print(len(job_titles1[:10])),print(len(companies_names1[:10])),print(len(experience_list1[:10])),print(len(locations_list1[:10]))"
   ]
  },
  {
   "cell_type": "code",
   "execution_count": 110,
   "id": "ca29e8b9",
   "metadata": {},
   "outputs": [
    {
     "data": {
      "text/html": [
       "<div>\n",
       "<style scoped>\n",
       "    .dataframe tbody tr th:only-of-type {\n",
       "        vertical-align: middle;\n",
       "    }\n",
       "\n",
       "    .dataframe tbody tr th {\n",
       "        vertical-align: top;\n",
       "    }\n",
       "\n",
       "    .dataframe thead th {\n",
       "        text-align: right;\n",
       "    }\n",
       "</style>\n",
       "<table border=\"1\" class=\"dataframe\">\n",
       "  <thead>\n",
       "    <tr style=\"text-align: right;\">\n",
       "      <th></th>\n",
       "      <th>title</th>\n",
       "      <th>location</th>\n",
       "      <th>company</th>\n",
       "      <th>experience_required</th>\n",
       "    </tr>\n",
       "  </thead>\n",
       "  <tbody>\n",
       "    <tr>\n",
       "      <th>0</th>\n",
       "      <td>Data Analyst</td>\n",
       "      <td>Delhi\\n+9</td>\n",
       "      <td>ashutosh sabhashankar chaturvedi hi...</td>\n",
       "      <td>7 to 12 Yrs</td>\n",
       "    </tr>\n",
       "    <tr>\n",
       "      <th>1</th>\n",
       "      <td>Market Data Analyst</td>\n",
       "      <td>Delhi</td>\n",
       "      <td>hyatt</td>\n",
       "      <td>2 to 3 Yrs</td>\n",
       "    </tr>\n",
       "    <tr>\n",
       "      <th>2</th>\n",
       "      <td>Data Analyst</td>\n",
       "      <td>Delhi\\n+2</td>\n",
       "      <td>orcapod consulting services pvt. lt...</td>\n",
       "      <td>2 to 4 Yrs</td>\n",
       "    </tr>\n",
       "    <tr>\n",
       "      <th>3</th>\n",
       "      <td>Dy. Manager/Manager Process Data Analytics</td>\n",
       "      <td>Delhi\\n+6</td>\n",
       "      <td>boyen haddin consulting and technol...</td>\n",
       "      <td>5 to 9 Yrs</td>\n",
       "    </tr>\n",
       "    <tr>\n",
       "      <th>4</th>\n",
       "      <td>Data Analyst</td>\n",
       "      <td>Delhi</td>\n",
       "      <td>uscreen</td>\n",
       "      <td>3 to 4 Yrs</td>\n",
       "    </tr>\n",
       "    <tr>\n",
       "      <th>5</th>\n",
       "      <td>for _GCP Data Engineer/Lead/Architect- Delhi</td>\n",
       "      <td>Delhi</td>\n",
       "      <td>nina s hr consultancy</td>\n",
       "      <td>2 to 3 Yrs</td>\n",
       "    </tr>\n",
       "    <tr>\n",
       "      <th>6</th>\n",
       "      <td>How relevant did you find the job search resul...</td>\n",
       "      <td>Delhi</td>\n",
       "      <td>nina s hr consultancy</td>\n",
       "      <td>2 to 3 Yrs</td>\n",
       "    </tr>\n",
       "    <tr>\n",
       "      <th>7</th>\n",
       "      <td>for _GCP Data Engineer/Lead/Architect- Delhi</td>\n",
       "      <td>Delhi</td>\n",
       "      <td>alpine manpower services</td>\n",
       "      <td>0 to 3 Yrs</td>\n",
       "    </tr>\n",
       "    <tr>\n",
       "      <th>8</th>\n",
       "      <td>Data Entry Delhi</td>\n",
       "      <td>Delhi</td>\n",
       "      <td>alpine manpower services</td>\n",
       "      <td>0 to 3 Yrs</td>\n",
       "    </tr>\n",
       "    <tr>\n",
       "      <th>9</th>\n",
       "      <td>Data Entry Delhi</td>\n",
       "      <td>Delhi\\n+4</td>\n",
       "      <td>boyen haddin consulting and technol...</td>\n",
       "      <td>3 to 5 Yrs</td>\n",
       "    </tr>\n",
       "  </tbody>\n",
       "</table>\n",
       "</div>"
      ],
      "text/plain": [
       "                                               title   location  \\\n",
       "0                                       Data Analyst  Delhi\\n+9   \n",
       "1                                Market Data Analyst      Delhi   \n",
       "2                                       Data Analyst  Delhi\\n+2   \n",
       "3         Dy. Manager/Manager Process Data Analytics  Delhi\\n+6   \n",
       "4                                       Data Analyst      Delhi   \n",
       "5       for _GCP Data Engineer/Lead/Architect- Delhi      Delhi   \n",
       "6  How relevant did you find the job search resul...      Delhi   \n",
       "7       for _GCP Data Engineer/Lead/Architect- Delhi      Delhi   \n",
       "8                                   Data Entry Delhi      Delhi   \n",
       "9                                   Data Entry Delhi  Delhi\\n+4   \n",
       "\n",
       "                                  company experience_required  \n",
       "0  ashutosh sabhashankar chaturvedi hi...         7 to 12 Yrs  \n",
       "1                                   hyatt          2 to 3 Yrs  \n",
       "2  orcapod consulting services pvt. lt...          2 to 4 Yrs  \n",
       "3  boyen haddin consulting and technol...          5 to 9 Yrs  \n",
       "4                                 uscreen          3 to 4 Yrs  \n",
       "5                   nina s hr consultancy          2 to 3 Yrs  \n",
       "6                   nina s hr consultancy          2 to 3 Yrs  \n",
       "7                alpine manpower services          0 to 3 Yrs  \n",
       "8                alpine manpower services          0 to 3 Yrs  \n",
       "9  boyen haddin consulting and technol...          3 to 5 Yrs  "
      ]
     },
     "execution_count": 110,
     "metadata": {},
     "output_type": "execute_result"
    }
   ],
   "source": [
    "jobs1=pd.DataFrame({})\n",
    "jobs1['title']=job_titles1[:10]\n",
    "jobs1['location']=locations_list1[:10]\n",
    "jobs1['company']=companies_names1[:10]\n",
    "jobs1['experience_required']=experience_list1[:10]\n",
    "jobs1"
   ]
  },
  {
   "cell_type": "markdown",
   "id": "8de0c729",
   "metadata": {},
   "source": [
    "Q4: Scrape data of first 100 sunglasses listings on flipkart.com. You have to scrape four attributes:\n",
    "6.\tBrand\n",
    "7.\tProduct Description\n",
    "8.\tPrice\n",
    "The attributes which you have to scrape is ticked marked in the below image.\n",
    "To scrape the data you have to go through following steps:\n",
    "1.\tGo to Flipkart webpage by url : https://www.flipkart.com/\n",
    "2.\tEnter “sunglasses” in the search field where “search for products, brands and more” is written and click the search icon\n",
    "3.\tAfter that you will reach to the page having a lot of sunglasses. From this page you can scrap the required data as usual.\n",
    "4.\tAfter scraping data from the first page, go to the “Next” Button at the bottom other page , then\n",
    "click on it.\n",
    "5.\tNow scrape data from this page as usual\n",
    "6.\tRepeat this until you get data for 100sunglasses.\n",
    "\n"
   ]
  },
  {
   "cell_type": "code",
   "execution_count": 112,
   "id": "dde8fea1",
   "metadata": {},
   "outputs": [],
   "source": [
    "web_driver=webdriver.Chrome(r\"C:\\Learning\\FLIPNROBO\\chromedriver-win64\\chromedriver.exe\")\n",
    "url_f = \"https://www.flipkart.com/\"\n",
    "web_driver.get(url_f)"
   ]
  },
  {
   "cell_type": "code",
   "execution_count": 113,
   "id": "09a1eb49",
   "metadata": {},
   "outputs": [],
   "source": [
    "#cross login page\n",
    "cross_btn= web_driver.find_element_by_xpath('/html/body/div[2]/div/div/button').click()\n",
    "cross_btn"
   ]
  },
  {
   "cell_type": "code",
   "execution_count": 117,
   "id": "dcf017ca",
   "metadata": {},
   "outputs": [],
   "source": [
    "#searn sunglass\n",
    "search_sunglass= web_driver.find_element_by_xpath('//*[@id=\"container\"]/div/div[1]/div[1]/div[2]/div[2]/form/div/div/input').click()\n",
    "search_sunglass\n",
    "#search_sunglass.send_keys('sunglass')"
   ]
  },
  {
   "cell_type": "code",
   "execution_count": 125,
   "id": "c00a6bbd",
   "metadata": {},
   "outputs": [],
   "source": [
    "search_sunglass = web_driver.find_element_by_xpath(\"//input[@class='_3704LK' and @type='text']\").send_keys(\"sunglass\")\n",
    "search_sunglass"
   ]
  },
  {
   "cell_type": "code",
   "execution_count": 127,
   "id": "9923d212",
   "metadata": {},
   "outputs": [],
   "source": [
    "#click the search icon\n",
    "search_button= web_driver.find_element_by_xpath('//button[@class=\"L0Z3Pu\" and @type=\"submit\"]').click()\n",
    "search_button"
   ]
  },
  {
   "cell_type": "code",
   "execution_count": 142,
   "id": "14bbd815",
   "metadata": {},
   "outputs": [],
   "source": [
    "glass_name=[]\n",
    "Price=[]\n",
    "Pr_desc=[]\n",
    "Discount=[]\n",
    "\n",
    "\n"
   ]
  },
  {
   "cell_type": "code",
   "execution_count": 143,
   "id": "23ea7d3e",
   "metadata": {},
   "outputs": [],
   "source": [
    "for i in range(3):\n",
    "    glass= web_driver.find_elements_by_xpath(\"//div[@class='_2WkVRV']\")\n",
    "    p_desc =web_driver.find_elements_by_xpath(\"//a[@class='IRpwTa']\")\n",
    "    price = web_driver.find_elements_by_xpath(\"//div[@class='_25b18c']\")\n",
    "    discount= web_driver.find_elements_by_xpath(\"//div[@class='_3Ay6Sb']\")\n",
    "    \n",
    "    for j in  glass:\n",
    "         glass_name.append(j.text)\n",
    "    glass_name[:100]    \n",
    "    \n",
    "    \n",
    "    \n",
    "    for k in p_desc:\n",
    "        P_desc.append(k.text)\n",
    "    P_desc[:100] \n",
    "    \n",
    "    \n",
    "    for l in price:\n",
    "        Price.append(l.text)\n",
    "    Price[:100] \n",
    "    \n",
    "    \n",
    "    for t in discount:\n",
    "        Discount.append(t.text)\n",
    "    Discount[:100]\n"
   ]
  },
  {
   "cell_type": "code",
   "execution_count": 145,
   "id": "557b6715",
   "metadata": {},
   "outputs": [
    {
     "name": "stdout",
     "output_type": "stream",
     "text": [
      "100\n",
      "100\n",
      "100\n",
      "100\n"
     ]
    },
    {
     "data": {
      "text/plain": [
       "(None, None, None, None)"
      ]
     },
     "execution_count": 145,
     "metadata": {},
     "output_type": "execute_result"
    }
   ],
   "source": [
    "print(len( glass_name[:100])),print(len(Price[:100])),print(len(P_desc[:100])),print(len(Discount[:100]))"
   ]
  },
  {
   "cell_type": "code",
   "execution_count": 147,
   "id": "c4d6b033",
   "metadata": {},
   "outputs": [
    {
     "data": {
      "text/html": [
       "<div>\n",
       "<style scoped>\n",
       "    .dataframe tbody tr th:only-of-type {\n",
       "        vertical-align: middle;\n",
       "    }\n",
       "\n",
       "    .dataframe tbody tr th {\n",
       "        vertical-align: top;\n",
       "    }\n",
       "\n",
       "    .dataframe thead th {\n",
       "        text-align: right;\n",
       "    }\n",
       "</style>\n",
       "<table border=\"1\" class=\"dataframe\">\n",
       "  <thead>\n",
       "    <tr style=\"text-align: right;\">\n",
       "      <th></th>\n",
       "      <th>Brand_name</th>\n",
       "      <th>P_price</th>\n",
       "      <th>Pr_desc</th>\n",
       "      <th>P_discount</th>\n",
       "    </tr>\n",
       "  </thead>\n",
       "  <tbody>\n",
       "    <tr>\n",
       "      <th>0</th>\n",
       "      <td>VINCENT CHASE</td>\n",
       "      <td>₹883₹1,99955% off</td>\n",
       "      <td>Polarized, UV Protection Round Sunglasses (50)</td>\n",
       "      <td>55% off</td>\n",
       "    </tr>\n",
       "    <tr>\n",
       "      <th>1</th>\n",
       "      <td>GANSTA</td>\n",
       "      <td>₹292₹1,99985% off</td>\n",
       "      <td>Gradient, UV Protection Aviator Sunglasses (57)</td>\n",
       "      <td>85% off</td>\n",
       "    </tr>\n",
       "    <tr>\n",
       "      <th>2</th>\n",
       "      <td>SRPM</td>\n",
       "      <td>₹204₹1,29984% off</td>\n",
       "      <td>UV Protection Wayfarer Sunglasses (50)</td>\n",
       "      <td>84% off</td>\n",
       "    </tr>\n",
       "    <tr>\n",
       "      <th>3</th>\n",
       "      <td>PIRASO</td>\n",
       "      <td>₹239₹1,59985% off</td>\n",
       "      <td>UV Protection Clubmaster Sunglasses (54)</td>\n",
       "      <td>85% off</td>\n",
       "    </tr>\n",
       "    <tr>\n",
       "      <th>4</th>\n",
       "      <td>Elligator</td>\n",
       "      <td>₹179₹59970% off</td>\n",
       "      <td>UV Protection Cat-eye, Retro Square, Oval, Rou...</td>\n",
       "      <td>70% off</td>\n",
       "    </tr>\n",
       "    <tr>\n",
       "      <th>...</th>\n",
       "      <td>...</td>\n",
       "      <td>...</td>\n",
       "      <td>...</td>\n",
       "      <td>...</td>\n",
       "    </tr>\n",
       "    <tr>\n",
       "      <th>95</th>\n",
       "      <td>Fastrack</td>\n",
       "      <td>₹629₹89930% off</td>\n",
       "      <td>UV Protection Retro Square Sunglasses (54)</td>\n",
       "      <td>77% off</td>\n",
       "    </tr>\n",
       "    <tr>\n",
       "      <th>96</th>\n",
       "      <td>agera</td>\n",
       "      <td>₹999₹3,00066% off</td>\n",
       "      <td>UV Protection Round Sunglasses (Free Size)</td>\n",
       "      <td>87% off</td>\n",
       "    </tr>\n",
       "    <tr>\n",
       "      <th>97</th>\n",
       "      <td>IDEE</td>\n",
       "      <td>₹3,134₹6,00047% off</td>\n",
       "      <td>UV Protection Wayfarer Sunglasses (59)</td>\n",
       "      <td>52% off</td>\n",
       "    </tr>\n",
       "    <tr>\n",
       "      <th>98</th>\n",
       "      <td>sunwear</td>\n",
       "      <td>₹769₹1,09930% off</td>\n",
       "      <td>Mirrored Aviator Sunglasses (58)</td>\n",
       "      <td>55% off</td>\n",
       "    </tr>\n",
       "    <tr>\n",
       "      <th>99</th>\n",
       "      <td>Elligator</td>\n",
       "      <td>₹199₹99980% off</td>\n",
       "      <td>by Lenskart Polarized, UV Protection Aviator S...</td>\n",
       "      <td>70% off</td>\n",
       "    </tr>\n",
       "  </tbody>\n",
       "</table>\n",
       "<p>100 rows × 4 columns</p>\n",
       "</div>"
      ],
      "text/plain": [
       "       Brand_name              P_price  \\\n",
       "0   VINCENT CHASE    ₹883₹1,99955% off   \n",
       "1          GANSTA    ₹292₹1,99985% off   \n",
       "2            SRPM    ₹204₹1,29984% off   \n",
       "3          PIRASO    ₹239₹1,59985% off   \n",
       "4       Elligator      ₹179₹59970% off   \n",
       "..            ...                  ...   \n",
       "95       Fastrack      ₹629₹89930% off   \n",
       "96          agera    ₹999₹3,00066% off   \n",
       "97           IDEE  ₹3,134₹6,00047% off   \n",
       "98        sunwear    ₹769₹1,09930% off   \n",
       "99      Elligator      ₹199₹99980% off   \n",
       "\n",
       "                                              Pr_desc P_discount  \n",
       "0      Polarized, UV Protection Round Sunglasses (50)    55% off  \n",
       "1     Gradient, UV Protection Aviator Sunglasses (57)    85% off  \n",
       "2              UV Protection Wayfarer Sunglasses (50)    84% off  \n",
       "3            UV Protection Clubmaster Sunglasses (54)    85% off  \n",
       "4   UV Protection Cat-eye, Retro Square, Oval, Rou...    70% off  \n",
       "..                                                ...        ...  \n",
       "95         UV Protection Retro Square Sunglasses (54)    77% off  \n",
       "96         UV Protection Round Sunglasses (Free Size)    87% off  \n",
       "97             UV Protection Wayfarer Sunglasses (59)    52% off  \n",
       "98                   Mirrored Aviator Sunglasses (58)    55% off  \n",
       "99  by Lenskart Polarized, UV Protection Aviator S...    70% off  \n",
       "\n",
       "[100 rows x 4 columns]"
      ]
     },
     "execution_count": 147,
     "metadata": {},
     "output_type": "execute_result"
    }
   ],
   "source": [
    "#create dataframe\n",
    "sun_glass=pd.DataFrame({})\n",
    "sun_glass['Brand_name']=glass_name[:100]\n",
    "sun_glass['P_price']=Price[:100]\n",
    "sun_glass['Pr_desc']=P_desc[:100]\n",
    "sun_glass['P_discount']=Discount[:100]\n",
    "sun_glass"
   ]
  },
  {
   "cell_type": "markdown",
   "id": "b8cdefb9",
   "metadata": {},
   "source": [
    "Q5: Scrape 100 reviews data from flipkart.com for iphone11 phone. You have to go the link: https://www.flipkart.com/apple-iphone-11-black-64-gb/product- reviews/itm4e5041ba101fd?pid=MOBFWQ6BXGJCEYNY&lid=LSTMOBFWQ6BXGJCEYNYZXSHRJ&market place=FLIPKART\n",
    "            As shown in the above page you have to scrape the tick marked attributes. These are:\n",
    "1.\tRating\n",
    "2.\tReview summary\n",
    "3.\tFull review\n",
    "4.\tYou have to scrape this data for first 100reviews.\n"
   ]
  },
  {
   "cell_type": "code",
   "execution_count": 167,
   "id": "38bc38ae",
   "metadata": {},
   "outputs": [],
   "source": [
    "web_driver=webdriver.Chrome(r\"C:\\Learning\\FLIPNROBO\\chromedriver-win64\\chromedriver.exe\")\n",
    "url_p = \"https://www.flipkart.com/apple-iphone-11-black-64-gb/product-reviews/itm4e5041ba101fd?pid=MOBFWQ6BXGJCEYNY&lid=LSTMOBFWQ6BXGJCEYNYZE3ENS&marketplace=FLIPKART\"\n",
    "web_driver.get(url_p)"
   ]
  },
  {
   "cell_type": "code",
   "execution_count": 157,
   "id": "edd7d757",
   "metadata": {},
   "outputs": [],
   "source": [
    "rating=[]\n",
    "review=[]\n",
    "full_review=[]\n"
   ]
  },
  {
   "cell_type": "code",
   "execution_count": 170,
   "id": "9b24fcf3",
   "metadata": {},
   "outputs": [],
   "source": [
    "for index in range(3):\n",
    "    Rating= web_driver.find_elements_by_xpath(\"//div[@class='_3LWZlK _1BLPMq']\")\n",
    "    Reveiw =web_driver.find_elements_by_xpath(\"//div//p[@class='_2-N8zT']\")\n",
    "    Full_Reveiw= web_driver.find_elements_by_xpath(\"//div[@class='t-ZTKy']\")\n",
    "    \n",
    "    \n",
    "    for t in Rating:\n",
    "         rating.append(t.text)\n",
    "    rating[:100]    \n",
    "    \n",
    "    \n",
    "    \n",
    "    for o in Reveiw:\n",
    "        review.append(o.text)\n",
    "    review[:100] \n",
    "    \n",
    "    \n",
    "    for n in Full_Reveiw:\n",
    "        full_review.append(n.text)\n",
    "    full_review[:100] \n",
    "      \n"
   ]
  },
  {
   "cell_type": "code",
   "execution_count": 171,
   "id": "3ed68c8f",
   "metadata": {},
   "outputs": [
    {
     "name": "stdout",
     "output_type": "stream",
     "text": [
      "100\n",
      "100\n",
      "100\n"
     ]
    },
    {
     "data": {
      "text/plain": [
       "(None, None, None)"
      ]
     },
     "execution_count": 171,
     "metadata": {},
     "output_type": "execute_result"
    }
   ],
   "source": [
    "print(len( rating[:100])),print(len(review[:100])),print(len(full_review[:100]))"
   ]
  },
  {
   "cell_type": "code",
   "execution_count": 172,
   "id": "a0cff2f4",
   "metadata": {},
   "outputs": [
    {
     "data": {
      "text/html": [
       "<div>\n",
       "<style scoped>\n",
       "    .dataframe tbody tr th:only-of-type {\n",
       "        vertical-align: middle;\n",
       "    }\n",
       "\n",
       "    .dataframe tbody tr th {\n",
       "        vertical-align: top;\n",
       "    }\n",
       "\n",
       "    .dataframe thead th {\n",
       "        text-align: right;\n",
       "    }\n",
       "</style>\n",
       "<table border=\"1\" class=\"dataframe\">\n",
       "  <thead>\n",
       "    <tr style=\"text-align: right;\">\n",
       "      <th></th>\n",
       "      <th>Brand_name</th>\n",
       "      <th>P_price</th>\n",
       "      <th>Pr_desc</th>\n",
       "    </tr>\n",
       "  </thead>\n",
       "  <tbody>\n",
       "    <tr>\n",
       "      <th>0</th>\n",
       "      <td>5</td>\n",
       "      <td>Awesome</td>\n",
       "      <td>Photos super</td>\n",
       "    </tr>\n",
       "    <tr>\n",
       "      <th>1</th>\n",
       "      <td>5</td>\n",
       "      <td>Great product</td>\n",
       "      <td>Camera is awesome\\nBest battery backup\\nA perf...</td>\n",
       "    </tr>\n",
       "    <tr>\n",
       "      <th>2</th>\n",
       "      <td>5</td>\n",
       "      <td>Delightful</td>\n",
       "      <td>Very very good</td>\n",
       "    </tr>\n",
       "    <tr>\n",
       "      <th>3</th>\n",
       "      <td>5</td>\n",
       "      <td>Great product</td>\n",
       "      <td>This is amazing at all</td>\n",
       "    </tr>\n",
       "    <tr>\n",
       "      <th>4</th>\n",
       "      <td>5</td>\n",
       "      <td>Fabulous!</td>\n",
       "      <td>V Good all</td>\n",
       "    </tr>\n",
       "    <tr>\n",
       "      <th>...</th>\n",
       "      <td>...</td>\n",
       "      <td>...</td>\n",
       "      <td>...</td>\n",
       "    </tr>\n",
       "    <tr>\n",
       "      <th>95</th>\n",
       "      <td>5</td>\n",
       "      <td>Classy product</td>\n",
       "      <td>Camera is awesome\\nBest battery backup\\nA perf...</td>\n",
       "    </tr>\n",
       "    <tr>\n",
       "      <th>96</th>\n",
       "      <td>5</td>\n",
       "      <td>Terrific</td>\n",
       "      <td>Very very good</td>\n",
       "    </tr>\n",
       "    <tr>\n",
       "      <th>97</th>\n",
       "      <td>5</td>\n",
       "      <td>Wonderful</td>\n",
       "      <td>This is amazing at all</td>\n",
       "    </tr>\n",
       "    <tr>\n",
       "      <th>98</th>\n",
       "      <td>5</td>\n",
       "      <td>Perfect product!</td>\n",
       "      <td>V Good all</td>\n",
       "    </tr>\n",
       "    <tr>\n",
       "      <th>99</th>\n",
       "      <td>5</td>\n",
       "      <td>Worth every penny</td>\n",
       "      <td>Feeling awesome after getting the delivery of ...</td>\n",
       "    </tr>\n",
       "  </tbody>\n",
       "</table>\n",
       "<p>100 rows × 3 columns</p>\n",
       "</div>"
      ],
      "text/plain": [
       "   Brand_name            P_price  \\\n",
       "0           5            Awesome   \n",
       "1           5      Great product   \n",
       "2           5         Delightful   \n",
       "3           5      Great product   \n",
       "4           5          Fabulous!   \n",
       "..        ...                ...   \n",
       "95          5     Classy product   \n",
       "96          5           Terrific   \n",
       "97          5          Wonderful   \n",
       "98          5   Perfect product!   \n",
       "99          5  Worth every penny   \n",
       "\n",
       "                                              Pr_desc  \n",
       "0                                        Photos super  \n",
       "1   Camera is awesome\\nBest battery backup\\nA perf...  \n",
       "2                                      Very very good  \n",
       "3                              This is amazing at all  \n",
       "4                                          V Good all  \n",
       "..                                                ...  \n",
       "95  Camera is awesome\\nBest battery backup\\nA perf...  \n",
       "96                                     Very very good  \n",
       "97                             This is amazing at all  \n",
       "98                                         V Good all  \n",
       "99  Feeling awesome after getting the delivery of ...  \n",
       "\n",
       "[100 rows x 3 columns]"
      ]
     },
     "execution_count": 172,
     "metadata": {},
     "output_type": "execute_result"
    }
   ],
   "source": [
    "#create dataframe\n",
    "iphone=pd.DataFrame({})\n",
    "iphone['Brand_name']=rating[:100]\n",
    "iphone['P_price']=review[:100]\n",
    "iphone['Pr_desc']=full_review[:100]\n",
    "\n",
    "iphone"
   ]
  },
  {
   "cell_type": "markdown",
   "id": "c1e380c2",
   "metadata": {},
   "source": [
    "Q6: Scrape data for first 100 sneakers you find when you visit flipkart.com and search for “sneakers” in the search field.\n",
    "You have to scrape 3 attributes of each sneaker:\n",
    "1.\tBrand\n",
    "2.\tProduct Description\n",
    "3.\tPrice\n"
   ]
  },
  {
   "cell_type": "code",
   "execution_count": 189,
   "id": "16a7a447",
   "metadata": {},
   "outputs": [],
   "source": [
    "web_driver=webdriver.Chrome(r\"C:\\Learning\\FLIPNROBO\\chromedriver-win64\\chromedriver.exe\")\n",
    "url_f = \"https://www.flipkart.com/\"\n",
    "web_driver.get(url_f)"
   ]
  },
  {
   "cell_type": "code",
   "execution_count": 190,
   "id": "cce2f349",
   "metadata": {},
   "outputs": [],
   "source": [
    "#cross login page\n",
    "cross_btn= web_driver.find_element_by_xpath('/html/body/div[2]/div/div/button').click()\n",
    "cross_btn"
   ]
  },
  {
   "cell_type": "code",
   "execution_count": 191,
   "id": "81531a35",
   "metadata": {},
   "outputs": [],
   "source": [
    "search_sneaker= web_driver.find_element_by_xpath(\"//input[@type='text']\")\n",
    "search_sneaker.send_keys('sneakers')"
   ]
  },
  {
   "cell_type": "code",
   "execution_count": 197,
   "id": "ecc0310a",
   "metadata": {},
   "outputs": [],
   "source": [
    "search_btn=web_driver.find_element_by_xpath('//button[@class=\"L0Z3Pu\" and @type=\"submit\"]').click()\n",
    "search_btn"
   ]
  },
  {
   "cell_type": "code",
   "execution_count": 198,
   "id": "26f75d58",
   "metadata": {},
   "outputs": [],
   "source": [
    "B_name=[]\n",
    "Price=[]\n",
    "P_desc=[]\n"
   ]
  },
  {
   "cell_type": "code",
   "execution_count": 199,
   "id": "1cd9403f",
   "metadata": {},
   "outputs": [],
   "source": [
    "for i in range(2):\n",
    "    b_name=web_driver.find_elements_by_xpath(\"//div[@class='_2WkVRV']\")\n",
    "    p_desc=web_driver.find_elements_by_xpath(\"//a[@class='IRpwTa']\")\n",
    "    price =web_driver.find_elements_by_xpath(\"//div[@class='_25b18c']\")\n",
    "\n",
    "    \n",
    "    for j  in b_name:\n",
    "        B_name.append(j.text)\n",
    "    B_name[:100]    \n",
    "    \n",
    "\n",
    "    \n",
    "    \n",
    "    for g in price:\n",
    "        Price.append(g.text)\n",
    "    Price[:100] \n",
    "    \n",
    "    \n",
    "    for k in p_desc:\n",
    "        P_desc.append(k.text)\n",
    "    P_desc[:100] "
   ]
  },
  {
   "cell_type": "code",
   "execution_count": 200,
   "id": "194a15a7",
   "metadata": {},
   "outputs": [
    {
     "name": "stdout",
     "output_type": "stream",
     "text": [
      "100\n",
      "100\n",
      "100\n"
     ]
    },
    {
     "data": {
      "text/plain": [
       "(None, None, None)"
      ]
     },
     "execution_count": 200,
     "metadata": {},
     "output_type": "execute_result"
    }
   ],
   "source": [
    "print(len(B_name[:100])),print(len(Price[:100])),print(len(P_desc[:100]))"
   ]
  },
  {
   "cell_type": "code",
   "execution_count": 201,
   "id": "eceb2e0d",
   "metadata": {},
   "outputs": [
    {
     "data": {
      "text/html": [
       "<div>\n",
       "<style scoped>\n",
       "    .dataframe tbody tr th:only-of-type {\n",
       "        vertical-align: middle;\n",
       "    }\n",
       "\n",
       "    .dataframe tbody tr th {\n",
       "        vertical-align: top;\n",
       "    }\n",
       "\n",
       "    .dataframe thead th {\n",
       "        text-align: right;\n",
       "    }\n",
       "</style>\n",
       "<table border=\"1\" class=\"dataframe\">\n",
       "  <thead>\n",
       "    <tr style=\"text-align: right;\">\n",
       "      <th></th>\n",
       "      <th>Brand_name</th>\n",
       "      <th>P_price</th>\n",
       "      <th>Pr_desc</th>\n",
       "    </tr>\n",
       "  </thead>\n",
       "  <tbody>\n",
       "    <tr>\n",
       "      <th>0</th>\n",
       "      <td>Elevarse</td>\n",
       "      <td>₹279₹89968% off</td>\n",
       "      <td>Comfortable and Light Weight sports shoes for ...</td>\n",
       "    </tr>\n",
       "    <tr>\n",
       "      <th>1</th>\n",
       "      <td>Elevarse</td>\n",
       "      <td>₹279₹89968% off</td>\n",
       "      <td>Smart Sports running shoes for men and boys Sn...</td>\n",
       "    </tr>\n",
       "    <tr>\n",
       "      <th>2</th>\n",
       "      <td>PUMA</td>\n",
       "      <td>₹1,508₹3,99962% off</td>\n",
       "      <td>UP Sneakers For Men</td>\n",
       "    </tr>\n",
       "    <tr>\n",
       "      <th>3</th>\n",
       "      <td>Nobelite</td>\n",
       "      <td>₹499₹99850% off</td>\n",
       "      <td>Sneakers For Men</td>\n",
       "    </tr>\n",
       "    <tr>\n",
       "      <th>4</th>\n",
       "      <td>BRUTON</td>\n",
       "      <td>₹379₹1,29970% off</td>\n",
       "      <td>Modern Trendy Shoes Sneakers For Men</td>\n",
       "    </tr>\n",
       "    <tr>\n",
       "      <th>...</th>\n",
       "      <td>...</td>\n",
       "      <td>...</td>\n",
       "      <td>...</td>\n",
       "    </tr>\n",
       "    <tr>\n",
       "      <th>95</th>\n",
       "      <td>PUMA</td>\n",
       "      <td>₹3,999₹4,99920% off</td>\n",
       "      <td>Sneakers For Men</td>\n",
       "    </tr>\n",
       "    <tr>\n",
       "      <th>96</th>\n",
       "      <td>SFR</td>\n",
       "      <td>₹549₹99945% off</td>\n",
       "      <td>Street Style Sneakers For Men</td>\n",
       "    </tr>\n",
       "    <tr>\n",
       "      <th>97</th>\n",
       "      <td>SFR</td>\n",
       "      <td>₹449₹1,29965% off</td>\n",
       "      <td>Club Culture Sneakers For Men</td>\n",
       "    </tr>\n",
       "    <tr>\n",
       "      <th>98</th>\n",
       "      <td>Free Kicks</td>\n",
       "      <td>₹1,299₹3,99967% off</td>\n",
       "      <td>Lightweight,Comfort,Summer,Trendy,Walking,Outd...</td>\n",
       "    </tr>\n",
       "    <tr>\n",
       "      <th>99</th>\n",
       "      <td>aadi</td>\n",
       "      <td>₹499₹99850% off</td>\n",
       "      <td>Spectrum V2 Sneakers For Men</td>\n",
       "    </tr>\n",
       "  </tbody>\n",
       "</table>\n",
       "<p>100 rows × 3 columns</p>\n",
       "</div>"
      ],
      "text/plain": [
       "    Brand_name              P_price  \\\n",
       "0     Elevarse      ₹279₹89968% off   \n",
       "1     Elevarse      ₹279₹89968% off   \n",
       "2         PUMA  ₹1,508₹3,99962% off   \n",
       "3     Nobelite      ₹499₹99850% off   \n",
       "4       BRUTON    ₹379₹1,29970% off   \n",
       "..         ...                  ...   \n",
       "95        PUMA  ₹3,999₹4,99920% off   \n",
       "96         SFR      ₹549₹99945% off   \n",
       "97         SFR    ₹449₹1,29965% off   \n",
       "98  Free Kicks  ₹1,299₹3,99967% off   \n",
       "99        aadi      ₹499₹99850% off   \n",
       "\n",
       "                                              Pr_desc  \n",
       "0   Comfortable and Light Weight sports shoes for ...  \n",
       "1   Smart Sports running shoes for men and boys Sn...  \n",
       "2                                 UP Sneakers For Men  \n",
       "3                                    Sneakers For Men  \n",
       "4                Modern Trendy Shoes Sneakers For Men  \n",
       "..                                                ...  \n",
       "95                                   Sneakers For Men  \n",
       "96                      Street Style Sneakers For Men  \n",
       "97                      Club Culture Sneakers For Men  \n",
       "98  Lightweight,Comfort,Summer,Trendy,Walking,Outd...  \n",
       "99                       Spectrum V2 Sneakers For Men  \n",
       "\n",
       "[100 rows x 3 columns]"
      ]
     },
     "execution_count": 201,
     "metadata": {},
     "output_type": "execute_result"
    }
   ],
   "source": [
    "shoes=pd.DataFrame({})\n",
    "shoes['Brand_name']=B_name[:100]\n",
    "shoes['P_price']=Price[:100]\n",
    "shoes['Pr_desc']=P_desc[:100]\n",
    "shoes"
   ]
  },
  {
   "cell_type": "markdown",
   "id": "2e05f8d1",
   "metadata": {},
   "source": [
    "Q7: Go to webpage https://www.amazon.in/ Enter “Laptop” in the search field and then click the search icon. Then\n",
    "set CPU Type filter to “Intel Core i7” as shown in the below image:\n",
    "After setting the filters scrape first 10 laptops data. You have to scrape 3 attributes for each laptop:\n",
    "1.\tTitle\n",
    "2.\tRatings\n",
    "3.\tPrice\n"
   ]
  },
  {
   "cell_type": "code",
   "execution_count": 202,
   "id": "22315a05",
   "metadata": {},
   "outputs": [],
   "source": [
    "web_driver=webdriver.Chrome(r\"C:\\Learning\\FLIPNROBO\\chromedriver-win64\\chromedriver.exe\")\n",
    "url_f = \"https://www.amazon.in/ \"\n",
    "web_driver.get(url_f)"
   ]
  },
  {
   "cell_type": "code",
   "execution_count": 205,
   "id": "259120a3",
   "metadata": {},
   "outputs": [],
   "source": [
    "search_g= web_driver.find_element_by_xpath(\"//input[@type='text']\")\n",
    "search_g\n",
    "search_g.send_keys('Laptop')"
   ]
  },
  {
   "cell_type": "code",
   "execution_count": 206,
   "id": "36b8784d",
   "metadata": {},
   "outputs": [],
   "source": [
    "search_btn=web_driver.find_element_by_xpath(\"//input[@id='nav-search-submit-button']\")\n",
    "search_btn\n",
    "search_btn.click()"
   ]
  },
  {
   "cell_type": "code",
   "execution_count": 208,
   "id": "3d3175bf",
   "metadata": {},
   "outputs": [],
   "source": [
    "search_intel=web_driver.find_element_by_xpath('//*[@id=\"p_n_feature_thirteen_browse-bin/12598163031\"]/span/a/div')\n",
    "search_intel\n",
    "search_intel.click()"
   ]
  },
  {
   "cell_type": "code",
   "execution_count": 211,
   "id": "aae19ae6",
   "metadata": {},
   "outputs": [],
   "source": [
    "Title=[]\n",
    "Price=[]\n",
    "Rating=[]"
   ]
  },
  {
   "cell_type": "code",
   "execution_count": 215,
   "id": "ee6db76f",
   "metadata": {},
   "outputs": [],
   "source": [
    "for i in range(2):\n",
    "    b_name=web_driver.find_elements_by_xpath(\"//h2[@class='a-size-mini a-spacing-none a-color-base s-line-clamp-2']\")\n",
    "    price =web_driver.find_elements_by_xpath(\"//span[@class='a-price-whole']\")\n",
    "    rating=web_driver.find_elements_by_xpath(\"//span[@class='a-size-base puis-normal-weight-text']\")\n",
    "    \n",
    "    \n",
    "    for j  in b_name:\n",
    "        Title.append(j.text)\n",
    "    Title[:10]    \n",
    "    \n",
    "    \n",
    "\n",
    "    \n",
    "    for l in price:\n",
    "        Price.append(l.text)\n",
    "    Price[:10] \n",
    "    \n",
    "    for k in rating:\n",
    "        Rating.append(k.text)\n",
    "    Rating[:10] "
   ]
  },
  {
   "cell_type": "code",
   "execution_count": 216,
   "id": "c98a3ed0",
   "metadata": {},
   "outputs": [
    {
     "name": "stdout",
     "output_type": "stream",
     "text": [
      "10\n",
      "10\n",
      "10\n"
     ]
    },
    {
     "data": {
      "text/plain": [
       "(None, None, None)"
      ]
     },
     "execution_count": 216,
     "metadata": {},
     "output_type": "execute_result"
    }
   ],
   "source": [
    "print(len(B_name[:10])),print(len(Price[:10])),print(len(P_desc[:10]))"
   ]
  },
  {
   "cell_type": "code",
   "execution_count": 218,
   "id": "5a0410a7",
   "metadata": {},
   "outputs": [
    {
     "data": {
      "text/html": [
       "<div>\n",
       "<style scoped>\n",
       "    .dataframe tbody tr th:only-of-type {\n",
       "        vertical-align: middle;\n",
       "    }\n",
       "\n",
       "    .dataframe tbody tr th {\n",
       "        vertical-align: top;\n",
       "    }\n",
       "\n",
       "    .dataframe thead th {\n",
       "        text-align: right;\n",
       "    }\n",
       "</style>\n",
       "<table border=\"1\" class=\"dataframe\">\n",
       "  <thead>\n",
       "    <tr style=\"text-align: right;\">\n",
       "      <th></th>\n",
       "      <th>Title</th>\n",
       "      <th>Rating</th>\n",
       "      <th>Price</th>\n",
       "    </tr>\n",
       "  </thead>\n",
       "  <tbody>\n",
       "    <tr>\n",
       "      <th>0</th>\n",
       "      <td>ASUS TUF Gaming F15, 15.6\"(39.62 cms) FHD 144H...</td>\n",
       "      <td>4.0</td>\n",
       "      <td>76,990</td>\n",
       "    </tr>\n",
       "    <tr>\n",
       "      <th>1</th>\n",
       "      <td>ASUS Vivobook 15, Intel Core i7-12650H 12th Ge...</td>\n",
       "      <td>4.5</td>\n",
       "      <td>64,990</td>\n",
       "    </tr>\n",
       "    <tr>\n",
       "      <th>2</th>\n",
       "      <td>MSI GF63 Thin, Intel Core i7-11800H, 40CM FHD ...</td>\n",
       "      <td>4.6</td>\n",
       "      <td>70,990</td>\n",
       "    </tr>\n",
       "    <tr>\n",
       "      <th>3</th>\n",
       "      <td>Dell Vostro 5630 13th Gen Laptop,Intel i7-1355...</td>\n",
       "      <td>4.0</td>\n",
       "      <td>89,990</td>\n",
       "    </tr>\n",
       "    <tr>\n",
       "      <th>4</th>\n",
       "      <td>Acer Nitro 5 12th Gen Intel Core i7-12650H Gam...</td>\n",
       "      <td>3.3</td>\n",
       "      <td>99,990</td>\n",
       "    </tr>\n",
       "    <tr>\n",
       "      <th>5</th>\n",
       "      <td>Dell Inspiron 5430 13th Gen Laptop, Intel i7-1...</td>\n",
       "      <td>3.3</td>\n",
       "      <td>86,249</td>\n",
       "    </tr>\n",
       "    <tr>\n",
       "      <th>6</th>\n",
       "      <td>ASUS TUF Gaming F15, 15.6-inch (39.62 cms) FHD...</td>\n",
       "      <td>4.4</td>\n",
       "      <td>89,990</td>\n",
       "    </tr>\n",
       "    <tr>\n",
       "      <th>7</th>\n",
       "      <td>Lenovo [SmartChoice] IdeaPad Slim 3 Intel Core...</td>\n",
       "      <td>4.1</td>\n",
       "      <td>62,990</td>\n",
       "    </tr>\n",
       "    <tr>\n",
       "      <th>8</th>\n",
       "      <td>ASUS TUF Gaming F15 (2023) 90WHr Battery, Inte...</td>\n",
       "      <td>3.6</td>\n",
       "      <td>1,15,990</td>\n",
       "    </tr>\n",
       "    <tr>\n",
       "      <th>9</th>\n",
       "      <td>MSI Modern 14, Intel 12th Gen. i7-1255U, 36CM ...</td>\n",
       "      <td>4.2</td>\n",
       "      <td>52,990</td>\n",
       "    </tr>\n",
       "  </tbody>\n",
       "</table>\n",
       "</div>"
      ],
      "text/plain": [
       "                                               Title Rating     Price\n",
       "0  ASUS TUF Gaming F15, 15.6\"(39.62 cms) FHD 144H...    4.0    76,990\n",
       "1  ASUS Vivobook 15, Intel Core i7-12650H 12th Ge...    4.5    64,990\n",
       "2  MSI GF63 Thin, Intel Core i7-11800H, 40CM FHD ...    4.6    70,990\n",
       "3  Dell Vostro 5630 13th Gen Laptop,Intel i7-1355...    4.0    89,990\n",
       "4  Acer Nitro 5 12th Gen Intel Core i7-12650H Gam...    3.3    99,990\n",
       "5  Dell Inspiron 5430 13th Gen Laptop, Intel i7-1...    3.3    86,249\n",
       "6  ASUS TUF Gaming F15, 15.6-inch (39.62 cms) FHD...    4.4    89,990\n",
       "7  Lenovo [SmartChoice] IdeaPad Slim 3 Intel Core...    4.1    62,990\n",
       "8  ASUS TUF Gaming F15 (2023) 90WHr Battery, Inte...    3.6  1,15,990\n",
       "9  MSI Modern 14, Intel 12th Gen. i7-1255U, 36CM ...    4.2    52,990"
      ]
     },
     "execution_count": 218,
     "metadata": {},
     "output_type": "execute_result"
    }
   ],
   "source": [
    "laptop=pd.DataFrame({})\n",
    "laptop['Title']=Title[:10]\n",
    "laptop['Rating']=Rating[:10]\n",
    "laptop['Price']=Price[:10]\n",
    "\n",
    "laptop"
   ]
  },
  {
   "cell_type": "markdown",
   "id": "97adb254",
   "metadata": {},
   "source": [
    "Q8: Write a python program to scrape data for Top 1000 Quotes of All Time.\n",
    "The above task will be done in following steps:\n",
    "1.\tFirst get the webpagehttps://www.azquotes.com/\n",
    "2.\tClick on Top Quotes\n",
    "3.\tThan scrap a) Quote b) Author c) Type Of Quotes"
   ]
  },
  {
   "cell_type": "code",
   "execution_count": 220,
   "id": "782d701e",
   "metadata": {},
   "outputs": [],
   "source": [
    "web_driver=webdriver.Chrome(r\"C:\\Learning\\FLIPNROBO\\chromedriver-win64\\chromedriver.exe\")\n",
    "url_f = \"https://www.azquotes.com/\"\n",
    "web_driver.get(url_f)"
   ]
  },
  {
   "cell_type": "code",
   "execution_count": 221,
   "id": "b240ef00",
   "metadata": {},
   "outputs": [],
   "source": [
    "\n",
    "#Click on Top Quotes\n",
    "clicl_top=web_driver.find_element_by_xpath('//*[@id=\"menu\"]/div/div[3]/ul/li[5]/a').click()\n",
    "clicl_top"
   ]
  },
  {
   "cell_type": "code",
   "execution_count": 280,
   "id": "f5a84746",
   "metadata": {},
   "outputs": [],
   "source": [
    "#3.\tThan scrap a) Quote b) Author c) Type Of Quotes\n",
    "Quote=[]\n",
    "Author=[]\n",
    "Type_Of_Quotes=[]\n"
   ]
  },
  {
   "cell_type": "code",
   "execution_count": 223,
   "id": "521c6c44",
   "metadata": {},
   "outputs": [],
   "source": [
    "for i in range(2):\n",
    "    quote=web_driver.find_elements_by_xpath(\"//a[@class='title']\")\n",
    "    author =web_driver.find_elements_by_xpath(\"//div[@class='author']\")\n",
    "    type_of_quote=web_driver.find_elements_by_xpath(\"//div[@class='tags']\")\n",
    "    \n",
    "    \n",
    "    for j  in quote:\n",
    "        Quote.append(j.text)\n",
    "    Quote[:1000]    \n",
    "    \n",
    "    \n",
    "\n",
    "    \n",
    "    for l in author:\n",
    "        Author.append(l.text)\n",
    "    Author[:1000] \n",
    "    \n",
    "    for k in type_of_quote:\n",
    "        Type_Of_Quotes.append(k.text)\n",
    "    Type_Of_Quotes[:1000] "
   ]
  },
  {
   "cell_type": "code",
   "execution_count": 224,
   "id": "63f13f83",
   "metadata": {},
   "outputs": [
    {
     "name": "stdout",
     "output_type": "stream",
     "text": [
      "200\n",
      "200\n",
      "200\n"
     ]
    },
    {
     "data": {
      "text/plain": [
       "(None, None, None)"
      ]
     },
     "execution_count": 224,
     "metadata": {},
     "output_type": "execute_result"
    }
   ],
   "source": [
    "print(len(Quote[:1000])),print(len(Author[:1000])),print(len(Type_Of_Quotes[:1000]))"
   ]
  },
  {
   "cell_type": "code",
   "execution_count": 225,
   "id": "2078d5f4",
   "metadata": {},
   "outputs": [
    {
     "data": {
      "text/html": [
       "<div>\n",
       "<style scoped>\n",
       "    .dataframe tbody tr th:only-of-type {\n",
       "        vertical-align: middle;\n",
       "    }\n",
       "\n",
       "    .dataframe tbody tr th {\n",
       "        vertical-align: top;\n",
       "    }\n",
       "\n",
       "    .dataframe thead th {\n",
       "        text-align: right;\n",
       "    }\n",
       "</style>\n",
       "<table border=\"1\" class=\"dataframe\">\n",
       "  <thead>\n",
       "    <tr style=\"text-align: right;\">\n",
       "      <th></th>\n",
       "      <th>Quote</th>\n",
       "      <th>Author</th>\n",
       "      <th>type_Of_Quotes</th>\n",
       "    </tr>\n",
       "  </thead>\n",
       "  <tbody>\n",
       "    <tr>\n",
       "      <th>0</th>\n",
       "      <td>The essence of strategy is choosing what not t...</td>\n",
       "      <td>Michael Porter</td>\n",
       "      <td>Essence, Deep Thought, Transcendentalism</td>\n",
       "    </tr>\n",
       "    <tr>\n",
       "      <th>1</th>\n",
       "      <td>One cannot and must not try to erase the past ...</td>\n",
       "      <td>Golda Meir</td>\n",
       "      <td>Inspiration, Past, Trying</td>\n",
       "    </tr>\n",
       "    <tr>\n",
       "      <th>2</th>\n",
       "      <td>Patriotism means to stand by the country. It d...</td>\n",
       "      <td>Theodore Roosevelt</td>\n",
       "      <td>Country, Peace, War</td>\n",
       "    </tr>\n",
       "    <tr>\n",
       "      <th>3</th>\n",
       "      <td>Death is something inevitable. When a man has ...</td>\n",
       "      <td>Nelson Mandela</td>\n",
       "      <td>Inspirational, Motivational, Death</td>\n",
       "    </tr>\n",
       "    <tr>\n",
       "      <th>4</th>\n",
       "      <td>You have to love a nation that celebrates its ...</td>\n",
       "      <td>Erma Bombeck</td>\n",
       "      <td>4th Of July, Food, Patriotic</td>\n",
       "    </tr>\n",
       "    <tr>\n",
       "      <th>...</th>\n",
       "      <td>...</td>\n",
       "      <td>...</td>\n",
       "      <td>...</td>\n",
       "    </tr>\n",
       "    <tr>\n",
       "      <th>195</th>\n",
       "      <td>When the going gets weird, the weird turn pro.</td>\n",
       "      <td>Hunter S. Thompson</td>\n",
       "      <td>Music, Sports, Hunting</td>\n",
       "    </tr>\n",
       "    <tr>\n",
       "      <th>196</th>\n",
       "      <td>When a train goes through a tunnel and it gets...</td>\n",
       "      <td>Corrie Ten Boom</td>\n",
       "      <td>Trust, Encouraging, Uplifting</td>\n",
       "    </tr>\n",
       "    <tr>\n",
       "      <th>197</th>\n",
       "      <td>If you think you are too small to make a diffe...</td>\n",
       "      <td>Dalai Lama</td>\n",
       "      <td>Inspirational, Funny, Change</td>\n",
       "    </tr>\n",
       "    <tr>\n",
       "      <th>198</th>\n",
       "      <td>God doesn't require us to succeed, he only req...</td>\n",
       "      <td>Mother Teresa</td>\n",
       "      <td>Success, God, Mother</td>\n",
       "    </tr>\n",
       "    <tr>\n",
       "      <th>199</th>\n",
       "      <td>Change your thoughts and you change your world.</td>\n",
       "      <td>Norman Vincent Peale</td>\n",
       "      <td>Inspirational, Motivational, Change</td>\n",
       "    </tr>\n",
       "  </tbody>\n",
       "</table>\n",
       "<p>200 rows × 3 columns</p>\n",
       "</div>"
      ],
      "text/plain": [
       "                                                 Quote                Author  \\\n",
       "0    The essence of strategy is choosing what not t...        Michael Porter   \n",
       "1    One cannot and must not try to erase the past ...            Golda Meir   \n",
       "2    Patriotism means to stand by the country. It d...    Theodore Roosevelt   \n",
       "3    Death is something inevitable. When a man has ...        Nelson Mandela   \n",
       "4    You have to love a nation that celebrates its ...          Erma Bombeck   \n",
       "..                                                 ...                   ...   \n",
       "195     When the going gets weird, the weird turn pro.    Hunter S. Thompson   \n",
       "196  When a train goes through a tunnel and it gets...       Corrie Ten Boom   \n",
       "197  If you think you are too small to make a diffe...            Dalai Lama   \n",
       "198  God doesn't require us to succeed, he only req...         Mother Teresa   \n",
       "199    Change your thoughts and you change your world.  Norman Vincent Peale   \n",
       "\n",
       "                               type_Of_Quotes  \n",
       "0    Essence, Deep Thought, Transcendentalism  \n",
       "1                   Inspiration, Past, Trying  \n",
       "2                         Country, Peace, War  \n",
       "3          Inspirational, Motivational, Death  \n",
       "4                4th Of July, Food, Patriotic  \n",
       "..                                        ...  \n",
       "195                    Music, Sports, Hunting  \n",
       "196             Trust, Encouraging, Uplifting  \n",
       "197              Inspirational, Funny, Change  \n",
       "198                      Success, God, Mother  \n",
       "199       Inspirational, Motivational, Change  \n",
       "\n",
       "[200 rows x 3 columns]"
      ]
     },
     "execution_count": 225,
     "metadata": {},
     "output_type": "execute_result"
    }
   ],
   "source": [
    "Quotes=pd.DataFrame({})\n",
    "Quotes['Quote']=Quote[:1000]\n",
    "Quotes['Author']=Author[:1000]\n",
    "Quotes['type_Of_Quotes']=Type_Of_Quotes[:1000]\n",
    "\n",
    "Quotes"
   ]
  },
  {
   "cell_type": "markdown",
   "id": "d259c0ab",
   "metadata": {},
   "source": [
    "Q9: Write a python program to display list of respected former Prime Ministers of India(i.e. Name, Born-Dead, Term of office, Remarks) from https://www.jagranjosh.com/.\n",
    "\n",
    "This task will be done in following steps:\n",
    "1.\tFirst get the webpagehttps://www.jagranjosh.com/\n",
    "2.\tThen You have to click on the GK option\n",
    "3.\tThen click on the List of all Prime Ministers of India\n",
    "4.\tThen scrap the mentioned data and make theDataFrame.\n"
   ]
  },
  {
   "cell_type": "code",
   "execution_count": 282,
   "id": "8f04ed75",
   "metadata": {},
   "outputs": [],
   "source": [
    "web_driver=webdriver.Chrome(r\"C:\\Learning\\FLIPNROBO\\chromedriver-win64\\chromedriver.exe\")\n",
    "url_f = \"https://www.jagranjosh.com/\"\n",
    "web_driver.get(url_f)"
   ]
  },
  {
   "cell_type": "code",
   "execution_count": 283,
   "id": "0c71ae38",
   "metadata": {},
   "outputs": [],
   "source": [
    "#Then You have to click on the GK option\n",
    "clicl_gk=web_driver.find_element_by_xpath('//*[@id=\"__next\"]/header/nav/div/div/div[3]/ul/li[3]/a').click()\n",
    "clicl_gk\n"
   ]
  },
  {
   "cell_type": "code",
   "execution_count": 284,
   "id": "afc2e0e0",
   "metadata": {},
   "outputs": [],
   "source": [
    "clicl_gk_in=web_driver.find_element_by_xpath('//a[@href=\"#indiaGK\"]').click()\n",
    "clicl_gk_in"
   ]
  },
  {
   "cell_type": "code",
   "execution_count": 285,
   "id": "5c3ffd66",
   "metadata": {},
   "outputs": [],
   "source": [
    "#3.\tThen click on the List of all Prime Ministers of India\n",
    "prime_min=web_driver.find_element_by_xpath('//a[@href=\"/general-knowledge/list-of-all-prime-ministers-of-india-1473165149-1\"]').click()\n",
    "prime_min"
   ]
  },
  {
   "cell_type": "code",
   "execution_count": 302,
   "id": "cb4a6889",
   "metadata": {},
   "outputs": [],
   "source": [
    "rows = 1+len(web_driver.find_elements(By.XPATH,\"/html/body/div[1]/div[2]/div/div[2]/div/div[1]/div/div/div/div[4]/span/div[3]/table/tbody/tr\"))\n",
    "\n",
    "# Obtain the number of columns in table\n",
    "cols = len(web_driver.find_elements(By.XPATH,\"/html/body/div[1]/div[2]/div/div[2]/div/div[1]/div/div/div/div[4]/span/div[3]/table/tbody/tr/td[1]\"))"
   ]
  },
  {
   "cell_type": "code",
   "execution_count": 303,
   "id": "5e25ffa7",
   "metadata": {},
   "outputs": [
    {
     "name": "stdout",
     "output_type": "stream",
     "text": [
      "21\n",
      "19\n"
     ]
    }
   ],
   "source": [
    "# Print rows and columns\n",
    "print(rows)\n",
    "print(cols)"
   ]
  },
  {
   "cell_type": "code",
   "execution_count": 304,
   "id": "433d9b27",
   "metadata": {},
   "outputs": [
    {
     "name": "stdout",
     "output_type": "stream",
     "text": [
      "S.N.    PM Name   Born-Dead  Term of office  Remark \n"
     ]
    }
   ],
   "source": [
    "# Printing the table headers\n",
    "print(\"S.N. \"+\"   PM Name\"+ \"   Born-Dead \"+\" Term of office \"+\" Remark \")"
   ]
  },
  {
   "cell_type": "code",
   "execution_count": 306,
   "id": "ecc6ec17",
   "metadata": {},
   "outputs": [
    {
     "name": "stdout",
     "output_type": "stream",
     "text": [
      "Jawahar Lal Nehru       Jawahar Lal Nehru       Jawahar Lal Nehru       Jawahar Lal Nehru       Jawahar Lal Nehru       Jawahar Lal Nehru       Jawahar Lal Nehru       Jawahar Lal Nehru       Jawahar Lal Nehru       Jawahar Lal Nehru       Jawahar Lal Nehru       Jawahar Lal Nehru       Jawahar Lal Nehru       Jawahar Lal Nehru       Jawahar Lal Nehru       Jawahar Lal Nehru       Jawahar Lal Nehru       Jawahar Lal Nehru       Jawahar Lal Nehru       \n",
      "Jawahar Lal Nehru       Jawahar Lal Nehru       Jawahar Lal Nehru       Jawahar Lal Nehru       Jawahar Lal Nehru       Jawahar Lal Nehru       Jawahar Lal Nehru       Jawahar Lal Nehru       Jawahar Lal Nehru       Jawahar Lal Nehru       Jawahar Lal Nehru       Jawahar Lal Nehru       Jawahar Lal Nehru       Jawahar Lal Nehru       Jawahar Lal Nehru       Jawahar Lal Nehru       Jawahar Lal Nehru       Jawahar Lal Nehru       Jawahar Lal Nehru       \n",
      "Jawahar Lal Nehru       Jawahar Lal Nehru       Jawahar Lal Nehru       Jawahar Lal Nehru       Jawahar Lal Nehru       Jawahar Lal Nehru       Jawahar Lal Nehru       Jawahar Lal Nehru       Jawahar Lal Nehru       Jawahar Lal Nehru       Jawahar Lal Nehru       Jawahar Lal Nehru       Jawahar Lal Nehru       Jawahar Lal Nehru       Jawahar Lal Nehru       Jawahar Lal Nehru       Jawahar Lal Nehru       Jawahar Lal Nehru       Jawahar Lal Nehru       \n",
      "Jawahar Lal Nehru       Jawahar Lal Nehru       Jawahar Lal Nehru       Jawahar Lal Nehru       Jawahar Lal Nehru       Jawahar Lal Nehru       Jawahar Lal Nehru       Jawahar Lal Nehru       Jawahar Lal Nehru       Jawahar Lal Nehru       Jawahar Lal Nehru       Jawahar Lal Nehru       Jawahar Lal Nehru       Jawahar Lal Nehru       Jawahar Lal Nehru       Jawahar Lal Nehru       Jawahar Lal Nehru       Jawahar Lal Nehru       Jawahar Lal Nehru       \n",
      "Jawahar Lal Nehru       Jawahar Lal Nehru       Jawahar Lal Nehru       Jawahar Lal Nehru       Jawahar Lal Nehru       Jawahar Lal Nehru       Jawahar Lal Nehru       Jawahar Lal Nehru       Jawahar Lal Nehru       Jawahar Lal Nehru       Jawahar Lal Nehru       Jawahar Lal Nehru       Jawahar Lal Nehru       Jawahar Lal Nehru       Jawahar Lal Nehru       Jawahar Lal Nehru       Jawahar Lal Nehru       Jawahar Lal Nehru       Jawahar Lal Nehru       \n",
      "Jawahar Lal Nehru       Jawahar Lal Nehru       Jawahar Lal Nehru       Jawahar Lal Nehru       Jawahar Lal Nehru       Jawahar Lal Nehru       Jawahar Lal Nehru       Jawahar Lal Nehru       Jawahar Lal Nehru       Jawahar Lal Nehru       Jawahar Lal Nehru       Jawahar Lal Nehru       Jawahar Lal Nehru       Jawahar Lal Nehru       Jawahar Lal Nehru       Jawahar Lal Nehru       Jawahar Lal Nehru       Jawahar Lal Nehru       Jawahar Lal Nehru       \n",
      "Jawahar Lal Nehru       Jawahar Lal Nehru       Jawahar Lal Nehru       Jawahar Lal Nehru       Jawahar Lal Nehru       Jawahar Lal Nehru       Jawahar Lal Nehru       Jawahar Lal Nehru       Jawahar Lal Nehru       Jawahar Lal Nehru       Jawahar Lal Nehru       Jawahar Lal Nehru       Jawahar Lal Nehru       Jawahar Lal Nehru       Jawahar Lal Nehru       Jawahar Lal Nehru       Jawahar Lal Nehru       Jawahar Lal Nehru       Jawahar Lal Nehru       \n",
      "Jawahar Lal Nehru       Jawahar Lal Nehru       Jawahar Lal Nehru       Jawahar Lal Nehru       Jawahar Lal Nehru       Jawahar Lal Nehru       Jawahar Lal Nehru       Jawahar Lal Nehru       Jawahar Lal Nehru       Jawahar Lal Nehru       Jawahar Lal Nehru       Jawahar Lal Nehru       Jawahar Lal Nehru       Jawahar Lal Nehru       Jawahar Lal Nehru       Jawahar Lal Nehru       Jawahar Lal Nehru       Jawahar Lal Nehru       Jawahar Lal Nehru       \n",
      "Jawahar Lal Nehru       Jawahar Lal Nehru       Jawahar Lal Nehru       Jawahar Lal Nehru       Jawahar Lal Nehru       Jawahar Lal Nehru       Jawahar Lal Nehru       Jawahar Lal Nehru       Jawahar Lal Nehru       Jawahar Lal Nehru       Jawahar Lal Nehru       Jawahar Lal Nehru       Jawahar Lal Nehru       Jawahar Lal Nehru       Jawahar Lal Nehru       Jawahar Lal Nehru       Jawahar Lal Nehru       Jawahar Lal Nehru       Jawahar Lal Nehru       \n",
      "Jawahar Lal Nehru       Jawahar Lal Nehru       Jawahar Lal Nehru       Jawahar Lal Nehru       Jawahar Lal Nehru       Jawahar Lal Nehru       Jawahar Lal Nehru       Jawahar Lal Nehru       Jawahar Lal Nehru       Jawahar Lal Nehru       Jawahar Lal Nehru       Jawahar Lal Nehru       Jawahar Lal Nehru       Jawahar Lal Nehru       Jawahar Lal Nehru       Jawahar Lal Nehru       Jawahar Lal Nehru       Jawahar Lal Nehru       Jawahar Lal Nehru       \n",
      "Jawahar Lal Nehru       Jawahar Lal Nehru       Jawahar Lal Nehru       Jawahar Lal Nehru       Jawahar Lal Nehru       Jawahar Lal Nehru       Jawahar Lal Nehru       Jawahar Lal Nehru       Jawahar Lal Nehru       Jawahar Lal Nehru       Jawahar Lal Nehru       Jawahar Lal Nehru       Jawahar Lal Nehru       Jawahar Lal Nehru       Jawahar Lal Nehru       Jawahar Lal Nehru       Jawahar Lal Nehru       Jawahar Lal Nehru       Jawahar Lal Nehru       \n",
      "Jawahar Lal Nehru       Jawahar Lal Nehru       Jawahar Lal Nehru       Jawahar Lal Nehru       Jawahar Lal Nehru       Jawahar Lal Nehru       Jawahar Lal Nehru       Jawahar Lal Nehru       Jawahar Lal Nehru       Jawahar Lal Nehru       Jawahar Lal Nehru       Jawahar Lal Nehru       Jawahar Lal Nehru       Jawahar Lal Nehru       Jawahar Lal Nehru       Jawahar Lal Nehru       Jawahar Lal Nehru       Jawahar Lal Nehru       Jawahar Lal Nehru       \n",
      "Jawahar Lal Nehru       Jawahar Lal Nehru       Jawahar Lal Nehru       Jawahar Lal Nehru       Jawahar Lal Nehru       Jawahar Lal Nehru       Jawahar Lal Nehru       Jawahar Lal Nehru       Jawahar Lal Nehru       Jawahar Lal Nehru       Jawahar Lal Nehru       Jawahar Lal Nehru       Jawahar Lal Nehru       Jawahar Lal Nehru       Jawahar Lal Nehru       Jawahar Lal Nehru       Jawahar Lal Nehru       Jawahar Lal Nehru       Jawahar Lal Nehru       \n",
      "Jawahar Lal Nehru       Jawahar Lal Nehru       Jawahar Lal Nehru       Jawahar Lal Nehru       Jawahar Lal Nehru       Jawahar Lal Nehru       Jawahar Lal Nehru       Jawahar Lal Nehru       Jawahar Lal Nehru       Jawahar Lal Nehru       Jawahar Lal Nehru       Jawahar Lal Nehru       Jawahar Lal Nehru       Jawahar Lal Nehru       Jawahar Lal Nehru       Jawahar Lal Nehru       Jawahar Lal Nehru       Jawahar Lal Nehru       Jawahar Lal Nehru       \n",
      "Jawahar Lal Nehru       Jawahar Lal Nehru       Jawahar Lal Nehru       Jawahar Lal Nehru       Jawahar Lal Nehru       Jawahar Lal Nehru       Jawahar Lal Nehru       Jawahar Lal Nehru       Jawahar Lal Nehru       Jawahar Lal Nehru       Jawahar Lal Nehru       Jawahar Lal Nehru       Jawahar Lal Nehru       Jawahar Lal Nehru       Jawahar Lal Nehru       Jawahar Lal Nehru       Jawahar Lal Nehru       Jawahar Lal Nehru       Jawahar Lal Nehru       \n",
      "Jawahar Lal Nehru       Jawahar Lal Nehru       Jawahar Lal Nehru       Jawahar Lal Nehru       Jawahar Lal Nehru       Jawahar Lal Nehru       Jawahar Lal Nehru       Jawahar Lal Nehru       Jawahar Lal Nehru       Jawahar Lal Nehru       Jawahar Lal Nehru       Jawahar Lal Nehru       Jawahar Lal Nehru       Jawahar Lal Nehru       Jawahar Lal Nehru       Jawahar Lal Nehru       Jawahar Lal Nehru       Jawahar Lal Nehru       Jawahar Lal Nehru       \n",
      "Jawahar Lal Nehru       Jawahar Lal Nehru       Jawahar Lal Nehru       Jawahar Lal Nehru       Jawahar Lal Nehru       Jawahar Lal Nehru       Jawahar Lal Nehru       Jawahar Lal Nehru       Jawahar Lal Nehru       Jawahar Lal Nehru       Jawahar Lal Nehru       Jawahar Lal Nehru       Jawahar Lal Nehru       Jawahar Lal Nehru       Jawahar Lal Nehru       Jawahar Lal Nehru       Jawahar Lal Nehru       Jawahar Lal Nehru       Jawahar Lal Nehru       \n"
     ]
    },
    {
     "name": "stdout",
     "output_type": "stream",
     "text": [
      "Jawahar Lal Nehru       Jawahar Lal Nehru       Jawahar Lal Nehru       Jawahar Lal Nehru       Jawahar Lal Nehru       Jawahar Lal Nehru       Jawahar Lal Nehru       Jawahar Lal Nehru       Jawahar Lal Nehru       Jawahar Lal Nehru       Jawahar Lal Nehru       Jawahar Lal Nehru       Jawahar Lal Nehru       Jawahar Lal Nehru       Jawahar Lal Nehru       Jawahar Lal Nehru       Jawahar Lal Nehru       Jawahar Lal Nehru       Jawahar Lal Nehru       \n",
      "Jawahar Lal Nehru       Jawahar Lal Nehru       "
     ]
    },
    {
     "ename": "KeyboardInterrupt",
     "evalue": "",
     "output_type": "error",
     "traceback": [
      "\u001b[1;31m---------------------------------------------------------------------------\u001b[0m",
      "\u001b[1;31mKeyboardInterrupt\u001b[0m                         Traceback (most recent call last)",
      "\u001b[1;32m~\\AppData\\Local\\Temp/ipykernel_30300/784941499.py\u001b[0m in \u001b[0;36m<module>\u001b[1;34m\u001b[0m\n\u001b[0;32m      4\u001b[0m \u001b[1;33m\u001b[0m\u001b[0m\n\u001b[0;32m      5\u001b[0m         \u001b[1;31m# obtaining the text from each column of the table\u001b[0m\u001b[1;33m\u001b[0m\u001b[1;33m\u001b[0m\u001b[0m\n\u001b[1;32m----> 6\u001b[1;33m         value = web_driver.find_element(By.XPATH,\n\u001b[0m\u001b[0;32m      7\u001b[0m             \"/html/body/div[1]/div[2]/div/div[2]/div/div[1]/div/div/div/div[4]/span/div[3]/table/tbody/tr[2]/td[2]\").text\n\u001b[0;32m      8\u001b[0m         \u001b[0mprint\u001b[0m\u001b[1;33m(\u001b[0m\u001b[0mvalue\u001b[0m\u001b[1;33m,\u001b[0m \u001b[0mend\u001b[0m\u001b[1;33m=\u001b[0m\u001b[1;34m'       '\u001b[0m\u001b[1;33m)\u001b[0m\u001b[1;33m\u001b[0m\u001b[1;33m\u001b[0m\u001b[0m\n",
      "\u001b[1;32m~\\Anaconda3\\lib\\site-packages\\selenium\\webdriver\\remote\\webdriver.py\u001b[0m in \u001b[0;36mfind_element\u001b[1;34m(self, by, value)\u001b[0m\n\u001b[0;32m   1249\u001b[0m             \u001b[0mvalue\u001b[0m \u001b[1;33m=\u001b[0m \u001b[1;34m'[name=\"%s\"]'\u001b[0m \u001b[1;33m%\u001b[0m \u001b[0mvalue\u001b[0m\u001b[1;33m\u001b[0m\u001b[1;33m\u001b[0m\u001b[0m\n\u001b[0;32m   1250\u001b[0m \u001b[1;33m\u001b[0m\u001b[0m\n\u001b[1;32m-> 1251\u001b[1;33m         return self.execute(Command.FIND_ELEMENT, {\n\u001b[0m\u001b[0;32m   1252\u001b[0m             \u001b[1;34m'using'\u001b[0m\u001b[1;33m:\u001b[0m \u001b[0mby\u001b[0m\u001b[1;33m,\u001b[0m\u001b[1;33m\u001b[0m\u001b[1;33m\u001b[0m\u001b[0m\n\u001b[0;32m   1253\u001b[0m             'value': value})['value']\n",
      "\u001b[1;32m~\\Anaconda3\\lib\\site-packages\\selenium\\webdriver\\remote\\webdriver.py\u001b[0m in \u001b[0;36mexecute\u001b[1;34m(self, driver_command, params)\u001b[0m\n\u001b[0;32m    426\u001b[0m \u001b[1;33m\u001b[0m\u001b[0m\n\u001b[0;32m    427\u001b[0m         \u001b[0mparams\u001b[0m \u001b[1;33m=\u001b[0m \u001b[0mself\u001b[0m\u001b[1;33m.\u001b[0m\u001b[0m_wrap_value\u001b[0m\u001b[1;33m(\u001b[0m\u001b[0mparams\u001b[0m\u001b[1;33m)\u001b[0m\u001b[1;33m\u001b[0m\u001b[1;33m\u001b[0m\u001b[0m\n\u001b[1;32m--> 428\u001b[1;33m         \u001b[0mresponse\u001b[0m \u001b[1;33m=\u001b[0m \u001b[0mself\u001b[0m\u001b[1;33m.\u001b[0m\u001b[0mcommand_executor\u001b[0m\u001b[1;33m.\u001b[0m\u001b[0mexecute\u001b[0m\u001b[1;33m(\u001b[0m\u001b[0mdriver_command\u001b[0m\u001b[1;33m,\u001b[0m \u001b[0mparams\u001b[0m\u001b[1;33m)\u001b[0m\u001b[1;33m\u001b[0m\u001b[1;33m\u001b[0m\u001b[0m\n\u001b[0m\u001b[0;32m    429\u001b[0m         \u001b[1;32mif\u001b[0m \u001b[0mresponse\u001b[0m\u001b[1;33m:\u001b[0m\u001b[1;33m\u001b[0m\u001b[1;33m\u001b[0m\u001b[0m\n\u001b[0;32m    430\u001b[0m             \u001b[0mself\u001b[0m\u001b[1;33m.\u001b[0m\u001b[0merror_handler\u001b[0m\u001b[1;33m.\u001b[0m\u001b[0mcheck_response\u001b[0m\u001b[1;33m(\u001b[0m\u001b[0mresponse\u001b[0m\u001b[1;33m)\u001b[0m\u001b[1;33m\u001b[0m\u001b[1;33m\u001b[0m\u001b[0m\n",
      "\u001b[1;32m~\\Anaconda3\\lib\\site-packages\\selenium\\webdriver\\remote\\remote_connection.py\u001b[0m in \u001b[0;36mexecute\u001b[1;34m(self, command, params)\u001b[0m\n\u001b[0;32m    345\u001b[0m         \u001b[0mdata\u001b[0m \u001b[1;33m=\u001b[0m \u001b[0mutils\u001b[0m\u001b[1;33m.\u001b[0m\u001b[0mdump_json\u001b[0m\u001b[1;33m(\u001b[0m\u001b[0mparams\u001b[0m\u001b[1;33m)\u001b[0m\u001b[1;33m\u001b[0m\u001b[1;33m\u001b[0m\u001b[0m\n\u001b[0;32m    346\u001b[0m         \u001b[0murl\u001b[0m \u001b[1;33m=\u001b[0m \u001b[1;34mf\"{self._url}{path}\"\u001b[0m\u001b[1;33m\u001b[0m\u001b[1;33m\u001b[0m\u001b[0m\n\u001b[1;32m--> 347\u001b[1;33m         \u001b[1;32mreturn\u001b[0m \u001b[0mself\u001b[0m\u001b[1;33m.\u001b[0m\u001b[0m_request\u001b[0m\u001b[1;33m(\u001b[0m\u001b[0mcommand_info\u001b[0m\u001b[1;33m[\u001b[0m\u001b[1;36m0\u001b[0m\u001b[1;33m]\u001b[0m\u001b[1;33m,\u001b[0m \u001b[0murl\u001b[0m\u001b[1;33m,\u001b[0m \u001b[0mbody\u001b[0m\u001b[1;33m=\u001b[0m\u001b[0mdata\u001b[0m\u001b[1;33m)\u001b[0m\u001b[1;33m\u001b[0m\u001b[1;33m\u001b[0m\u001b[0m\n\u001b[0m\u001b[0;32m    348\u001b[0m \u001b[1;33m\u001b[0m\u001b[0m\n\u001b[0;32m    349\u001b[0m     \u001b[1;32mdef\u001b[0m \u001b[0m_request\u001b[0m\u001b[1;33m(\u001b[0m\u001b[0mself\u001b[0m\u001b[1;33m,\u001b[0m \u001b[0mmethod\u001b[0m\u001b[1;33m,\u001b[0m \u001b[0murl\u001b[0m\u001b[1;33m,\u001b[0m \u001b[0mbody\u001b[0m\u001b[1;33m=\u001b[0m\u001b[1;32mNone\u001b[0m\u001b[1;33m)\u001b[0m\u001b[1;33m:\u001b[0m\u001b[1;33m\u001b[0m\u001b[1;33m\u001b[0m\u001b[0m\n",
      "\u001b[1;32m~\\Anaconda3\\lib\\site-packages\\selenium\\webdriver\\remote\\remote_connection.py\u001b[0m in \u001b[0;36m_request\u001b[1;34m(self, method, url, body)\u001b[0m\n\u001b[0;32m    367\u001b[0m \u001b[1;33m\u001b[0m\u001b[0m\n\u001b[0;32m    368\u001b[0m         \u001b[1;32mif\u001b[0m \u001b[0mself\u001b[0m\u001b[1;33m.\u001b[0m\u001b[0mkeep_alive\u001b[0m\u001b[1;33m:\u001b[0m\u001b[1;33m\u001b[0m\u001b[1;33m\u001b[0m\u001b[0m\n\u001b[1;32m--> 369\u001b[1;33m             \u001b[0mresponse\u001b[0m \u001b[1;33m=\u001b[0m \u001b[0mself\u001b[0m\u001b[1;33m.\u001b[0m\u001b[0m_conn\u001b[0m\u001b[1;33m.\u001b[0m\u001b[0mrequest\u001b[0m\u001b[1;33m(\u001b[0m\u001b[0mmethod\u001b[0m\u001b[1;33m,\u001b[0m \u001b[0murl\u001b[0m\u001b[1;33m,\u001b[0m \u001b[0mbody\u001b[0m\u001b[1;33m=\u001b[0m\u001b[0mbody\u001b[0m\u001b[1;33m,\u001b[0m \u001b[0mheaders\u001b[0m\u001b[1;33m=\u001b[0m\u001b[0mheaders\u001b[0m\u001b[1;33m)\u001b[0m\u001b[1;33m\u001b[0m\u001b[1;33m\u001b[0m\u001b[0m\n\u001b[0m\u001b[0;32m    370\u001b[0m             \u001b[0mstatuscode\u001b[0m \u001b[1;33m=\u001b[0m \u001b[0mresponse\u001b[0m\u001b[1;33m.\u001b[0m\u001b[0mstatus\u001b[0m\u001b[1;33m\u001b[0m\u001b[1;33m\u001b[0m\u001b[0m\n\u001b[0;32m    371\u001b[0m         \u001b[1;32melse\u001b[0m\u001b[1;33m:\u001b[0m\u001b[1;33m\u001b[0m\u001b[1;33m\u001b[0m\u001b[0m\n",
      "\u001b[1;32m~\\Anaconda3\\lib\\site-packages\\urllib3\\request.py\u001b[0m in \u001b[0;36mrequest\u001b[1;34m(self, method, url, fields, headers, **urlopen_kw)\u001b[0m\n\u001b[0;32m     76\u001b[0m             )\n\u001b[0;32m     77\u001b[0m         \u001b[1;32melse\u001b[0m\u001b[1;33m:\u001b[0m\u001b[1;33m\u001b[0m\u001b[1;33m\u001b[0m\u001b[0m\n\u001b[1;32m---> 78\u001b[1;33m             return self.request_encode_body(\n\u001b[0m\u001b[0;32m     79\u001b[0m                 \u001b[0mmethod\u001b[0m\u001b[1;33m,\u001b[0m \u001b[0murl\u001b[0m\u001b[1;33m,\u001b[0m \u001b[0mfields\u001b[0m\u001b[1;33m=\u001b[0m\u001b[0mfields\u001b[0m\u001b[1;33m,\u001b[0m \u001b[0mheaders\u001b[0m\u001b[1;33m=\u001b[0m\u001b[0mheaders\u001b[0m\u001b[1;33m,\u001b[0m \u001b[1;33m**\u001b[0m\u001b[0murlopen_kw\u001b[0m\u001b[1;33m\u001b[0m\u001b[1;33m\u001b[0m\u001b[0m\n\u001b[0;32m     80\u001b[0m             )\n",
      "\u001b[1;32m~\\Anaconda3\\lib\\site-packages\\urllib3\\request.py\u001b[0m in \u001b[0;36mrequest_encode_body\u001b[1;34m(self, method, url, fields, headers, encode_multipart, multipart_boundary, **urlopen_kw)\u001b[0m\n\u001b[0;32m    168\u001b[0m         \u001b[0mextra_kw\u001b[0m\u001b[1;33m.\u001b[0m\u001b[0mupdate\u001b[0m\u001b[1;33m(\u001b[0m\u001b[0murlopen_kw\u001b[0m\u001b[1;33m)\u001b[0m\u001b[1;33m\u001b[0m\u001b[1;33m\u001b[0m\u001b[0m\n\u001b[0;32m    169\u001b[0m \u001b[1;33m\u001b[0m\u001b[0m\n\u001b[1;32m--> 170\u001b[1;33m         \u001b[1;32mreturn\u001b[0m \u001b[0mself\u001b[0m\u001b[1;33m.\u001b[0m\u001b[0murlopen\u001b[0m\u001b[1;33m(\u001b[0m\u001b[0mmethod\u001b[0m\u001b[1;33m,\u001b[0m \u001b[0murl\u001b[0m\u001b[1;33m,\u001b[0m \u001b[1;33m**\u001b[0m\u001b[0mextra_kw\u001b[0m\u001b[1;33m)\u001b[0m\u001b[1;33m\u001b[0m\u001b[1;33m\u001b[0m\u001b[0m\n\u001b[0m",
      "\u001b[1;32m~\\Anaconda3\\lib\\site-packages\\urllib3\\poolmanager.py\u001b[0m in \u001b[0;36murlopen\u001b[1;34m(self, method, url, redirect, **kw)\u001b[0m\n\u001b[0;32m    373\u001b[0m             \u001b[0mresponse\u001b[0m \u001b[1;33m=\u001b[0m \u001b[0mconn\u001b[0m\u001b[1;33m.\u001b[0m\u001b[0murlopen\u001b[0m\u001b[1;33m(\u001b[0m\u001b[0mmethod\u001b[0m\u001b[1;33m,\u001b[0m \u001b[0murl\u001b[0m\u001b[1;33m,\u001b[0m \u001b[1;33m**\u001b[0m\u001b[0mkw\u001b[0m\u001b[1;33m)\u001b[0m\u001b[1;33m\u001b[0m\u001b[1;33m\u001b[0m\u001b[0m\n\u001b[0;32m    374\u001b[0m         \u001b[1;32melse\u001b[0m\u001b[1;33m:\u001b[0m\u001b[1;33m\u001b[0m\u001b[1;33m\u001b[0m\u001b[0m\n\u001b[1;32m--> 375\u001b[1;33m             \u001b[0mresponse\u001b[0m \u001b[1;33m=\u001b[0m \u001b[0mconn\u001b[0m\u001b[1;33m.\u001b[0m\u001b[0murlopen\u001b[0m\u001b[1;33m(\u001b[0m\u001b[0mmethod\u001b[0m\u001b[1;33m,\u001b[0m \u001b[0mu\u001b[0m\u001b[1;33m.\u001b[0m\u001b[0mrequest_uri\u001b[0m\u001b[1;33m,\u001b[0m \u001b[1;33m**\u001b[0m\u001b[0mkw\u001b[0m\u001b[1;33m)\u001b[0m\u001b[1;33m\u001b[0m\u001b[1;33m\u001b[0m\u001b[0m\n\u001b[0m\u001b[0;32m    376\u001b[0m \u001b[1;33m\u001b[0m\u001b[0m\n\u001b[0;32m    377\u001b[0m         \u001b[0mredirect_location\u001b[0m \u001b[1;33m=\u001b[0m \u001b[0mredirect\u001b[0m \u001b[1;32mand\u001b[0m \u001b[0mresponse\u001b[0m\u001b[1;33m.\u001b[0m\u001b[0mget_redirect_location\u001b[0m\u001b[1;33m(\u001b[0m\u001b[1;33m)\u001b[0m\u001b[1;33m\u001b[0m\u001b[1;33m\u001b[0m\u001b[0m\n",
      "\u001b[1;32m~\\Anaconda3\\lib\\site-packages\\urllib3\\connectionpool.py\u001b[0m in \u001b[0;36murlopen\u001b[1;34m(self, method, url, body, headers, retries, redirect, assert_same_host, timeout, pool_timeout, release_conn, chunked, body_pos, **response_kw)\u001b[0m\n\u001b[0;32m    697\u001b[0m \u001b[1;33m\u001b[0m\u001b[0m\n\u001b[0;32m    698\u001b[0m             \u001b[1;31m# Make the request on the httplib connection object.\u001b[0m\u001b[1;33m\u001b[0m\u001b[1;33m\u001b[0m\u001b[0m\n\u001b[1;32m--> 699\u001b[1;33m             httplib_response = self._make_request(\n\u001b[0m\u001b[0;32m    700\u001b[0m                 \u001b[0mconn\u001b[0m\u001b[1;33m,\u001b[0m\u001b[1;33m\u001b[0m\u001b[1;33m\u001b[0m\u001b[0m\n\u001b[0;32m    701\u001b[0m                 \u001b[0mmethod\u001b[0m\u001b[1;33m,\u001b[0m\u001b[1;33m\u001b[0m\u001b[1;33m\u001b[0m\u001b[0m\n",
      "\u001b[1;32m~\\Anaconda3\\lib\\site-packages\\urllib3\\connectionpool.py\u001b[0m in \u001b[0;36m_make_request\u001b[1;34m(self, conn, method, url, timeout, chunked, **httplib_request_kw)\u001b[0m\n\u001b[0;32m    443\u001b[0m                     \u001b[1;31m# Python 3 (including for exceptions like SystemExit).\u001b[0m\u001b[1;33m\u001b[0m\u001b[1;33m\u001b[0m\u001b[0m\n\u001b[0;32m    444\u001b[0m                     \u001b[1;31m# Otherwise it looks like a bug in the code.\u001b[0m\u001b[1;33m\u001b[0m\u001b[1;33m\u001b[0m\u001b[0m\n\u001b[1;32m--> 445\u001b[1;33m                     \u001b[0msix\u001b[0m\u001b[1;33m.\u001b[0m\u001b[0mraise_from\u001b[0m\u001b[1;33m(\u001b[0m\u001b[0me\u001b[0m\u001b[1;33m,\u001b[0m \u001b[1;32mNone\u001b[0m\u001b[1;33m)\u001b[0m\u001b[1;33m\u001b[0m\u001b[1;33m\u001b[0m\u001b[0m\n\u001b[0m\u001b[0;32m    446\u001b[0m         \u001b[1;32mexcept\u001b[0m \u001b[1;33m(\u001b[0m\u001b[0mSocketTimeout\u001b[0m\u001b[1;33m,\u001b[0m \u001b[0mBaseSSLError\u001b[0m\u001b[1;33m,\u001b[0m \u001b[0mSocketError\u001b[0m\u001b[1;33m)\u001b[0m \u001b[1;32mas\u001b[0m \u001b[0me\u001b[0m\u001b[1;33m:\u001b[0m\u001b[1;33m\u001b[0m\u001b[1;33m\u001b[0m\u001b[0m\n\u001b[0;32m    447\u001b[0m             \u001b[0mself\u001b[0m\u001b[1;33m.\u001b[0m\u001b[0m_raise_timeout\u001b[0m\u001b[1;33m(\u001b[0m\u001b[0merr\u001b[0m\u001b[1;33m=\u001b[0m\u001b[0me\u001b[0m\u001b[1;33m,\u001b[0m \u001b[0murl\u001b[0m\u001b[1;33m=\u001b[0m\u001b[0murl\u001b[0m\u001b[1;33m,\u001b[0m \u001b[0mtimeout_value\u001b[0m\u001b[1;33m=\u001b[0m\u001b[0mread_timeout\u001b[0m\u001b[1;33m)\u001b[0m\u001b[1;33m\u001b[0m\u001b[1;33m\u001b[0m\u001b[0m\n",
      "\u001b[1;32m~\\Anaconda3\\lib\\site-packages\\urllib3\\packages\\six.py\u001b[0m in \u001b[0;36mraise_from\u001b[1;34m(value, from_value)\u001b[0m\n",
      "\u001b[1;32m~\\Anaconda3\\lib\\site-packages\\urllib3\\connectionpool.py\u001b[0m in \u001b[0;36m_make_request\u001b[1;34m(self, conn, method, url, timeout, chunked, **httplib_request_kw)\u001b[0m\n\u001b[0;32m    438\u001b[0m                 \u001b[1;31m# Python 3\u001b[0m\u001b[1;33m\u001b[0m\u001b[1;33m\u001b[0m\u001b[0m\n\u001b[0;32m    439\u001b[0m                 \u001b[1;32mtry\u001b[0m\u001b[1;33m:\u001b[0m\u001b[1;33m\u001b[0m\u001b[1;33m\u001b[0m\u001b[0m\n\u001b[1;32m--> 440\u001b[1;33m                     \u001b[0mhttplib_response\u001b[0m \u001b[1;33m=\u001b[0m \u001b[0mconn\u001b[0m\u001b[1;33m.\u001b[0m\u001b[0mgetresponse\u001b[0m\u001b[1;33m(\u001b[0m\u001b[1;33m)\u001b[0m\u001b[1;33m\u001b[0m\u001b[1;33m\u001b[0m\u001b[0m\n\u001b[0m\u001b[0;32m    441\u001b[0m                 \u001b[1;32mexcept\u001b[0m \u001b[0mBaseException\u001b[0m \u001b[1;32mas\u001b[0m \u001b[0me\u001b[0m\u001b[1;33m:\u001b[0m\u001b[1;33m\u001b[0m\u001b[1;33m\u001b[0m\u001b[0m\n\u001b[0;32m    442\u001b[0m                     \u001b[1;31m# Remove the TypeError from the exception chain in\u001b[0m\u001b[1;33m\u001b[0m\u001b[1;33m\u001b[0m\u001b[0m\n",
      "\u001b[1;32m~\\Anaconda3\\lib\\http\\client.py\u001b[0m in \u001b[0;36mgetresponse\u001b[1;34m(self)\u001b[0m\n\u001b[0;32m   1369\u001b[0m         \u001b[1;32mtry\u001b[0m\u001b[1;33m:\u001b[0m\u001b[1;33m\u001b[0m\u001b[1;33m\u001b[0m\u001b[0m\n\u001b[0;32m   1370\u001b[0m             \u001b[1;32mtry\u001b[0m\u001b[1;33m:\u001b[0m\u001b[1;33m\u001b[0m\u001b[1;33m\u001b[0m\u001b[0m\n\u001b[1;32m-> 1371\u001b[1;33m                 \u001b[0mresponse\u001b[0m\u001b[1;33m.\u001b[0m\u001b[0mbegin\u001b[0m\u001b[1;33m(\u001b[0m\u001b[1;33m)\u001b[0m\u001b[1;33m\u001b[0m\u001b[1;33m\u001b[0m\u001b[0m\n\u001b[0m\u001b[0;32m   1372\u001b[0m             \u001b[1;32mexcept\u001b[0m \u001b[0mConnectionError\u001b[0m\u001b[1;33m:\u001b[0m\u001b[1;33m\u001b[0m\u001b[1;33m\u001b[0m\u001b[0m\n\u001b[0;32m   1373\u001b[0m                 \u001b[0mself\u001b[0m\u001b[1;33m.\u001b[0m\u001b[0mclose\u001b[0m\u001b[1;33m(\u001b[0m\u001b[1;33m)\u001b[0m\u001b[1;33m\u001b[0m\u001b[1;33m\u001b[0m\u001b[0m\n",
      "\u001b[1;32m~\\Anaconda3\\lib\\http\\client.py\u001b[0m in \u001b[0;36mbegin\u001b[1;34m(self)\u001b[0m\n\u001b[0;32m    317\u001b[0m         \u001b[1;31m# read until we get a non-100 response\u001b[0m\u001b[1;33m\u001b[0m\u001b[1;33m\u001b[0m\u001b[0m\n\u001b[0;32m    318\u001b[0m         \u001b[1;32mwhile\u001b[0m \u001b[1;32mTrue\u001b[0m\u001b[1;33m:\u001b[0m\u001b[1;33m\u001b[0m\u001b[1;33m\u001b[0m\u001b[0m\n\u001b[1;32m--> 319\u001b[1;33m             \u001b[0mversion\u001b[0m\u001b[1;33m,\u001b[0m \u001b[0mstatus\u001b[0m\u001b[1;33m,\u001b[0m \u001b[0mreason\u001b[0m \u001b[1;33m=\u001b[0m \u001b[0mself\u001b[0m\u001b[1;33m.\u001b[0m\u001b[0m_read_status\u001b[0m\u001b[1;33m(\u001b[0m\u001b[1;33m)\u001b[0m\u001b[1;33m\u001b[0m\u001b[1;33m\u001b[0m\u001b[0m\n\u001b[0m\u001b[0;32m    320\u001b[0m             \u001b[1;32mif\u001b[0m \u001b[0mstatus\u001b[0m \u001b[1;33m!=\u001b[0m \u001b[0mCONTINUE\u001b[0m\u001b[1;33m:\u001b[0m\u001b[1;33m\u001b[0m\u001b[1;33m\u001b[0m\u001b[0m\n\u001b[0;32m    321\u001b[0m                 \u001b[1;32mbreak\u001b[0m\u001b[1;33m\u001b[0m\u001b[1;33m\u001b[0m\u001b[0m\n",
      "\u001b[1;32m~\\Anaconda3\\lib\\http\\client.py\u001b[0m in \u001b[0;36m_read_status\u001b[1;34m(self)\u001b[0m\n\u001b[0;32m    278\u001b[0m \u001b[1;33m\u001b[0m\u001b[0m\n\u001b[0;32m    279\u001b[0m     \u001b[1;32mdef\u001b[0m \u001b[0m_read_status\u001b[0m\u001b[1;33m(\u001b[0m\u001b[0mself\u001b[0m\u001b[1;33m)\u001b[0m\u001b[1;33m:\u001b[0m\u001b[1;33m\u001b[0m\u001b[1;33m\u001b[0m\u001b[0m\n\u001b[1;32m--> 280\u001b[1;33m         \u001b[0mline\u001b[0m \u001b[1;33m=\u001b[0m \u001b[0mstr\u001b[0m\u001b[1;33m(\u001b[0m\u001b[0mself\u001b[0m\u001b[1;33m.\u001b[0m\u001b[0mfp\u001b[0m\u001b[1;33m.\u001b[0m\u001b[0mreadline\u001b[0m\u001b[1;33m(\u001b[0m\u001b[0m_MAXLINE\u001b[0m \u001b[1;33m+\u001b[0m \u001b[1;36m1\u001b[0m\u001b[1;33m)\u001b[0m\u001b[1;33m,\u001b[0m \u001b[1;34m\"iso-8859-1\"\u001b[0m\u001b[1;33m)\u001b[0m\u001b[1;33m\u001b[0m\u001b[1;33m\u001b[0m\u001b[0m\n\u001b[0m\u001b[0;32m    281\u001b[0m         \u001b[1;32mif\u001b[0m \u001b[0mlen\u001b[0m\u001b[1;33m(\u001b[0m\u001b[0mline\u001b[0m\u001b[1;33m)\u001b[0m \u001b[1;33m>\u001b[0m \u001b[0m_MAXLINE\u001b[0m\u001b[1;33m:\u001b[0m\u001b[1;33m\u001b[0m\u001b[1;33m\u001b[0m\u001b[0m\n\u001b[0;32m    282\u001b[0m             \u001b[1;32mraise\u001b[0m \u001b[0mLineTooLong\u001b[0m\u001b[1;33m(\u001b[0m\u001b[1;34m\"status line\"\u001b[0m\u001b[1;33m)\u001b[0m\u001b[1;33m\u001b[0m\u001b[1;33m\u001b[0m\u001b[0m\n",
      "\u001b[1;32m~\\Anaconda3\\lib\\socket.py\u001b[0m in \u001b[0;36mreadinto\u001b[1;34m(self, b)\u001b[0m\n\u001b[0;32m    702\u001b[0m         \u001b[1;32mwhile\u001b[0m \u001b[1;32mTrue\u001b[0m\u001b[1;33m:\u001b[0m\u001b[1;33m\u001b[0m\u001b[1;33m\u001b[0m\u001b[0m\n\u001b[0;32m    703\u001b[0m             \u001b[1;32mtry\u001b[0m\u001b[1;33m:\u001b[0m\u001b[1;33m\u001b[0m\u001b[1;33m\u001b[0m\u001b[0m\n\u001b[1;32m--> 704\u001b[1;33m                 \u001b[1;32mreturn\u001b[0m \u001b[0mself\u001b[0m\u001b[1;33m.\u001b[0m\u001b[0m_sock\u001b[0m\u001b[1;33m.\u001b[0m\u001b[0mrecv_into\u001b[0m\u001b[1;33m(\u001b[0m\u001b[0mb\u001b[0m\u001b[1;33m)\u001b[0m\u001b[1;33m\u001b[0m\u001b[1;33m\u001b[0m\u001b[0m\n\u001b[0m\u001b[0;32m    705\u001b[0m             \u001b[1;32mexcept\u001b[0m \u001b[0mtimeout\u001b[0m\u001b[1;33m:\u001b[0m\u001b[1;33m\u001b[0m\u001b[1;33m\u001b[0m\u001b[0m\n\u001b[0;32m    706\u001b[0m                 \u001b[0mself\u001b[0m\u001b[1;33m.\u001b[0m\u001b[0m_timeout_occurred\u001b[0m \u001b[1;33m=\u001b[0m \u001b[1;32mTrue\u001b[0m\u001b[1;33m\u001b[0m\u001b[1;33m\u001b[0m\u001b[0m\n",
      "\u001b[1;31mKeyboardInterrupt\u001b[0m: "
     ]
    }
   ],
   "source": [
    "# Printing the data of the table\n",
    "for r in range(2, rows+1):\n",
    "    for p in range(1, cols+1):\n",
    "       \n",
    "        # obtaining the text from each column of the table\n",
    "        value = web_driver.find_element(By.XPATH,\n",
    "            \"/html/body/div[1]/div[2]/div/div[2]/div/div[1]/div/div/div/div[4]/span/div[3]/table/tbody/tr[2]/td[2]\").text\n",
    "        print(value, end='       ')\n",
    "    print()"
   ]
  },
  {
   "cell_type": "markdown",
   "id": "7ef58ed7",
   "metadata": {},
   "source": [
    "Q10: Write a python program to display list of 50 Most expensive cars in the world (i.e. Car name and Price) from https://www.motor1.com/\n",
    "\n",
    "This task will be done in following steps:\n",
    "1.\tFirst get the webpage https://www.motor1.com/\n",
    "2.\tThen You have to type in the search bar ’50 most expensive cars’\n",
    "3.\tThen click on 50 most expensive cars in the world..\n",
    "4.\tThen scrap the mentioned data and make the dataframe.\n"
   ]
  },
  {
   "cell_type": "code",
   "execution_count": 259,
   "id": "491a54c9",
   "metadata": {},
   "outputs": [],
   "source": [
    "web_driver=webdriver.Chrome(r\"C:\\Learning\\FLIPNROBO\\chromedriver-win64\\chromedriver.exe\")\n",
    "url_f = \"https://www.motor1.com/\"\n",
    "web_driver.get(url_f)"
   ]
  },
  {
   "cell_type": "code",
   "execution_count": 260,
   "id": "96178c40",
   "metadata": {},
   "outputs": [],
   "source": [
    "search_car = web_driver.find_element_by_xpath(\"//input[@class='m1-search-panel-input m1-search-form-text' and @id='search_input']\").send_keys(\"50 most expensive cars\")\n",
    "search_car"
   ]
  },
  {
   "cell_type": "code",
   "execution_count": 272,
   "id": "71d4b408",
   "metadata": {},
   "outputs": [
    {
     "data": {
      "text/plain": [
       "<selenium.webdriver.remote.webelement.WebElement (session=\"02b8afd10cba082f200e118667a770f7\", element=\"6E895DD1EC8AC771A2130D5F2C86F454_element_194\")>"
      ]
     },
     "execution_count": 272,
     "metadata": {},
     "output_type": "execute_result"
    }
   ],
   "source": [
    "search_car_click = web_driver.find_element_by_xpath('/html/body/div[10]/div[2]/div/div/div[3]/div/div/button')\n",
    "search_car_click "
   ]
  },
  {
   "cell_type": "code",
   "execution_count": 273,
   "id": "89c68554",
   "metadata": {},
   "outputs": [
    {
     "ename": "ElementNotInteractableException",
     "evalue": "Message: element not interactable\n  (Session info: chrome=116.0.5845.111)\nStacktrace:\n\tGetHandleVerifier [0x00007FF7756352A2+57122]\n\t(No symbol) [0x00007FF7755AEA92]\n\t(No symbol) [0x00007FF77547E25D]\n\t(No symbol) [0x00007FF7754B8E97]\n\t(No symbol) [0x00007FF7754AF25F]\n\t(No symbol) [0x00007FF7754D6FDA]\n\t(No symbol) [0x00007FF7754AEB76]\n\t(No symbol) [0x00007FF7754D71F0]\n\t(No symbol) [0x00007FF7754EEB82]\n\t(No symbol) [0x00007FF7754D6DB3]\n\t(No symbol) [0x00007FF7754AD2B1]\n\t(No symbol) [0x00007FF7754AE494]\n\tGetHandleVerifier [0x00007FF7758DEF82+2849794]\n\tGetHandleVerifier [0x00007FF775931D24+3189156]\n\tGetHandleVerifier [0x00007FF77592ACAF+3160367]\n\tGetHandleVerifier [0x00007FF7756C6D06+653702]\n\t(No symbol) [0x00007FF7755BA208]\n\t(No symbol) [0x00007FF7755B62C4]\n\t(No symbol) [0x00007FF7755B63F6]\n\t(No symbol) [0x00007FF7755A67A3]\n\tBaseThreadInitThunk [0x00007FFF48897614+20]\n\tRtlUserThreadStart [0x00007FFF48F426B1+33]\n",
     "output_type": "error",
     "traceback": [
      "\u001b[1;31m---------------------------------------------------------------------------\u001b[0m",
      "\u001b[1;31mElementNotInteractableException\u001b[0m           Traceback (most recent call last)",
      "\u001b[1;32m~\\AppData\\Local\\Temp/ipykernel_30300/193234913.py\u001b[0m in \u001b[0;36m<module>\u001b[1;34m\u001b[0m\n\u001b[1;32m----> 1\u001b[1;33m \u001b[0msearch_car_click\u001b[0m\u001b[1;33m.\u001b[0m\u001b[0mclick\u001b[0m\u001b[1;33m(\u001b[0m\u001b[1;33m)\u001b[0m\u001b[1;33m\u001b[0m\u001b[1;33m\u001b[0m\u001b[0m\n\u001b[0m",
      "\u001b[1;32m~\\Anaconda3\\lib\\site-packages\\selenium\\webdriver\\remote\\webelement.py\u001b[0m in \u001b[0;36mclick\u001b[1;34m(self)\u001b[0m\n\u001b[0;32m     79\u001b[0m     \u001b[1;32mdef\u001b[0m \u001b[0mclick\u001b[0m\u001b[1;33m(\u001b[0m\u001b[0mself\u001b[0m\u001b[1;33m)\u001b[0m \u001b[1;33m->\u001b[0m \u001b[1;32mNone\u001b[0m\u001b[1;33m:\u001b[0m\u001b[1;33m\u001b[0m\u001b[1;33m\u001b[0m\u001b[0m\n\u001b[0;32m     80\u001b[0m         \u001b[1;34m\"\"\"Clicks the element.\"\"\"\u001b[0m\u001b[1;33m\u001b[0m\u001b[1;33m\u001b[0m\u001b[0m\n\u001b[1;32m---> 81\u001b[1;33m         \u001b[0mself\u001b[0m\u001b[1;33m.\u001b[0m\u001b[0m_execute\u001b[0m\u001b[1;33m(\u001b[0m\u001b[0mCommand\u001b[0m\u001b[1;33m.\u001b[0m\u001b[0mCLICK_ELEMENT\u001b[0m\u001b[1;33m)\u001b[0m\u001b[1;33m\u001b[0m\u001b[1;33m\u001b[0m\u001b[0m\n\u001b[0m\u001b[0;32m     82\u001b[0m \u001b[1;33m\u001b[0m\u001b[0m\n\u001b[0;32m     83\u001b[0m     \u001b[1;32mdef\u001b[0m \u001b[0msubmit\u001b[0m\u001b[1;33m(\u001b[0m\u001b[0mself\u001b[0m\u001b[1;33m)\u001b[0m\u001b[1;33m:\u001b[0m\u001b[1;33m\u001b[0m\u001b[1;33m\u001b[0m\u001b[0m\n",
      "\u001b[1;32m~\\Anaconda3\\lib\\site-packages\\selenium\\webdriver\\remote\\webelement.py\u001b[0m in \u001b[0;36m_execute\u001b[1;34m(self, command, params)\u001b[0m\n\u001b[0;32m    738\u001b[0m             \u001b[0mparams\u001b[0m \u001b[1;33m=\u001b[0m \u001b[1;33m{\u001b[0m\u001b[1;33m}\u001b[0m\u001b[1;33m\u001b[0m\u001b[1;33m\u001b[0m\u001b[0m\n\u001b[0;32m    739\u001b[0m         \u001b[0mparams\u001b[0m\u001b[1;33m[\u001b[0m\u001b[1;34m'id'\u001b[0m\u001b[1;33m]\u001b[0m \u001b[1;33m=\u001b[0m \u001b[0mself\u001b[0m\u001b[1;33m.\u001b[0m\u001b[0m_id\u001b[0m\u001b[1;33m\u001b[0m\u001b[1;33m\u001b[0m\u001b[0m\n\u001b[1;32m--> 740\u001b[1;33m         \u001b[1;32mreturn\u001b[0m \u001b[0mself\u001b[0m\u001b[1;33m.\u001b[0m\u001b[0m_parent\u001b[0m\u001b[1;33m.\u001b[0m\u001b[0mexecute\u001b[0m\u001b[1;33m(\u001b[0m\u001b[0mcommand\u001b[0m\u001b[1;33m,\u001b[0m \u001b[0mparams\u001b[0m\u001b[1;33m)\u001b[0m\u001b[1;33m\u001b[0m\u001b[1;33m\u001b[0m\u001b[0m\n\u001b[0m\u001b[0;32m    741\u001b[0m \u001b[1;33m\u001b[0m\u001b[0m\n\u001b[0;32m    742\u001b[0m     \u001b[1;32mdef\u001b[0m \u001b[0mfind_element\u001b[0m\u001b[1;33m(\u001b[0m\u001b[0mself\u001b[0m\u001b[1;33m,\u001b[0m \u001b[0mby\u001b[0m\u001b[1;33m=\u001b[0m\u001b[0mBy\u001b[0m\u001b[1;33m.\u001b[0m\u001b[0mID\u001b[0m\u001b[1;33m,\u001b[0m \u001b[0mvalue\u001b[0m\u001b[1;33m=\u001b[0m\u001b[1;32mNone\u001b[0m\u001b[1;33m)\u001b[0m\u001b[1;33m:\u001b[0m\u001b[1;33m\u001b[0m\u001b[1;33m\u001b[0m\u001b[0m\n",
      "\u001b[1;32m~\\Anaconda3\\lib\\site-packages\\selenium\\webdriver\\remote\\webdriver.py\u001b[0m in \u001b[0;36mexecute\u001b[1;34m(self, driver_command, params)\u001b[0m\n\u001b[0;32m    428\u001b[0m         \u001b[0mresponse\u001b[0m \u001b[1;33m=\u001b[0m \u001b[0mself\u001b[0m\u001b[1;33m.\u001b[0m\u001b[0mcommand_executor\u001b[0m\u001b[1;33m.\u001b[0m\u001b[0mexecute\u001b[0m\u001b[1;33m(\u001b[0m\u001b[0mdriver_command\u001b[0m\u001b[1;33m,\u001b[0m \u001b[0mparams\u001b[0m\u001b[1;33m)\u001b[0m\u001b[1;33m\u001b[0m\u001b[1;33m\u001b[0m\u001b[0m\n\u001b[0;32m    429\u001b[0m         \u001b[1;32mif\u001b[0m \u001b[0mresponse\u001b[0m\u001b[1;33m:\u001b[0m\u001b[1;33m\u001b[0m\u001b[1;33m\u001b[0m\u001b[0m\n\u001b[1;32m--> 430\u001b[1;33m             \u001b[0mself\u001b[0m\u001b[1;33m.\u001b[0m\u001b[0merror_handler\u001b[0m\u001b[1;33m.\u001b[0m\u001b[0mcheck_response\u001b[0m\u001b[1;33m(\u001b[0m\u001b[0mresponse\u001b[0m\u001b[1;33m)\u001b[0m\u001b[1;33m\u001b[0m\u001b[1;33m\u001b[0m\u001b[0m\n\u001b[0m\u001b[0;32m    431\u001b[0m             response['value'] = self._unwrap_value(\n\u001b[0;32m    432\u001b[0m                 response.get('value', None))\n",
      "\u001b[1;32m~\\Anaconda3\\lib\\site-packages\\selenium\\webdriver\\remote\\errorhandler.py\u001b[0m in \u001b[0;36mcheck_response\u001b[1;34m(self, response)\u001b[0m\n\u001b[0;32m    245\u001b[0m                 \u001b[0malert_text\u001b[0m \u001b[1;33m=\u001b[0m \u001b[0mvalue\u001b[0m\u001b[1;33m[\u001b[0m\u001b[1;34m'alert'\u001b[0m\u001b[1;33m]\u001b[0m\u001b[1;33m.\u001b[0m\u001b[0mget\u001b[0m\u001b[1;33m(\u001b[0m\u001b[1;34m'text'\u001b[0m\u001b[1;33m)\u001b[0m\u001b[1;33m\u001b[0m\u001b[1;33m\u001b[0m\u001b[0m\n\u001b[0;32m    246\u001b[0m             \u001b[1;32mraise\u001b[0m \u001b[0mexception_class\u001b[0m\u001b[1;33m(\u001b[0m\u001b[0mmessage\u001b[0m\u001b[1;33m,\u001b[0m \u001b[0mscreen\u001b[0m\u001b[1;33m,\u001b[0m \u001b[0mstacktrace\u001b[0m\u001b[1;33m,\u001b[0m \u001b[0malert_text\u001b[0m\u001b[1;33m)\u001b[0m  \u001b[1;31m# type: ignore[call-arg]  # mypy is not smart enough here\u001b[0m\u001b[1;33m\u001b[0m\u001b[1;33m\u001b[0m\u001b[0m\n\u001b[1;32m--> 247\u001b[1;33m         \u001b[1;32mraise\u001b[0m \u001b[0mexception_class\u001b[0m\u001b[1;33m(\u001b[0m\u001b[0mmessage\u001b[0m\u001b[1;33m,\u001b[0m \u001b[0mscreen\u001b[0m\u001b[1;33m,\u001b[0m \u001b[0mstacktrace\u001b[0m\u001b[1;33m)\u001b[0m\u001b[1;33m\u001b[0m\u001b[1;33m\u001b[0m\u001b[0m\n\u001b[0m\u001b[0;32m    248\u001b[0m \u001b[1;33m\u001b[0m\u001b[0m\n\u001b[0;32m    249\u001b[0m     \u001b[1;32mdef\u001b[0m \u001b[0m_value_or_default\u001b[0m\u001b[1;33m(\u001b[0m\u001b[0mself\u001b[0m\u001b[1;33m,\u001b[0m \u001b[0mobj\u001b[0m\u001b[1;33m:\u001b[0m \u001b[0mMapping\u001b[0m\u001b[1;33m[\u001b[0m\u001b[0m_KT\u001b[0m\u001b[1;33m,\u001b[0m \u001b[0m_VT\u001b[0m\u001b[1;33m]\u001b[0m\u001b[1;33m,\u001b[0m \u001b[0mkey\u001b[0m\u001b[1;33m:\u001b[0m \u001b[0m_KT\u001b[0m\u001b[1;33m,\u001b[0m \u001b[0mdefault\u001b[0m\u001b[1;33m:\u001b[0m \u001b[0m_VT\u001b[0m\u001b[1;33m)\u001b[0m \u001b[1;33m->\u001b[0m \u001b[0m_VT\u001b[0m\u001b[1;33m:\u001b[0m\u001b[1;33m\u001b[0m\u001b[1;33m\u001b[0m\u001b[0m\n",
      "\u001b[1;31mElementNotInteractableException\u001b[0m: Message: element not interactable\n  (Session info: chrome=116.0.5845.111)\nStacktrace:\n\tGetHandleVerifier [0x00007FF7756352A2+57122]\n\t(No symbol) [0x00007FF7755AEA92]\n\t(No symbol) [0x00007FF77547E25D]\n\t(No symbol) [0x00007FF7754B8E97]\n\t(No symbol) [0x00007FF7754AF25F]\n\t(No symbol) [0x00007FF7754D6FDA]\n\t(No symbol) [0x00007FF7754AEB76]\n\t(No symbol) [0x00007FF7754D71F0]\n\t(No symbol) [0x00007FF7754EEB82]\n\t(No symbol) [0x00007FF7754D6DB3]\n\t(No symbol) [0x00007FF7754AD2B1]\n\t(No symbol) [0x00007FF7754AE494]\n\tGetHandleVerifier [0x00007FF7758DEF82+2849794]\n\tGetHandleVerifier [0x00007FF775931D24+3189156]\n\tGetHandleVerifier [0x00007FF77592ACAF+3160367]\n\tGetHandleVerifier [0x00007FF7756C6D06+653702]\n\t(No symbol) [0x00007FF7755BA208]\n\t(No symbol) [0x00007FF7755B62C4]\n\t(No symbol) [0x00007FF7755B63F6]\n\t(No symbol) [0x00007FF7755A67A3]\n\tBaseThreadInitThunk [0x00007FFF48897614+20]\n\tRtlUserThreadStart [0x00007FFF48F426B1+33]\n"
     ]
    }
   ],
   "source": [
    "search_car_click.click()"
   ]
  },
  {
   "cell_type": "code",
   "execution_count": null,
   "id": "cc778aa3",
   "metadata": {},
   "outputs": [],
   "source": []
  }
 ],
 "metadata": {
  "kernelspec": {
   "display_name": "Python 3 (ipykernel)",
   "language": "python",
   "name": "python3"
  },
  "language_info": {
   "codemirror_mode": {
    "name": "ipython",
    "version": 3
   },
   "file_extension": ".py",
   "mimetype": "text/x-python",
   "name": "python",
   "nbconvert_exporter": "python",
   "pygments_lexer": "ipython3",
   "version": "3.9.7"
  }
 },
 "nbformat": 4,
 "nbformat_minor": 5
}
