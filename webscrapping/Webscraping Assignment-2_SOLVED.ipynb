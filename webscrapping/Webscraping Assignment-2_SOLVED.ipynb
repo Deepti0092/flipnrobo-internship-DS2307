{
 "cells": [
  {
   "cell_type": "markdown",
   "id": "7e21bfdd",
   "metadata": {},
   "source": [
    "1)Write a python program to scrape data for “Data Analyst” Job position in “Bangalore” location. You have to scrape the job-title, job-location, company_name, experience_required. You have to scrape first 10 jobs data.\n",
    "This task will be done in following steps:\n",
    "1.\tFirst get the webpage https://www.shine.com/\n",
    "2.\tEnter “Data Analyst” in “Job title, Skills” field and enter “Bangalore” in “enter the location” field.\n",
    "3.\tThen click the searchbutton.\n",
    "4.\tThen scrape the data for the first 10 jobs results you get.\n",
    "5.\tFinally create a dataframe of the scraped data.\n"
   ]
  },
  {
   "cell_type": "code",
   "execution_count": 190,
   "id": "0c6989ff",
   "metadata": {},
   "outputs": [],
   "source": [
    "import selenium\n",
    "import pandas as pd\n",
    "from selenium import webdriver\n",
    "from selenium.webdriver.chrome.options import Options\n",
    "import warnings\n",
    "warnings.filterwarnings(\"ignore\")\n",
    "import time\n"
   ]
  },
  {
   "cell_type": "code",
   "execution_count": 191,
   "id": "97338f28",
   "metadata": {},
   "outputs": [],
   "source": [
    "#for blocking the notification\n",
    "option = Options()\n",
    "\n",
    "option.add_argument(\"--disable-infobars\")\n",
    "option.add_argument(\"start-maximized\")\n",
    "option.add_argument(\"--disable-extensions\")\n",
    "\n",
    "# Pass the argument 1 to allow and 2 to block\n",
    "option.add_experimental_option(\"prefs\", { \n",
    "    \"profile.default_content_setting_values.notifications\": 1 \n",
    "})\n",
    "\n",
    "\n",
    "#web_driver=webdriver.Chrome(r\"C:\\Learning\\FLIPNROBO\\chromedriver-win64\\chromedriver.exe\")\n",
    "web_driver=webdriver.Chrome(chrome_options=option, executable_path=\"C:\\Learning\\FLIPNROBO\\chromedriver-win64\\chromedriver.exe\")"
   ]
  },
  {
   "cell_type": "code",
   "execution_count": 192,
   "id": "b1393521",
   "metadata": {},
   "outputs": [],
   "source": [
    "#1.First get the webpage https://www.shine.com/\n",
    "\n",
    "url = \"https://www.shine.com/\"\n",
    "web_driver.get(url)\n"
   ]
  },
  {
   "cell_type": "code",
   "execution_count": 193,
   "id": "df91894e",
   "metadata": {},
   "outputs": [],
   "source": [
    "#Enter “Data Analyst” in “Job title, Skills” field and enter “Bangalore” in “enter the location” field.\n",
    "\n",
    "Job_title = web_driver.find_element_by_xpath('//input[@type=\"text\" and @id=\"id_q\"]')\n",
    "Job_title\n",
    "Job_title.send_keys('Data Analyst')\n"
   ]
  },
  {
   "cell_type": "code",
   "execution_count": 194,
   "id": "2e03b646",
   "metadata": {},
   "outputs": [],
   "source": [
    "Job_location = web_driver.find_element_by_xpath('//input[@type=\"text\" and @id=\"id_loc\"]')\n",
    "Job_location\n",
    "Job_location.send_keys('Bangalore')"
   ]
  },
  {
   "cell_type": "code",
   "execution_count": 195,
   "id": "3945fc71",
   "metadata": {},
   "outputs": [],
   "source": [
    "search_btn= web_driver.find_element_by_xpath('//button[@type=\"submit\"]').click()\n",
    "search_btn"
   ]
  },
  {
   "cell_type": "code",
   "execution_count": 196,
   "id": "454c8393",
   "metadata": {},
   "outputs": [
    {
     "name": "stdout",
     "output_type": "stream",
     "text": [
      "Project Coordinator (Data Analyst)\n",
      "Data Analyst - Java/Python\n",
      "Hiring For Data Analyst\n",
      "Senior Data Analyst\n",
      "Data Analyst\n",
      "Data Analyst Urgent Recruiment\n",
      "How relevant did you find the job search results ?\n",
      "Apply Now a Data Analyst\n",
      "Apply Now Data Analyst\n",
      "Needed for Data Analyst\n",
      "Urgently need a Data Analyst\n",
      "Require now Data Analyst\n",
      "Data Analyst\n",
      "Data Analyst in Bpo\n",
      "Project Coordinator (Data Analyst)\n",
      "Clinical Data Analyst\n",
      "Data Analyst\n",
      "Data Analyst\n",
      "Data Analyst\n",
      "opening data analyst -Bangalore\n",
      "Data Analyst - Bangalore\n",
      "\n",
      "Project Coordinator (Data Analyst)\n"
     ]
    }
   ],
   "source": [
    "#scrape the data for the first 10 jobs results you get\n",
    "\n",
    "#jobtitle:\n",
    "Job_tags=web_driver.find_elements_by_tag_name('h2')\n",
    "#Job_tags\n",
    "for i in Job_tags:\n",
    "    print(i.text) "
   ]
  },
  {
   "cell_type": "code",
   "execution_count": 197,
   "id": "d34217cc",
   "metadata": {},
   "outputs": [
    {
     "data": {
      "text/plain": [
       "['Project Coordinator (Data Analyst)',\n",
       " 'Data Analyst - Java/Python',\n",
       " 'Hiring For Data Analyst',\n",
       " 'Senior Data Analyst',\n",
       " 'Data Analyst',\n",
       " 'Data Analyst Urgent Recruiment',\n",
       " 'How relevant did you find the job search results ?',\n",
       " 'Apply Now a Data Analyst',\n",
       " 'Apply Now Data Analyst',\n",
       " 'Needed for Data Analyst']"
      ]
     },
     "execution_count": 197,
     "metadata": {},
     "output_type": "execute_result"
    }
   ],
   "source": [
    "job_titles=[]\n",
    "for i in Job_tags:\n",
    "    if i.text is None:\n",
    "        job_titles.append('Not')\n",
    "    else:\n",
    "        job_titles.append(i.text)\n",
    "job_titles[:10]   "
   ]
  },
  {
   "cell_type": "code",
   "execution_count": 198,
   "id": "da95c790",
   "metadata": {},
   "outputs": [
    {
     "data": {
      "text/plain": [
       "[<selenium.webdriver.remote.webelement.WebElement (session=\"014d9a120dbca4e16e9852c2ec62734b\", element=\"B89D1B359ED834E125F8EFD6772EFB1F_element_193\")>,\n",
       " <selenium.webdriver.remote.webelement.WebElement (session=\"014d9a120dbca4e16e9852c2ec62734b\", element=\"B89D1B359ED834E125F8EFD6772EFB1F_element_194\")>,\n",
       " <selenium.webdriver.remote.webelement.WebElement (session=\"014d9a120dbca4e16e9852c2ec62734b\", element=\"B89D1B359ED834E125F8EFD6772EFB1F_element_195\")>,\n",
       " <selenium.webdriver.remote.webelement.WebElement (session=\"014d9a120dbca4e16e9852c2ec62734b\", element=\"B89D1B359ED834E125F8EFD6772EFB1F_element_196\")>,\n",
       " <selenium.webdriver.remote.webelement.WebElement (session=\"014d9a120dbca4e16e9852c2ec62734b\", element=\"B89D1B359ED834E125F8EFD6772EFB1F_element_197\")>,\n",
       " <selenium.webdriver.remote.webelement.WebElement (session=\"014d9a120dbca4e16e9852c2ec62734b\", element=\"B89D1B359ED834E125F8EFD6772EFB1F_element_198\")>,\n",
       " <selenium.webdriver.remote.webelement.WebElement (session=\"014d9a120dbca4e16e9852c2ec62734b\", element=\"B89D1B359ED834E125F8EFD6772EFB1F_element_199\")>,\n",
       " <selenium.webdriver.remote.webelement.WebElement (session=\"014d9a120dbca4e16e9852c2ec62734b\", element=\"B89D1B359ED834E125F8EFD6772EFB1F_element_200\")>,\n",
       " <selenium.webdriver.remote.webelement.WebElement (session=\"014d9a120dbca4e16e9852c2ec62734b\", element=\"B89D1B359ED834E125F8EFD6772EFB1F_element_201\")>,\n",
       " <selenium.webdriver.remote.webelement.WebElement (session=\"014d9a120dbca4e16e9852c2ec62734b\", element=\"B89D1B359ED834E125F8EFD6772EFB1F_element_202\")>,\n",
       " <selenium.webdriver.remote.webelement.WebElement (session=\"014d9a120dbca4e16e9852c2ec62734b\", element=\"B89D1B359ED834E125F8EFD6772EFB1F_element_203\")>,\n",
       " <selenium.webdriver.remote.webelement.WebElement (session=\"014d9a120dbca4e16e9852c2ec62734b\", element=\"B89D1B359ED834E125F8EFD6772EFB1F_element_204\")>,\n",
       " <selenium.webdriver.remote.webelement.WebElement (session=\"014d9a120dbca4e16e9852c2ec62734b\", element=\"B89D1B359ED834E125F8EFD6772EFB1F_element_205\")>,\n",
       " <selenium.webdriver.remote.webelement.WebElement (session=\"014d9a120dbca4e16e9852c2ec62734b\", element=\"B89D1B359ED834E125F8EFD6772EFB1F_element_206\")>,\n",
       " <selenium.webdriver.remote.webelement.WebElement (session=\"014d9a120dbca4e16e9852c2ec62734b\", element=\"B89D1B359ED834E125F8EFD6772EFB1F_element_207\")>,\n",
       " <selenium.webdriver.remote.webelement.WebElement (session=\"014d9a120dbca4e16e9852c2ec62734b\", element=\"B89D1B359ED834E125F8EFD6772EFB1F_element_208\")>,\n",
       " <selenium.webdriver.remote.webelement.WebElement (session=\"014d9a120dbca4e16e9852c2ec62734b\", element=\"B89D1B359ED834E125F8EFD6772EFB1F_element_209\")>,\n",
       " <selenium.webdriver.remote.webelement.WebElement (session=\"014d9a120dbca4e16e9852c2ec62734b\", element=\"B89D1B359ED834E125F8EFD6772EFB1F_element_210\")>,\n",
       " <selenium.webdriver.remote.webelement.WebElement (session=\"014d9a120dbca4e16e9852c2ec62734b\", element=\"B89D1B359ED834E125F8EFD6772EFB1F_element_211\")>,\n",
       " <selenium.webdriver.remote.webelement.WebElement (session=\"014d9a120dbca4e16e9852c2ec62734b\", element=\"B89D1B359ED834E125F8EFD6772EFB1F_element_212\")>]"
      ]
     },
     "execution_count": 198,
     "metadata": {},
     "output_type": "execute_result"
    }
   ],
   "source": [
    "# lets extract all the tags having company names\n",
    "company_tags=web_driver.find_elements_by_xpath(\"//div[@class='jobCard_jobCard_cName__mYnow']//span\")\n",
    "company_tags"
   ]
  },
  {
   "cell_type": "code",
   "execution_count": 199,
   "id": "dbd0c44d",
   "metadata": {},
   "outputs": [
    {
     "data": {
      "text/plain": [
       "['futures and careers',\n",
       " 'boyen haddin consulting and technol...',\n",
       " 'kavya staffing solutions',\n",
       " 'ara resources private limited',\n",
       " 'ashutosh sabhashankar chaturvedi hi...',\n",
       " 'divya interprises',\n",
       " 'deuglo infosystem private limited',\n",
       " 'deuglo infosystem private limited',\n",
       " 'deuglo infosystem private limited',\n",
       " 'deuglo infosystem private limited']"
      ]
     },
     "execution_count": 199,
     "metadata": {},
     "output_type": "execute_result"
    }
   ],
   "source": [
    "companies_names=[]\n",
    "\n",
    "for i in company_tags:\n",
    "    companies_names.append(i.text)\n",
    "companies_names[:10] "
   ]
  },
  {
   "cell_type": "code",
   "execution_count": 200,
   "id": "07bb99dc",
   "metadata": {},
   "outputs": [
    {
     "data": {
      "text/plain": [
       "[<selenium.webdriver.remote.webelement.WebElement (session=\"014d9a120dbca4e16e9852c2ec62734b\", element=\"B89D1B359ED834E125F8EFD6772EFB1F_element_213\")>,\n",
       " <selenium.webdriver.remote.webelement.WebElement (session=\"014d9a120dbca4e16e9852c2ec62734b\", element=\"B89D1B359ED834E125F8EFD6772EFB1F_element_214\")>,\n",
       " <selenium.webdriver.remote.webelement.WebElement (session=\"014d9a120dbca4e16e9852c2ec62734b\", element=\"B89D1B359ED834E125F8EFD6772EFB1F_element_215\")>,\n",
       " <selenium.webdriver.remote.webelement.WebElement (session=\"014d9a120dbca4e16e9852c2ec62734b\", element=\"B89D1B359ED834E125F8EFD6772EFB1F_element_216\")>,\n",
       " <selenium.webdriver.remote.webelement.WebElement (session=\"014d9a120dbca4e16e9852c2ec62734b\", element=\"B89D1B359ED834E125F8EFD6772EFB1F_element_217\")>,\n",
       " <selenium.webdriver.remote.webelement.WebElement (session=\"014d9a120dbca4e16e9852c2ec62734b\", element=\"B89D1B359ED834E125F8EFD6772EFB1F_element_218\")>,\n",
       " <selenium.webdriver.remote.webelement.WebElement (session=\"014d9a120dbca4e16e9852c2ec62734b\", element=\"B89D1B359ED834E125F8EFD6772EFB1F_element_219\")>,\n",
       " <selenium.webdriver.remote.webelement.WebElement (session=\"014d9a120dbca4e16e9852c2ec62734b\", element=\"B89D1B359ED834E125F8EFD6772EFB1F_element_220\")>,\n",
       " <selenium.webdriver.remote.webelement.WebElement (session=\"014d9a120dbca4e16e9852c2ec62734b\", element=\"B89D1B359ED834E125F8EFD6772EFB1F_element_221\")>,\n",
       " <selenium.webdriver.remote.webelement.WebElement (session=\"014d9a120dbca4e16e9852c2ec62734b\", element=\"B89D1B359ED834E125F8EFD6772EFB1F_element_222\")>,\n",
       " <selenium.webdriver.remote.webelement.WebElement (session=\"014d9a120dbca4e16e9852c2ec62734b\", element=\"B89D1B359ED834E125F8EFD6772EFB1F_element_223\")>,\n",
       " <selenium.webdriver.remote.webelement.WebElement (session=\"014d9a120dbca4e16e9852c2ec62734b\", element=\"B89D1B359ED834E125F8EFD6772EFB1F_element_224\")>,\n",
       " <selenium.webdriver.remote.webelement.WebElement (session=\"014d9a120dbca4e16e9852c2ec62734b\", element=\"B89D1B359ED834E125F8EFD6772EFB1F_element_225\")>,\n",
       " <selenium.webdriver.remote.webelement.WebElement (session=\"014d9a120dbca4e16e9852c2ec62734b\", element=\"B89D1B359ED834E125F8EFD6772EFB1F_element_226\")>,\n",
       " <selenium.webdriver.remote.webelement.WebElement (session=\"014d9a120dbca4e16e9852c2ec62734b\", element=\"B89D1B359ED834E125F8EFD6772EFB1F_element_227\")>,\n",
       " <selenium.webdriver.remote.webelement.WebElement (session=\"014d9a120dbca4e16e9852c2ec62734b\", element=\"B89D1B359ED834E125F8EFD6772EFB1F_element_228\")>,\n",
       " <selenium.webdriver.remote.webelement.WebElement (session=\"014d9a120dbca4e16e9852c2ec62734b\", element=\"B89D1B359ED834E125F8EFD6772EFB1F_element_229\")>,\n",
       " <selenium.webdriver.remote.webelement.WebElement (session=\"014d9a120dbca4e16e9852c2ec62734b\", element=\"B89D1B359ED834E125F8EFD6772EFB1F_element_230\")>,\n",
       " <selenium.webdriver.remote.webelement.WebElement (session=\"014d9a120dbca4e16e9852c2ec62734b\", element=\"B89D1B359ED834E125F8EFD6772EFB1F_element_231\")>,\n",
       " <selenium.webdriver.remote.webelement.WebElement (session=\"014d9a120dbca4e16e9852c2ec62734b\", element=\"B89D1B359ED834E125F8EFD6772EFB1F_element_232\")>]"
      ]
     },
     "execution_count": 200,
     "metadata": {},
     "output_type": "execute_result"
    }
   ],
   "source": [
    "experience_tags=web_driver.find_elements_by_xpath(\"//div[contains(@class,'jobCard_jobCard_lists_item__YxRkV jobCard_jobIcon__3FB1t')]\")\n",
    "experience_tags"
   ]
  },
  {
   "cell_type": "code",
   "execution_count": 201,
   "id": "b4be7b12",
   "metadata": {},
   "outputs": [
    {
     "data": {
      "text/plain": [
       "['2 to 4 Yrs',\n",
       " '3 to 6 Yrs',\n",
       " '0 to 4 Yrs',\n",
       " '2 to 5 Yrs',\n",
       " '7 to 12 Yrs',\n",
       " '0 to 4 Yrs',\n",
       " '1 to 2 Yrs',\n",
       " '1 to 2 Yrs',\n",
       " '1 to 2 Yrs',\n",
       " '1 to 2 Yrs']"
      ]
     },
     "execution_count": 201,
     "metadata": {},
     "output_type": "execute_result"
    }
   ],
   "source": [
    "experience_list=[]\n",
    "for i in experience_tags:\n",
    "    experience_list.append(i.text)\n",
    "experience_list[:10]   "
   ]
  },
  {
   "cell_type": "code",
   "execution_count": 202,
   "id": "c3415ff1",
   "metadata": {},
   "outputs": [
    {
     "data": {
      "text/plain": [
       "[<selenium.webdriver.remote.webelement.WebElement (session=\"014d9a120dbca4e16e9852c2ec62734b\", element=\"B89D1B359ED834E125F8EFD6772EFB1F_element_233\")>,\n",
       " <selenium.webdriver.remote.webelement.WebElement (session=\"014d9a120dbca4e16e9852c2ec62734b\", element=\"B89D1B359ED834E125F8EFD6772EFB1F_element_234\")>,\n",
       " <selenium.webdriver.remote.webelement.WebElement (session=\"014d9a120dbca4e16e9852c2ec62734b\", element=\"B89D1B359ED834E125F8EFD6772EFB1F_element_235\")>,\n",
       " <selenium.webdriver.remote.webelement.WebElement (session=\"014d9a120dbca4e16e9852c2ec62734b\", element=\"B89D1B359ED834E125F8EFD6772EFB1F_element_236\")>,\n",
       " <selenium.webdriver.remote.webelement.WebElement (session=\"014d9a120dbca4e16e9852c2ec62734b\", element=\"B89D1B359ED834E125F8EFD6772EFB1F_element_237\")>,\n",
       " <selenium.webdriver.remote.webelement.WebElement (session=\"014d9a120dbca4e16e9852c2ec62734b\", element=\"B89D1B359ED834E125F8EFD6772EFB1F_element_238\")>,\n",
       " <selenium.webdriver.remote.webelement.WebElement (session=\"014d9a120dbca4e16e9852c2ec62734b\", element=\"B89D1B359ED834E125F8EFD6772EFB1F_element_239\")>,\n",
       " <selenium.webdriver.remote.webelement.WebElement (session=\"014d9a120dbca4e16e9852c2ec62734b\", element=\"B89D1B359ED834E125F8EFD6772EFB1F_element_240\")>,\n",
       " <selenium.webdriver.remote.webelement.WebElement (session=\"014d9a120dbca4e16e9852c2ec62734b\", element=\"B89D1B359ED834E125F8EFD6772EFB1F_element_241\")>,\n",
       " <selenium.webdriver.remote.webelement.WebElement (session=\"014d9a120dbca4e16e9852c2ec62734b\", element=\"B89D1B359ED834E125F8EFD6772EFB1F_element_242\")>,\n",
       " <selenium.webdriver.remote.webelement.WebElement (session=\"014d9a120dbca4e16e9852c2ec62734b\", element=\"B89D1B359ED834E125F8EFD6772EFB1F_element_243\")>,\n",
       " <selenium.webdriver.remote.webelement.WebElement (session=\"014d9a120dbca4e16e9852c2ec62734b\", element=\"B89D1B359ED834E125F8EFD6772EFB1F_element_244\")>,\n",
       " <selenium.webdriver.remote.webelement.WebElement (session=\"014d9a120dbca4e16e9852c2ec62734b\", element=\"B89D1B359ED834E125F8EFD6772EFB1F_element_245\")>,\n",
       " <selenium.webdriver.remote.webelement.WebElement (session=\"014d9a120dbca4e16e9852c2ec62734b\", element=\"B89D1B359ED834E125F8EFD6772EFB1F_element_246\")>,\n",
       " <selenium.webdriver.remote.webelement.WebElement (session=\"014d9a120dbca4e16e9852c2ec62734b\", element=\"B89D1B359ED834E125F8EFD6772EFB1F_element_247\")>,\n",
       " <selenium.webdriver.remote.webelement.WebElement (session=\"014d9a120dbca4e16e9852c2ec62734b\", element=\"B89D1B359ED834E125F8EFD6772EFB1F_element_248\")>,\n",
       " <selenium.webdriver.remote.webelement.WebElement (session=\"014d9a120dbca4e16e9852c2ec62734b\", element=\"B89D1B359ED834E125F8EFD6772EFB1F_element_249\")>,\n",
       " <selenium.webdriver.remote.webelement.WebElement (session=\"014d9a120dbca4e16e9852c2ec62734b\", element=\"B89D1B359ED834E125F8EFD6772EFB1F_element_250\")>,\n",
       " <selenium.webdriver.remote.webelement.WebElement (session=\"014d9a120dbca4e16e9852c2ec62734b\", element=\"B89D1B359ED834E125F8EFD6772EFB1F_element_251\")>,\n",
       " <selenium.webdriver.remote.webelement.WebElement (session=\"014d9a120dbca4e16e9852c2ec62734b\", element=\"B89D1B359ED834E125F8EFD6772EFB1F_element_252\")>]"
      ]
     },
     "execution_count": 202,
     "metadata": {},
     "output_type": "execute_result"
    }
   ],
   "source": [
    "locations_tags=web_driver.find_elements_by_xpath(\"//div[contains(@class,'jobCard_jobCard_lists_item__YxRkV jobCard_locationIcon__zrWt2')]\")\n",
    "locations_tags"
   ]
  },
  {
   "cell_type": "code",
   "execution_count": 205,
   "id": "fecf86c0",
   "metadata": {},
   "outputs": [
    {
     "data": {
      "text/plain": [
       "['Bangalore',\n",
       " 'Bangalore',\n",
       " 'Bangalore\\n+14',\n",
       " 'Bangalore',\n",
       " 'Bangalore\\n+9',\n",
       " 'Bangalore\\n+14',\n",
       " 'Bangalore',\n",
       " 'Bangalore',\n",
       " 'Bangalore',\n",
       " 'Bangalore']"
      ]
     },
     "execution_count": 205,
     "metadata": {},
     "output_type": "execute_result"
    }
   ],
   "source": [
    "locations_list=[]\n",
    "for i in locations_tags:\n",
    "    locations_list.append(i.text)\n",
    "locations_list[:10]    "
   ]
  },
  {
   "cell_type": "code",
   "execution_count": 206,
   "id": "7d25312b",
   "metadata": {},
   "outputs": [
    {
     "name": "stdout",
     "output_type": "stream",
     "text": [
      "10\n",
      "10\n",
      "10\n",
      "10\n"
     ]
    },
    {
     "data": {
      "text/plain": [
       "(None, None, None, None)"
      ]
     },
     "execution_count": 206,
     "metadata": {},
     "output_type": "execute_result"
    }
   ],
   "source": [
    "print(len(job_titles[:10])),print(len(companies_names[:10])),print(len(experience_list[:10])),print(len(locations_list[:10]))"
   ]
  },
  {
   "cell_type": "code",
   "execution_count": 207,
   "id": "dcde46bd",
   "metadata": {},
   "outputs": [],
   "source": [
    "jobs=pd.DataFrame({})\n",
    "jobs['title']=job_titles[:10]\n",
    "jobs['location']=locations_list[:10]\n",
    "jobs['company']=companies_names[:10]\n",
    "jobs['experience_required']=experience_list[:10]\n"
   ]
  },
  {
   "cell_type": "code",
   "execution_count": 122,
   "id": "616878a6",
   "metadata": {},
   "outputs": [
    {
     "data": {
      "text/html": [
       "<div>\n",
       "<style scoped>\n",
       "    .dataframe tbody tr th:only-of-type {\n",
       "        vertical-align: middle;\n",
       "    }\n",
       "\n",
       "    .dataframe tbody tr th {\n",
       "        vertical-align: top;\n",
       "    }\n",
       "\n",
       "    .dataframe thead th {\n",
       "        text-align: right;\n",
       "    }\n",
       "</style>\n",
       "<table border=\"1\" class=\"dataframe\">\n",
       "  <thead>\n",
       "    <tr style=\"text-align: right;\">\n",
       "      <th></th>\n",
       "      <th>title</th>\n",
       "      <th>location</th>\n",
       "      <th>company</th>\n",
       "      <th>experience_required</th>\n",
       "    </tr>\n",
       "  </thead>\n",
       "  <tbody>\n",
       "    <tr>\n",
       "      <th>0</th>\n",
       "      <td>Project Coordinator (Data Analyst)</td>\n",
       "      <td>Bangalore</td>\n",
       "      <td>futures and careers</td>\n",
       "      <td>2 to 4 Yrs</td>\n",
       "    </tr>\n",
       "    <tr>\n",
       "      <th>1</th>\n",
       "      <td>Data Analyst - Java/Python</td>\n",
       "      <td>Bangalore</td>\n",
       "      <td>boyen haddin consulting and technol...</td>\n",
       "      <td>3 to 6 Yrs</td>\n",
       "    </tr>\n",
       "    <tr>\n",
       "      <th>2</th>\n",
       "      <td>Hiring For Data Analyst</td>\n",
       "      <td>Bangalore\\n+14</td>\n",
       "      <td>kavya staffing solutions</td>\n",
       "      <td>0 to 4 Yrs</td>\n",
       "    </tr>\n",
       "    <tr>\n",
       "      <th>3</th>\n",
       "      <td>Senior Data Analyst</td>\n",
       "      <td>Bangalore</td>\n",
       "      <td>ara resources private limited</td>\n",
       "      <td>2 to 5 Yrs</td>\n",
       "    </tr>\n",
       "    <tr>\n",
       "      <th>4</th>\n",
       "      <td>Data Analyst</td>\n",
       "      <td>Bangalore\\n+9</td>\n",
       "      <td>ashutosh sabhashankar chaturvedi hi...</td>\n",
       "      <td>7 to 12 Yrs</td>\n",
       "    </tr>\n",
       "    <tr>\n",
       "      <th>5</th>\n",
       "      <td>Data Analyst Urgent Recruiment</td>\n",
       "      <td>Bangalore\\n+14</td>\n",
       "      <td>divya interprises</td>\n",
       "      <td>0 to 4 Yrs</td>\n",
       "    </tr>\n",
       "    <tr>\n",
       "      <th>6</th>\n",
       "      <td>How relevant did you find the job search resul...</td>\n",
       "      <td>Bangalore</td>\n",
       "      <td>deuglo infosystem private limited</td>\n",
       "      <td>1 to 2 Yrs</td>\n",
       "    </tr>\n",
       "    <tr>\n",
       "      <th>7</th>\n",
       "      <td>Apply Now a Data Analyst</td>\n",
       "      <td>Bangalore</td>\n",
       "      <td>deuglo infosystem private limited</td>\n",
       "      <td>1 to 2 Yrs</td>\n",
       "    </tr>\n",
       "    <tr>\n",
       "      <th>8</th>\n",
       "      <td>Apply Now Data Analyst</td>\n",
       "      <td>Bangalore</td>\n",
       "      <td>deuglo infosystem private limited</td>\n",
       "      <td>1 to 2 Yrs</td>\n",
       "    </tr>\n",
       "    <tr>\n",
       "      <th>9</th>\n",
       "      <td>Needed for Data Analyst</td>\n",
       "      <td>Bangalore</td>\n",
       "      <td>deuglo infosystem private limited</td>\n",
       "      <td>1 to 2 Yrs</td>\n",
       "    </tr>\n",
       "  </tbody>\n",
       "</table>\n",
       "</div>"
      ],
      "text/plain": [
       "                                               title        location  \\\n",
       "0                 Project Coordinator (Data Analyst)       Bangalore   \n",
       "1                         Data Analyst - Java/Python       Bangalore   \n",
       "2                            Hiring For Data Analyst  Bangalore\\n+14   \n",
       "3                                Senior Data Analyst       Bangalore   \n",
       "4                                       Data Analyst   Bangalore\\n+9   \n",
       "5                     Data Analyst Urgent Recruiment  Bangalore\\n+14   \n",
       "6  How relevant did you find the job search resul...       Bangalore   \n",
       "7                           Apply Now a Data Analyst       Bangalore   \n",
       "8                             Apply Now Data Analyst       Bangalore   \n",
       "9                            Needed for Data Analyst       Bangalore   \n",
       "\n",
       "                                  company experience_required  \n",
       "0                     futures and careers          2 to 4 Yrs  \n",
       "1  boyen haddin consulting and technol...          3 to 6 Yrs  \n",
       "2                kavya staffing solutions          0 to 4 Yrs  \n",
       "3           ara resources private limited          2 to 5 Yrs  \n",
       "4  ashutosh sabhashankar chaturvedi hi...         7 to 12 Yrs  \n",
       "5                       divya interprises          0 to 4 Yrs  \n",
       "6       deuglo infosystem private limited          1 to 2 Yrs  \n",
       "7       deuglo infosystem private limited          1 to 2 Yrs  \n",
       "8       deuglo infosystem private limited          1 to 2 Yrs  \n",
       "9       deuglo infosystem private limited          1 to 2 Yrs  "
      ]
     },
     "execution_count": 122,
     "metadata": {},
     "output_type": "execute_result"
    }
   ],
   "source": [
    "jobs"
   ]
  },
  {
   "cell_type": "markdown",
   "id": "451e324a",
   "metadata": {},
   "source": [
    "Q2: Write a python program to scrape data for “Data Scientist” Job position in “Bangalore” location. You have to scrape the job-title, job-location, company_name. You have to scrape first 10 jobs data.\n",
    "This task will be done in following steps:\n",
    "1.\tFirst get the webpage https://www.shine.com/\n",
    "2.\tEnter “Data Scientist” in “Job title, Skills” field and enter “Bangalore” in “enter thelocation” field.\n",
    "3.\tThen click the search button.\n",
    "4.\tThen scrape the data for the first 10 jobs results you get.\n",
    "5.\tFinally create a dataframe of the scraped data.\n"
   ]
  },
  {
   "cell_type": "code",
   "execution_count": 178,
   "id": "84dc68be",
   "metadata": {},
   "outputs": [],
   "source": [
    "#for blocking the notification\n",
    "option = Options()\n",
    "\n",
    "option.add_argument(\"--disable-infobars\")\n",
    "option.add_argument(\"start-maximized\")\n",
    "option.add_argument(\"--disable-extensions\")\n",
    "\n",
    "# Pass the argument 1 to allow and 2 to block\n",
    "option.add_experimental_option(\"prefs\", { \n",
    "    \"profile.default_content_setting_values.notifications\": 1 \n",
    "})\n",
    "\n",
    "\n",
    "#web_driver=webdriver.Chrome(r\"C:\\Learning\\FLIPNROBO\\chromedriver-win64\\chromedriver.exe\")\n",
    "web_driver=webdriver.Chrome(chrome_options=option, executable_path=\"C:\\Learning\\FLIPNROBO\\chromedriver-win64\\chromedriver.exe\")"
   ]
  },
  {
   "cell_type": "code",
   "execution_count": 179,
   "id": "653e0dd0",
   "metadata": {},
   "outputs": [],
   "source": [
    "#1.First get the webpage https://www.shine.com/\n",
    "\n",
    "url = \"https://www.shine.com/\"\n",
    "web_driver.get(url)"
   ]
  },
  {
   "cell_type": "code",
   "execution_count": 180,
   "id": "267cf032",
   "metadata": {},
   "outputs": [],
   "source": [
    "#Enter “Data Analyst” in “Job title, Skills” field and enter “Bangalore” in “enter the location” field.\n",
    "\n",
    "Job_title = web_driver.find_element_by_xpath('//input[@type=\"text\" and @id=\"id_q\"]')\n",
    "Job_title\n",
    "Job_title.send_keys('Data Analyst')\n",
    "\n",
    "Job_location = web_driver.find_element_by_xpath('//input[@type=\"text\" and @id=\"id_loc\"]')\n",
    "Job_location\n",
    "Job_location.send_keys('Bangalore')"
   ]
  },
  {
   "cell_type": "code",
   "execution_count": 181,
   "id": "f5cb3dad",
   "metadata": {},
   "outputs": [],
   "source": [
    "search_btn= web_driver.find_element_by_xpath('//button[@type=\"submit\"]').click()\n",
    "search_btn"
   ]
  },
  {
   "cell_type": "code",
   "execution_count": 185,
   "id": "2530a0c8",
   "metadata": {},
   "outputs": [
    {
     "name": "stdout",
     "output_type": "stream",
     "text": [
      "Project Coordinator (Data Analyst)\n",
      "Data Analyst - Java/Python\n",
      "Hiring For Data Analyst\n",
      "Senior Data Analyst\n",
      "Data Analyst\n",
      "Data Analyst Urgent Recruiment\n",
      "How relevant did you find the job search results ?\n",
      "Apply Now a Data Analyst\n",
      "Apply Now Data Analyst\n",
      "Needed for Data Analyst\n",
      "Urgently need a Data Analyst\n",
      "Require now Data Analyst\n",
      "Data Analyst\n",
      "Data Analyst in Bpo\n",
      "Project Coordinator (Data Analyst)\n",
      "Clinical Data Analyst\n",
      "Data Analyst\n",
      "Data Analyst\n",
      "Data Analyst\n",
      "opening data analyst -Bangalore\n",
      "Data Analyst - Bangalore\n",
      "\n",
      "Project Coordinator (Data Analyst)\n"
     ]
    },
    {
     "data": {
      "text/plain": [
       "['Project Coordinator (Data Analyst)',\n",
       " 'Data Analyst - Java/Python',\n",
       " 'Hiring For Data Analyst',\n",
       " 'Senior Data Analyst',\n",
       " 'Data Analyst',\n",
       " 'Data Analyst Urgent Recruiment',\n",
       " 'How relevant did you find the job search results ?',\n",
       " 'Apply Now a Data Analyst',\n",
       " 'Apply Now Data Analyst',\n",
       " 'Needed for Data Analyst']"
      ]
     },
     "execution_count": 185,
     "metadata": {},
     "output_type": "execute_result"
    }
   ],
   "source": [
    "#jobtitle:\n",
    "Job_tags=web_driver.find_elements_by_tag_name('h2')\n",
    "#Job_tags\n",
    "for i in Job_tags:\n",
    "    print(i.text) \n",
    "    \n",
    "job_titles=[]\n",
    "for i in Job_tags:\n",
    "    if i.text is None:\n",
    "        job_titles.append('Not')\n",
    "    else:\n",
    "        job_titles.append(i.text)\n",
    "job_titles[:10]   "
   ]
  },
  {
   "cell_type": "code",
   "execution_count": 186,
   "id": "652520ec",
   "metadata": {},
   "outputs": [
    {
     "data": {
      "text/plain": [
       "['futures and careers',\n",
       " 'boyen haddin consulting and technol...',\n",
       " 'kavya staffing solutions',\n",
       " 'ara resources private limited',\n",
       " 'ashutosh sabhashankar chaturvedi hi...',\n",
       " 'divya interprises',\n",
       " 'deuglo infosystem private limited',\n",
       " 'deuglo infosystem private limited',\n",
       " 'deuglo infosystem private limited',\n",
       " 'deuglo infosystem private limited']"
      ]
     },
     "execution_count": 186,
     "metadata": {},
     "output_type": "execute_result"
    }
   ],
   "source": [
    "# lets extract all the tags having company names\n",
    "company_tags=web_driver.find_elements_by_xpath(\"//div[@class='jobCard_jobCard_cName__mYnow']//span\")\n",
    "company_tags\n",
    "\n",
    "companies_names=[]\n",
    "\n",
    "for i in company_tags:\n",
    "    companies_names.append(i.text)\n",
    "companies_names[:10] "
   ]
  },
  {
   "cell_type": "code",
   "execution_count": 187,
   "id": "6b1fb3b8",
   "metadata": {},
   "outputs": [
    {
     "data": {
      "text/plain": [
       "['Bangalore',\n",
       " 'Bangalore',\n",
       " 'Bangalore\\n+14',\n",
       " 'Bangalore',\n",
       " 'Bangalore\\n+9',\n",
       " 'Bangalore\\n+14',\n",
       " 'Bangalore',\n",
       " 'Bangalore',\n",
       " 'Bangalore',\n",
       " 'Bangalore']"
      ]
     },
     "execution_count": 187,
     "metadata": {},
     "output_type": "execute_result"
    }
   ],
   "source": [
    "locations_tags=web_driver.find_elements_by_xpath(\"//div[contains(@class,'jobCard_jobCard_lists_item__YxRkV jobCard_locationIcon__zrWt2')]\")\n",
    "locations_tags\n",
    "\n",
    "locations_list=[]\n",
    "for i in locations_tags:\n",
    "    locations_list.append(i.text)\n",
    "locations_list[:10]   "
   ]
  },
  {
   "cell_type": "code",
   "execution_count": 188,
   "id": "b10dbae1",
   "metadata": {},
   "outputs": [],
   "source": [
    "jobs=pd.DataFrame({})\n",
    "jobs['title']=job_titles[:10]\n",
    "jobs['location']=locations_list[:10]\n",
    "jobs['company']=companies_names[:10]\n"
   ]
  },
  {
   "cell_type": "code",
   "execution_count": 189,
   "id": "b1b83a59",
   "metadata": {},
   "outputs": [
    {
     "data": {
      "text/html": [
       "<div>\n",
       "<style scoped>\n",
       "    .dataframe tbody tr th:only-of-type {\n",
       "        vertical-align: middle;\n",
       "    }\n",
       "\n",
       "    .dataframe tbody tr th {\n",
       "        vertical-align: top;\n",
       "    }\n",
       "\n",
       "    .dataframe thead th {\n",
       "        text-align: right;\n",
       "    }\n",
       "</style>\n",
       "<table border=\"1\" class=\"dataframe\">\n",
       "  <thead>\n",
       "    <tr style=\"text-align: right;\">\n",
       "      <th></th>\n",
       "      <th>title</th>\n",
       "      <th>location</th>\n",
       "      <th>company</th>\n",
       "    </tr>\n",
       "  </thead>\n",
       "  <tbody>\n",
       "    <tr>\n",
       "      <th>0</th>\n",
       "      <td>Project Coordinator (Data Analyst)</td>\n",
       "      <td>Bangalore</td>\n",
       "      <td>futures and careers</td>\n",
       "    </tr>\n",
       "    <tr>\n",
       "      <th>1</th>\n",
       "      <td>Data Analyst - Java/Python</td>\n",
       "      <td>Bangalore</td>\n",
       "      <td>boyen haddin consulting and technol...</td>\n",
       "    </tr>\n",
       "    <tr>\n",
       "      <th>2</th>\n",
       "      <td>Hiring For Data Analyst</td>\n",
       "      <td>Bangalore\\n+14</td>\n",
       "      <td>kavya staffing solutions</td>\n",
       "    </tr>\n",
       "    <tr>\n",
       "      <th>3</th>\n",
       "      <td>Senior Data Analyst</td>\n",
       "      <td>Bangalore</td>\n",
       "      <td>ara resources private limited</td>\n",
       "    </tr>\n",
       "    <tr>\n",
       "      <th>4</th>\n",
       "      <td>Data Analyst</td>\n",
       "      <td>Bangalore\\n+9</td>\n",
       "      <td>ashutosh sabhashankar chaturvedi hi...</td>\n",
       "    </tr>\n",
       "    <tr>\n",
       "      <th>5</th>\n",
       "      <td>Data Analyst Urgent Recruiment</td>\n",
       "      <td>Bangalore\\n+14</td>\n",
       "      <td>divya interprises</td>\n",
       "    </tr>\n",
       "    <tr>\n",
       "      <th>6</th>\n",
       "      <td>How relevant did you find the job search resul...</td>\n",
       "      <td>Bangalore</td>\n",
       "      <td>deuglo infosystem private limited</td>\n",
       "    </tr>\n",
       "    <tr>\n",
       "      <th>7</th>\n",
       "      <td>Apply Now a Data Analyst</td>\n",
       "      <td>Bangalore</td>\n",
       "      <td>deuglo infosystem private limited</td>\n",
       "    </tr>\n",
       "    <tr>\n",
       "      <th>8</th>\n",
       "      <td>Apply Now Data Analyst</td>\n",
       "      <td>Bangalore</td>\n",
       "      <td>deuglo infosystem private limited</td>\n",
       "    </tr>\n",
       "    <tr>\n",
       "      <th>9</th>\n",
       "      <td>Needed for Data Analyst</td>\n",
       "      <td>Bangalore</td>\n",
       "      <td>deuglo infosystem private limited</td>\n",
       "    </tr>\n",
       "  </tbody>\n",
       "</table>\n",
       "</div>"
      ],
      "text/plain": [
       "                                               title        location  \\\n",
       "0                 Project Coordinator (Data Analyst)       Bangalore   \n",
       "1                         Data Analyst - Java/Python       Bangalore   \n",
       "2                            Hiring For Data Analyst  Bangalore\\n+14   \n",
       "3                                Senior Data Analyst       Bangalore   \n",
       "4                                       Data Analyst   Bangalore\\n+9   \n",
       "5                     Data Analyst Urgent Recruiment  Bangalore\\n+14   \n",
       "6  How relevant did you find the job search resul...       Bangalore   \n",
       "7                           Apply Now a Data Analyst       Bangalore   \n",
       "8                             Apply Now Data Analyst       Bangalore   \n",
       "9                            Needed for Data Analyst       Bangalore   \n",
       "\n",
       "                                  company  \n",
       "0                     futures and careers  \n",
       "1  boyen haddin consulting and technol...  \n",
       "2                kavya staffing solutions  \n",
       "3           ara resources private limited  \n",
       "4  ashutosh sabhashankar chaturvedi hi...  \n",
       "5                       divya interprises  \n",
       "6       deuglo infosystem private limited  \n",
       "7       deuglo infosystem private limited  \n",
       "8       deuglo infosystem private limited  \n",
       "9       deuglo infosystem private limited  "
      ]
     },
     "execution_count": 189,
     "metadata": {},
     "output_type": "execute_result"
    }
   ],
   "source": [
    "jobs"
   ]
  },
  {
   "cell_type": "code",
   "execution_count": null,
   "id": "b3c2bd79",
   "metadata": {},
   "outputs": [],
   "source": []
  }
 ],
 "metadata": {
  "kernelspec": {
   "display_name": "Python 3 (ipykernel)",
   "language": "python",
   "name": "python3"
  },
  "language_info": {
   "codemirror_mode": {
    "name": "ipython",
    "version": 3
   },
   "file_extension": ".py",
   "mimetype": "text/x-python",
   "name": "python",
   "nbconvert_exporter": "python",
   "pygments_lexer": "ipython3",
   "version": "3.9.7"
  }
 },
 "nbformat": 4,
 "nbformat_minor": 5
}
