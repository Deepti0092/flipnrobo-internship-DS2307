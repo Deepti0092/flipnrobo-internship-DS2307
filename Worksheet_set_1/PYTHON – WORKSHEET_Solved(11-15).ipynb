{
 "cells": [
  {
   "cell_type": "code",
   "execution_count": 4,
   "id": "f51c314d",
   "metadata": {},
   "outputs": [
    {
     "name": "stdout",
     "output_type": "stream",
     "text": [
      "120\n"
     ]
    }
   ],
   "source": [
    "#Ans11\n",
    "\n",
    "def factorial(x):\n",
    "    if x == 1:\n",
    "        return 1\n",
    "    else:\n",
    "        return (x * factorial(x-1))\n",
    "    \n",
    "num=5\n",
    "print(factorial(5))\n"
   ]
  },
  {
   "cell_type": "code",
   "execution_count": 8,
   "id": "c51b9b5d",
   "metadata": {},
   "outputs": [
    {
     "name": "stdout",
     "output_type": "stream",
     "text": [
      "Enter any number : 11\n",
      "11  PRIME number\n"
     ]
    }
   ],
   "source": [
    "##Ans12\n",
    "\n",
    "num = int(input(\"Enter any number : \"))\n",
    "if num > 1:\n",
    "    for i in range(2, num):\n",
    "        if (num % i) == 0:\n",
    "            print(num, \" NOT prime number\")\n",
    "            break\n",
    "    else:\n",
    "        print(num, \" PRIME number\")\n",
    "elif num == 0 or 1:\n",
    "    print(num, \"neither prime NOR composite number\")\n",
    "else:\n",
    "    print(num, \"COMPOSITE number\")"
   ]
  },
  {
   "cell_type": "code",
   "execution_count": 9,
   "id": "0bd852a7",
   "metadata": {},
   "outputs": [
    {
     "name": "stdout",
     "output_type": "stream",
     "text": [
      "Please enter your own text : wow\n",
      "This is a Palindrome String\n"
     ]
    }
   ],
   "source": [
    "#Ans13\n",
    "\n",
    "string = input(\"Please enter your own text : \")\n",
    "\n",
    "if(string == string[:: - 1]):\n",
    "    print(\"This is a Palindrome String\")\n",
    "else:\n",
    "    print(\"This is Not\")\n"
   ]
  },
  {
   "cell_type": "code",
   "execution_count": 12,
   "id": "36557380",
   "metadata": {},
   "outputs": [
    {
     "name": "stdout",
     "output_type": "stream",
     "text": [
      "5.0\n",
      "4.0\n"
     ]
    }
   ],
   "source": [
    "#Ans14\n",
    "\n",
    "def right_angled_triangle(one_side,second_side,hypotenuse):\n",
    "        if one_side == str(\"x\"):\n",
    "            return (str(((hypotenuse**2) - (second_side**2))**0.5))\n",
    "        elif second_side == str(\"x\"):\n",
    "            return (str(((hypotenuse**2) - (one_side**2))**0.5))\n",
    "        elif hypotenuse == str(\"x\"):\n",
    "            return (str(((one_side**2) + (second_side**2))**0.5))\n",
    "        else:\n",
    "            return \"answer!\"\n",
    "print(right_angled_triangle(3,4,'x'))\n",
    "print(right_angled_triangle(3,'x',5))"
   ]
  },
  {
   "cell_type": "code",
   "execution_count": 16,
   "id": "eeeaaab8",
   "metadata": {},
   "outputs": [
    {
     "name": "stdout",
     "output_type": "stream",
     "text": [
      "{'E': 3, 'G': 2, ' ': 5, 'I': 2, 'S': 1, 'O': 2, 'V': 1, 'A': 2, 'L': 2, 'K': 1, 'T': 2}\n"
     ]
    }
   ],
   "source": [
    "#Ans15\n",
    "\n",
    "str = \"EGG IS OVAL LIKE TO EAT\"\n",
    "\n",
    "\n",
    "dict = {}\n",
    "\n",
    "for i in str:\n",
    "\n",
    "    if i in dict:\n",
    "        dict[i] += 1\n",
    "\n",
    "   \n",
    "    else:\n",
    "        dict[i] = 1\n",
    "\n",
    "\n",
    "print(dict)"
   ]
  }
 ],
 "metadata": {
  "kernelspec": {
   "display_name": "Python 3 (ipykernel)",
   "language": "python",
   "name": "python3"
  },
  "language_info": {
   "codemirror_mode": {
    "name": "ipython",
    "version": 3
   },
   "file_extension": ".py",
   "mimetype": "text/x-python",
   "name": "python",
   "nbconvert_exporter": "python",
   "pygments_lexer": "ipython3",
   "version": "3.9.7"
  }
 },
 "nbformat": 4,
 "nbformat_minor": 5
}
